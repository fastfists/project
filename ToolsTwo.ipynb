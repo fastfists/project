{
 "cells": [
  {
   "cell_type": "markdown",
   "metadata": {},
   "source": [
    "To start, we import all of the packages that we will need in this notebook. "
   ]
  },
  {
   "cell_type": "code",
   "execution_count": 1,
   "metadata": {},
   "outputs": [],
   "source": [
    "import glob\n",
    "import pandas as pd\n",
    "import numpy as np\n",
    "from scipy.integrate import quad\n",
    "from scipy.optimize import curve_fit\n",
    "import matplotlib.pyplot as plt\n",
    "import seaborn as sns"
   ]
  },
  {
   "cell_type": "markdown",
   "metadata": {},
   "source": [
    "# Stage 1: Preprocess The data"
   ]
  },
  {
   "cell_type": "markdown",
   "metadata": {},
   "source": [
    "### Adding the features we will need to optimize to a DataFrame and then exporting to a csv"
   ]
  },
  {
   "cell_type": "markdown",
   "metadata": {},
   "source": [
    "Here we read in the well production.csv file "
   ]
  },
  {
   "cell_type": "code",
   "execution_count": 2,
   "metadata": {},
   "outputs": [],
   "source": [
    "well_productions = pd.read_csv(\"well productions/well production.csv\")"
   ]
  },
  {
   "cell_type": "markdown",
   "metadata": {},
   "source": [
    "Here we read in the csv file for each well "
   ]
  },
  {
   "cell_type": "code",
   "execution_count": 3,
   "metadata": {},
   "outputs": [],
   "source": [
    "import csv\n",
    "datas = []\n",
    "for file in glob.glob(\"well productions/*\"):\n",
    "    if \"well production.csv\" not in file:\n",
    "        frame = pd.read_csv(file)\n",
    "        # Strip off the extra things on the end\n",
    "        frame[\"Name\"] = file[17:-4]\n",
    "        datas.append(frame)"
   ]
  },
  {
   "cell_type": "markdown",
   "metadata": {},
   "source": [
    "The following function calculates the well length for each well and adds the well length of each well to the DataFrame\n"
   ]
  },
  {
   "cell_type": "code",
   "execution_count": 4,
   "metadata": {},
   "outputs": [],
   "source": [
    "def well_length(dataframe: pd.DataFrame):\n",
    "    dataframe[\"well length\"] = dataframe[\"easting\"].iloc[-1] - dataframe[\"easting\"][0]"
   ]
  },
  {
   "cell_type": "markdown",
   "metadata": {},
   "source": [
    "The following function calculates the number of frac stages for each well and adds the calculated value to the DataFrame"
   ]
  },
  {
   "cell_type": "code",
   "execution_count": 5,
   "metadata": {},
   "outputs": [],
   "source": [
    "def frac_stages(dataframe : pd.DataFrame):\n",
    "    dataframe[\"frac stages\"] = dataframe[dataframe[\"proppant weight (lbs)\"].isna() == False].shape[0]"
   ]
  },
  {
   "cell_type": "markdown",
   "metadata": {},
   "source": [
    "The following function sets proppant per stage as \"ppf.\" It will default to the maximum weight. "
   ]
  },
  {
   "cell_type": "code",
   "execution_count": 6,
   "metadata": {},
   "outputs": [],
   "source": [
    "\"\"\"\n",
    "Sets a proppant per stage as \"ppf\" defaults to the maximum weight\n",
    "method can be [\"min, \"max\", \"avg\"]\n",
    "\"\"\"\n",
    "def proppant_per_stage(dataframe: pd.DataFrame, method=\"avg\"):\n",
    "    if method == \"min\":\n",
    "        val = min(dataframe[\"proppant weight (lbs)\"])\n",
    "    elif method == \"max\":\n",
    "        val = max(dataframe[\"proppant weight (lbs)\"])\n",
    "    elif method == \"avg\":\n",
    "        val = dataframe[\"proppant weight (lbs)\"].describe()[\"mean\"]\n",
    "    else:\n",
    "        raise Exception(f\"No method found for {method}\")\n",
    "    dataframe[\"ppf\"] = val"
   ]
  },
  {
   "cell_type": "markdown",
   "metadata": {},
   "source": [
    "The following function sets pump rate as \"pr.\" It will default to the maximum rate. "
   ]
  },
  {
   "cell_type": "code",
   "execution_count": 7,
   "metadata": {},
   "outputs": [],
   "source": [
    "\"\"\"\n",
    "Sets a pump rate as \"pr\" defaults to the maximum weight\n",
    "method can be [\"min, \"max\", \"avg\"]\n",
    "\"\"\"\n",
    "def pump_rate(dataframe: pd.DataFrame, method=\"avg\"):\n",
    "    if method == \"min\":\n",
    "        val = min(dataframe[\"pump rate (cubic feet/min)\"])\n",
    "    elif method == \"max\":\n",
    "        val = max(dataframe[\"pump rate (cubic feet/min)\"])\n",
    "    elif method == \"avg\":\n",
    "        val = dataframe[\"pump rate (cubic feet/min)\"].describe()[\"mean\"]\n",
    "    else:\n",
    "        raise Exception(f\"No method found for {method}\")\n",
    "    dataframe[\"pr\"] = val"
   ]
  },
  {
   "cell_type": "markdown",
   "metadata": {},
   "source": [
    "The below function finds how many years the well will economically produce oil, under the assumption that up to 93 barrels of oil is economical. To arrive at this value we **NEED TO RATIONALIZE THIS VALUE** "
   ]
  },
  {
   "cell_type": "code",
   "execution_count": 8,
   "metadata": {},
   "outputs": [],
   "source": [
    "def life_of_res(qi, D):\n",
    "    lifetime = 1/D*np.log(qi/93)\n",
    "    if lifetime < 0:\n",
    "        return 0\n",
    "    else: \n",
    "        return lifetime"
   ]
  },
  {
   "cell_type": "markdown",
   "metadata": {},
   "source": [
    "exponential loss curve\n",
    "\n",
    "$ q(t) = q_ie^{-Dt} $\n",
    "\n",
    "Where $D$ is the decline rate and $q_i$ is the initial rate of production\n",
    "Exponential decline curve equation\n",
    "\n",
    "    Arguments:\n",
    "        t:  Number of months the well has been producing oil \n",
    "        qi: Float. Initial production rate when well first came online.\n",
    "        di: Float. Nominal decline rate (constant)\n",
    "        \n",
    "    Output: \n",
    "        Returns q, or the expected production rate at time t. Float."
   ]
  },
  {
   "cell_type": "code",
   "execution_count": 9,
   "metadata": {},
   "outputs": [],
   "source": [
    "def exponential_loss(t, qi, D): \n",
    "    return qi*np.exp(-D*t)"
   ]
  },
  {
   "cell_type": "markdown",
   "metadata": {},
   "source": [
    " $ q(t) = \\frac{q_i}{(1+bDt)^{1.0/b}} $\n",
    " \n",
    " Hyperbolic decline curve equation\n",
    " \n",
    "    Arguments:\n",
    "        t:  Number of months the well has been producing oil\n",
    "        qi: Float. Initial production rate when well first came online.\n",
    "        b:  Float. Hyperbolic decline constant\n",
    "        di: Float. Nominal decline rate at time t=0\n",
    "    Output: \n",
    "        Returns q, or the expected production rate at time t. Float."
   ]
  },
  {
   "cell_type": "code",
   "execution_count": 10,
   "metadata": {},
   "outputs": [],
   "source": [
    "def hyperbolic_loss(t, qi, b, di):\n",
    "    return qi/((1.0+b*di*t)**(1.0/b))"
   ]
  },
  {
   "cell_type": "markdown",
   "metadata": {},
   "source": [
    "This function allows you to look at the first X months of production, and selects the highest production month as max initial production. It returns the max initial production in the first X months along with a series that contains the values of oil production for the first 12 months. \n",
    "    \n",
    "    Arguments:\n",
    "        number_first_months: int. Number of months from the point the well comes online\n",
    "        to compare to get the max initial production rate qi (this looks at multiple months\n",
    "        in case there is a production ramp-up)\n",
    "        \n",
    "        well_name: String. name of the well where we're attempting to get\n",
    "        the max volume from."
   ]
  },
  {
   "cell_type": "code",
   "execution_count": 11,
   "metadata": {},
   "outputs": [],
   "source": [
    "def get_max_initial_production(number_first_months, well_name):\n",
    "    \n",
    "    row = well_productions.loc[well_productions[\"well name\"] == well_name]\n",
    "    val=0      \n",
    "    row = row.filter(regex='oil')\n",
    "    row=row.T.squeeze()\n",
    "    \n",
    "    for i in range(number_first_months):\n",
    "        val = max(row[i], val)\n",
    "\n",
    "    return val, row"
   ]
  },
  {
   "cell_type": "markdown",
   "metadata": {},
   "source": [
    "The below two functions find the defined integral of the fitted exponential and hyperbolic equations between 0 and the calculated life of the reservoir. Our team found that was easier to use an integral then implement the equation fround in the \"Hinge Basin\" notebook. \n",
    "\n",
    "$ N_p = \\int_0^{L_t} q(t)dt $ Where $N_p$ is total production and $L_t$ is the lifetime of the well"
   ]
  },
  {
   "cell_type": "code",
   "execution_count": 12,
   "metadata": {},
   "outputs": [],
   "source": [
    "def get_cumulative_exponential(qi, D):\n",
    "    return quad(exponential_loss, 0, life_of_res(qi, D), args=(qi,D))\n",
    "\n",
    "def get_cumulative_hyperbolic(qi, b, di):\n",
    "    return quad(hyperbolic_loss, 0, life_of_res(qi, di), args=(qi, b, di))"
   ]
  },
  {
   "cell_type": "markdown",
   "metadata": {},
   "source": [
    "$N_{p} = (\\frac{q_{i}}{D})ln(\\frac{q_{i}}{q})$"
   ]
  },
  {
   "cell_type": "code",
   "execution_count": 13,
   "metadata": {},
   "outputs": [],
   "source": [
    "def get_cumulative_other(qi, D, qt):\n",
    "    t = life_of_res(qi, D)\n",
    "    q = qt(t, qi, D) # for the exponential equation\n",
    "    return (qi/D) * np.log(qi/q)"
   ]
  },
  {
   "cell_type": "markdown",
   "metadata": {},
   "source": [
    "The following function will add the expected lifetime of the well when using the exponential_loss function and the hyperbolic function then add the respective values to the dataframe. Following that, it will find the cumulative production with the least amount of error out of the two functions, and add that value to the DataFrame. "
   ]
  },
  {
   "cell_type": "code",
   "execution_count": 14,
   "metadata": {},
   "outputs": [],
   "source": [
    "time_series=pd.Series(list(range(12)))\n",
    "def cum_production(dataframe: pd.DataFrame, find_min=False):\n",
    "    #find the name of the current well being examined\n",
    "    name = dataframe[\"Name\"][0]\n",
    "    #Set qi equal to the maximum production in the first 5 months of this well's lifespan, and row equal to the series of the \n",
    "    #first 12 months' production values\n",
    "    qi, row = get_max_initial_production(5, name)\n",
    "    \n",
    "    #Use the scipy curve_fit function to get the best possible exponential and hyperbolic curves\n",
    "    popt_exp, pcov_exp = curve_fit(exponential_loss, time_series, row, bounds=(0, [qi,20]))\n",
    "    popt_hyp, pcov_hyp=curve_fit(hyperbolic_loss, time_series, row,bounds=(0, [qi,2,20]))\n",
    "    \n",
    "    #Get the defined integral's value and error for both the exponential and hyperbolic curves\n",
    "    cp_exp = get_cumulative_exponential(*popt_exp)\n",
    "    cp_hyp = get_cumulative_hyperbolic(*popt_hyp)\n",
    "\n",
    "    #Set cumulative production to whichever defined integral has the least error\n",
    "    if cp_exp[1] < cp_hyp[1]: \n",
    "        cum_production = cp_exp[0]\n",
    "    else: \n",
    "        cum_production = cp_hyp[0]\n",
    "\n",
    "    #Add the respected calculated lifetimes for the exponential and hyperbolic curves to the dataframe then add the \n",
    "    #calculated cumulative production. \n",
    "    dataframe[\"lifetime_exp\"] = life_of_res(*popt_exp)\n",
    "    dataframe[\"lifetime_hyp\"] = life_of_res(popt_hyp[0], popt_hyp[2])\n",
    "    dataframe[\"cum_production\"] = cum_production\n",
    "    \n",
    "    \n",
    "    dataframe[\"cum_production_other\"] = get_cumulative_other(popt_exp[0], popt_exp[1], exponential_loss)\n"
   ]
  },
  {
   "cell_type": "markdown",
   "metadata": {},
   "source": [
    "Here we call all of the functions we wrote that add the values we will need to optimize to the DataFrame "
   ]
  },
  {
   "cell_type": "code",
   "execution_count": 15,
   "metadata": {},
   "outputs": [],
   "source": [
    "%%capture\n",
    "list(map(cum_production, datas))\n",
    "list(map(well_length, datas))\n",
    "list(map(frac_stages, datas))\n",
    "list(map(proppant_per_stage, datas))\n",
    "list(map(pump_rate, datas))"
   ]
  },
  {
   "cell_type": "markdown",
   "metadata": {},
   "source": [
    "Here we drop the duplicate wells from the dataframe"
   ]
  },
  {
   "cell_type": "code",
   "execution_count": 16,
   "metadata": {
    "scrolled": true
   },
   "outputs": [],
   "source": [
    "%%capture\n",
    "big_df = pd.concat(datas)\n",
    "## Removing duplicates makes graphing well locations significantly harder. Remove duplicates when regressing\n",
    "# big_df.drop_duplicates(subset=['Name'], inplace=True)"
   ]
  },
  {
   "cell_type": "markdown",
   "metadata": {},
   "source": [
    "Here we export our DataFrame to a new csv file so we no longer need to run preprocessing cells above"
   ]
  },
  {
   "cell_type": "code",
   "execution_count": 17,
   "metadata": {},
   "outputs": [],
   "source": [
    "big_df.to_csv(\"bigPoppa.csv\", index=False)"
   ]
  },
  {
   "cell_type": "markdown",
   "metadata": {},
   "source": [
    "# Stage2: Creating a model to predict cumulative output"
   ]
  },
  {
   "cell_type": "markdown",
   "metadata": {},
   "source": [
    "### Creating a model that uses the features we added to the dataframe to predict cumulative output"
   ]
  },
  {
   "cell_type": "markdown",
   "metadata": {},
   "source": [
    "**We should finally be able to get to the fun stuff now 😁**"
   ]
  },
  {
   "cell_type": "code",
   "execution_count": 18,
   "metadata": {},
   "outputs": [],
   "source": [
    "big_df = pd.read_csv(\"bigPoppa.csv\")"
   ]
  },
  {
   "cell_type": "code",
   "execution_count": 19,
   "metadata": {},
   "outputs": [],
   "source": [
    "data = big_df.drop_duplicates(subset=['Name'])"
   ]
  },
  {
   "cell_type": "code",
   "execution_count": 20,
   "metadata": {},
   "outputs": [
    {
     "data": {
      "text/plain": [
       "count    100.000000\n",
       "mean      35.994162\n",
       "std       11.099830\n",
       "min        0.072446\n",
       "25%       30.127467\n",
       "50%       37.639081\n",
       "75%       43.862433\n",
       "max       52.483608\n",
       "Name: lifetime_exp, dtype: float64"
      ]
     },
     "execution_count": 20,
     "metadata": {},
     "output_type": "execute_result"
    }
   ],
   "source": [
    "data[\"lifetime_exp\"].describe() # should be measured in years"
   ]
  },
  {
   "cell_type": "markdown",
   "metadata": {},
   "source": [
    "In order to apply any sort of regression to our data, we must first clean our data and remove all non-numerical values that will not add any specific input into our final predictions. For this dataset, we see that the Names column along with any rows that have NaN/Infinity/Empty data should not be included in our model. Therefore, we will remove these anomalies from our data."
   ]
  },
  {
   "cell_type": "code",
   "execution_count": 21,
   "metadata": {},
   "outputs": [],
   "source": [
    "def clean_dataset(df):\n",
    "    df = df.dropna()\n",
    "    indices_to_keep = ~df.isin([np.nan, np.inf, -np.inf]).any(1)\n",
    "    return df[indices_to_keep].astype(np.float64)"
   ]
  },
  {
   "cell_type": "code",
   "execution_count": 22,
   "metadata": {},
   "outputs": [],
   "source": [
    "from scipy import stats"
   ]
  },
  {
   "cell_type": "markdown",
   "metadata": {},
   "source": [
    "Remove outliers on the right...right skewed graph"
   ]
  },
  {
   "cell_type": "code",
   "execution_count": 23,
   "metadata": {},
   "outputs": [],
   "source": [
    "clean_data = clean_dataset(data.drop([\"Name\"], axis=1))\n",
    "clean_data = clean_data[np.abs(stats.zscore(clean_data) < 2.5).all(axis=1)] "
   ]
  },
  {
   "cell_type": "markdown",
   "metadata": {},
   "source": [
    "4027"
   ]
  },
  {
   "cell_type": "markdown",
   "metadata": {},
   "source": [
    "After cleaning our data, we will use all but the cumulative production data in our dataframe to predict our cumulative production for each well."
   ]
  },
  {
   "cell_type": "markdown",
   "metadata": {},
   "source": [
    "## Find the Important Features"
   ]
  },
  {
   "cell_type": "code",
   "execution_count": 24,
   "metadata": {},
   "outputs": [],
   "source": [
    "def feature_importances(model, features_df, thresh=0.1):\n",
    "    print(\"  Feature\".ljust(36) + \"  Score\")\n",
    "    print(\"-\"*60)\n",
    "    for i, feature in enumerate(model.feature_importances_):\n",
    "        if abs(feature) >= thresh:\n",
    "            print(\"| \", end=\"\")\n",
    "            print(f\"{features_df.columns[i]}\".ljust(36), end=\"|\")\n",
    "            print(f\"{feature}\".ljust(20), end=\"\")\n",
    "            print(\" |\")\n",
    "            print(\"-\"*60)"
   ]
  },
  {
   "cell_type": "code",
   "execution_count": 25,
   "metadata": {},
   "outputs": [],
   "source": [
    "def graph_acuracy(x, y, data, model, feature):\n",
    "    plt.scatter(x[feature], rf.predict(x), label=\"Prediction\")\n",
    "    plt.scatter(x[feature], y, label=\"Acutal\")\n",
    "    plt.xlabel(f\"{feature} value\")\n",
    "    plt.ylabel(\"Cumulative production\")\n",
    "    plt.legend()"
   ]
  },
  {
   "cell_type": "code",
   "execution_count": 26,
   "metadata": {},
   "outputs": [],
   "source": [
    "def graph_accuracy_importances(x, y, model, data, importances, thresh=0.1):\n",
    "    for i, feature in enumerate(importances):\n",
    "        if abs(feature) >= thresh:\n",
    "            feat_name = x.columns[i]\n",
    "            graph_acuracy(x, y, data, model, feat_name)\n",
    "            plt.title(f\"Acuracy of {feat_name} - Importance {feature}\")\n",
    "            plt.show()"
   ]
  },
  {
   "cell_type": "code",
   "execution_count": 27,
   "metadata": {},
   "outputs": [],
   "source": [
    "from yellowbrick.regressor import ResidualsPlot\n",
    "\n",
    "def show_residusal(model, train_tup, test_tup):\n",
    "    resPlot = ResidualsPlot(model)\n",
    "    resPlot.fit(*train_tup)\n",
    "    resPlot.score(*test_tup)\n",
    "    resPlot.show()"
   ]
  },
  {
   "cell_type": "code",
   "execution_count": 28,
   "metadata": {},
   "outputs": [
    {
     "name": "stdout",
     "output_type": "stream",
     "text": [
      "Requirement already satisfied: yellowbrick in c:\\users\\nicho\\anaconda3\\lib\\site-packages (1.2)\n",
      "Requirement already satisfied: scikit-learn>=0.20 in c:\\users\\nicho\\anaconda3\\lib\\site-packages (from yellowbrick) (0.23.2)\n",
      "Requirement already satisfied: scipy>=1.0.0 in c:\\users\\nicho\\anaconda3\\lib\\site-packages (from yellowbrick) (1.5.2)\n",
      "Requirement already satisfied: matplotlib!=3.0.0,>=2.0.2 in c:\\users\\nicho\\anaconda3\\lib\\site-packages (from yellowbrick) (3.3.2)\n",
      "Requirement already satisfied: numpy>=1.13.0 in c:\\users\\nicho\\anaconda3\\lib\\site-packages (from yellowbrick) (1.19.2)\n",
      "Requirement already satisfied: cycler>=0.10.0 in c:\\users\\nicho\\anaconda3\\lib\\site-packages (from yellowbrick) (0.10.0)\n",
      "Requirement already satisfied: threadpoolctl>=2.0.0 in c:\\users\\nicho\\anaconda3\\lib\\site-packages (from scikit-learn>=0.20->yellowbrick) (2.1.0)\n",
      "Requirement already satisfied: joblib>=0.11 in c:\\users\\nicho\\anaconda3\\lib\\site-packages (from scikit-learn>=0.20->yellowbrick) (0.17.0)\n",
      "Requirement already satisfied: kiwisolver>=1.0.1 in c:\\users\\nicho\\anaconda3\\lib\\site-packages (from matplotlib!=3.0.0,>=2.0.2->yellowbrick) (1.3.0)\n",
      "Requirement already satisfied: certifi>=2020.06.20 in c:\\users\\nicho\\anaconda3\\lib\\site-packages (from matplotlib!=3.0.0,>=2.0.2->yellowbrick) (2020.11.8)\n",
      "Requirement already satisfied: pyparsing!=2.0.4,!=2.1.2,!=2.1.6,>=2.0.3 in c:\\users\\nicho\\anaconda3\\lib\\site-packages (from matplotlib!=3.0.0,>=2.0.2->yellowbrick) (2.4.7)\n",
      "Requirement already satisfied: python-dateutil>=2.1 in c:\\users\\nicho\\anaconda3\\lib\\site-packages (from matplotlib!=3.0.0,>=2.0.2->yellowbrick) (2.8.1)\n",
      "Requirement already satisfied: pillow>=6.2.0 in c:\\users\\nicho\\anaconda3\\lib\\site-packages (from matplotlib!=3.0.0,>=2.0.2->yellowbrick) (8.0.1)\n",
      "Requirement already satisfied: six in c:\\users\\nicho\\anaconda3\\lib\\site-packages (from cycler>=0.10.0->yellowbrick) (1.15.0)\n"
     ]
    }
   ],
   "source": [
    "!pip install yellowbrick"
   ]
  },
  {
   "cell_type": "code",
   "execution_count": 29,
   "metadata": {},
   "outputs": [
    {
     "data": {
      "text/html": [
       "<div>\n",
       "<style scoped>\n",
       "    .dataframe tbody tr th:only-of-type {\n",
       "        vertical-align: middle;\n",
       "    }\n",
       "\n",
       "    .dataframe tbody tr th {\n",
       "        vertical-align: top;\n",
       "    }\n",
       "\n",
       "    .dataframe thead th {\n",
       "        text-align: right;\n",
       "    }\n",
       "</style>\n",
       "<table border=\"1\" class=\"dataframe\">\n",
       "  <thead>\n",
       "    <tr style=\"text-align: right;\">\n",
       "      <th></th>\n",
       "      <th>easting</th>\n",
       "      <th>northing</th>\n",
       "      <th>porosity</th>\n",
       "      <th>permeability</th>\n",
       "      <th>Poisson's ratio</th>\n",
       "      <th>Young's Modulus</th>\n",
       "      <th>water saturation</th>\n",
       "      <th>oil saturation</th>\n",
       "      <th>proppant weight (lbs)</th>\n",
       "      <th>pump rate (cubic feet/min)</th>\n",
       "      <th>Name</th>\n",
       "      <th>lifetime_exp</th>\n",
       "      <th>lifetime_hyp</th>\n",
       "      <th>cum_production</th>\n",
       "      <th>cum_production_other</th>\n",
       "      <th>well length</th>\n",
       "      <th>frac stages</th>\n",
       "      <th>ppf</th>\n",
       "      <th>pr</th>\n",
       "    </tr>\n",
       "  </thead>\n",
       "  <tbody>\n",
       "    <tr>\n",
       "      <th>0</th>\n",
       "      <td>41700.0</td>\n",
       "      <td>99100.0</td>\n",
       "      <td>0.04</td>\n",
       "      <td>0.006</td>\n",
       "      <td>0.301</td>\n",
       "      <td>9.391151e+06</td>\n",
       "      <td>0.206423</td>\n",
       "      <td>0.793577</td>\n",
       "      <td>957450.525302</td>\n",
       "      <td>269.739431</td>\n",
       "      <td>Brisket 1-204H</td>\n",
       "      <td>31.795917</td>\n",
       "      <td>31.795135</td>\n",
       "      <td>18616.620283</td>\n",
       "      <td>58536.282722</td>\n",
       "      <td>6974.0</td>\n",
       "      <td>50</td>\n",
       "      <td>734839.237574</td>\n",
       "      <td>295.729046</td>\n",
       "    </tr>\n",
       "    <tr>\n",
       "      <th>100</th>\n",
       "      <td>64600.0</td>\n",
       "      <td>41500.0</td>\n",
       "      <td>0.08</td>\n",
       "      <td>0.031</td>\n",
       "      <td>0.324</td>\n",
       "      <td>1.230187e+07</td>\n",
       "      <td>0.185046</td>\n",
       "      <td>0.814954</td>\n",
       "      <td>356513.179448</td>\n",
       "      <td>401.067034</td>\n",
       "      <td>Brisket 1-44H</td>\n",
       "      <td>32.834944</td>\n",
       "      <td>32.835989</td>\n",
       "      <td>20318.886290</td>\n",
       "      <td>65275.868326</td>\n",
       "      <td>9866.0</td>\n",
       "      <td>12</td>\n",
       "      <td>629170.856472</td>\n",
       "      <td>298.771886</td>\n",
       "    </tr>\n",
       "    <tr>\n",
       "      <th>200</th>\n",
       "      <td>72900.0</td>\n",
       "      <td>30500.0</td>\n",
       "      <td>0.08</td>\n",
       "      <td>0.034</td>\n",
       "      <td>0.336</td>\n",
       "      <td>9.311558e+06</td>\n",
       "      <td>0.139228</td>\n",
       "      <td>0.860772</td>\n",
       "      <td>246849.550936</td>\n",
       "      <td>270.733768</td>\n",
       "      <td>Brisket 10-65H</td>\n",
       "      <td>47.025298</td>\n",
       "      <td>47.025132</td>\n",
       "      <td>91967.803523</td>\n",
       "      <td>425343.824870</td>\n",
       "      <td>6290.0</td>\n",
       "      <td>50</td>\n",
       "      <td>807072.059668</td>\n",
       "      <td>302.781780</td>\n",
       "    </tr>\n",
       "    <tr>\n",
       "      <th>300</th>\n",
       "      <td>72900.0</td>\n",
       "      <td>5300.0</td>\n",
       "      <td>0.09</td>\n",
       "      <td>0.043</td>\n",
       "      <td>0.314</td>\n",
       "      <td>9.446411e+06</td>\n",
       "      <td>0.192124</td>\n",
       "      <td>0.807876</td>\n",
       "      <td>652732.541059</td>\n",
       "      <td>373.060379</td>\n",
       "      <td>Brisket 2-149H</td>\n",
       "      <td>51.559547</td>\n",
       "      <td>51.560152</td>\n",
       "      <td>143372.187733</td>\n",
       "      <td>724153.842146</td>\n",
       "      <td>7191.0</td>\n",
       "      <td>50</td>\n",
       "      <td>874335.919457</td>\n",
       "      <td>298.133691</td>\n",
       "    </tr>\n",
       "    <tr>\n",
       "      <th>400</th>\n",
       "      <td>81700.0</td>\n",
       "      <td>30000.0</td>\n",
       "      <td>0.10</td>\n",
       "      <td>0.040</td>\n",
       "      <td>0.333</td>\n",
       "      <td>9.947234e+06</td>\n",
       "      <td>0.215958</td>\n",
       "      <td>0.784042</td>\n",
       "      <td>470219.092642</td>\n",
       "      <td>254.088125</td>\n",
       "      <td>Brisket 3-212H</td>\n",
       "      <td>39.532522</td>\n",
       "      <td>39.532906</td>\n",
       "      <td>42950.540211</td>\n",
       "      <td>167776.021654</td>\n",
       "      <td>7521.0</td>\n",
       "      <td>25</td>\n",
       "      <td>684992.449778</td>\n",
       "      <td>292.153079</td>\n",
       "    </tr>\n",
       "  </tbody>\n",
       "</table>\n",
       "</div>"
      ],
      "text/plain": [
       "     easting  northing  porosity  permeability  Poisson's ratio  \\\n",
       "0    41700.0   99100.0      0.04         0.006            0.301   \n",
       "100  64600.0   41500.0      0.08         0.031            0.324   \n",
       "200  72900.0   30500.0      0.08         0.034            0.336   \n",
       "300  72900.0    5300.0      0.09         0.043            0.314   \n",
       "400  81700.0   30000.0      0.10         0.040            0.333   \n",
       "\n",
       "     Young's Modulus  water saturation  oil saturation  proppant weight (lbs)  \\\n",
       "0       9.391151e+06          0.206423        0.793577          957450.525302   \n",
       "100     1.230187e+07          0.185046        0.814954          356513.179448   \n",
       "200     9.311558e+06          0.139228        0.860772          246849.550936   \n",
       "300     9.446411e+06          0.192124        0.807876          652732.541059   \n",
       "400     9.947234e+06          0.215958        0.784042          470219.092642   \n",
       "\n",
       "     pump rate (cubic feet/min)            Name  lifetime_exp  lifetime_hyp  \\\n",
       "0                    269.739431  Brisket 1-204H     31.795917     31.795135   \n",
       "100                  401.067034   Brisket 1-44H     32.834944     32.835989   \n",
       "200                  270.733768  Brisket 10-65H     47.025298     47.025132   \n",
       "300                  373.060379  Brisket 2-149H     51.559547     51.560152   \n",
       "400                  254.088125  Brisket 3-212H     39.532522     39.532906   \n",
       "\n",
       "     cum_production  cum_production_other  well length  frac stages  \\\n",
       "0      18616.620283          58536.282722       6974.0           50   \n",
       "100    20318.886290          65275.868326       9866.0           12   \n",
       "200    91967.803523         425343.824870       6290.0           50   \n",
       "300   143372.187733         724153.842146       7191.0           50   \n",
       "400    42950.540211         167776.021654       7521.0           25   \n",
       "\n",
       "               ppf          pr  \n",
       "0    734839.237574  295.729046  \n",
       "100  629170.856472  298.771886  \n",
       "200  807072.059668  302.781780  \n",
       "300  874335.919457  298.133691  \n",
       "400  684992.449778  292.153079  "
      ]
     },
     "execution_count": 29,
     "metadata": {},
     "output_type": "execute_result"
    }
   ],
   "source": [
    "data.head()"
   ]
  },
  {
   "cell_type": "code",
   "execution_count": 30,
   "metadata": {},
   "outputs": [],
   "source": [
    "drop_columns = ['cum_production', 'cum_production_other', 'lifetime_hyp', 'lifetime_exp','frac stages', 'northing']\n",
    "# Changed this to just look at the values we are supposed to \n",
    "x = clean_data.drop(drop_columns, axis = 1)\n",
    "#x = clean_data[[\"ppf\", \"pr\", \"well length\", \"frac stages\"]]\n",
    "y = np.log(clean_data['cum_production']) # predict on the ln(cum) hopefully will linearlize it"
   ]
  },
  {
   "cell_type": "code",
   "execution_count": 31,
   "metadata": {},
   "outputs": [],
   "source": [
    "from sklearn.model_selection import train_test_split\n",
    "x_train, x_test, y_train, y_test = train_test_split(x,y, test_size=0.25, random_state=86)\n",
    "train, test = (x_train, y_train), (x_test, y_test)"
   ]
  },
  {
   "cell_type": "code",
   "execution_count": 32,
   "metadata": {},
   "outputs": [
    {
     "data": {
      "image/png": "[encoded data removed]",
      "text/plain": [
       "<Figure size 576x396 with 2 Axes>"
      ]
     },
     "metadata": {},
     "output_type": "display_data"
    }
   ],
   "source": [
    "from sklearn.ensemble import RandomForestRegressor\n",
    "rf = RandomForestRegressor(n_jobs=11,  random_state=86)\n",
    "show_residusal(rf, train, test)"
   ]
  },
  {
   "cell_type": "code",
   "execution_count": 33,
   "metadata": {},
   "outputs": [
    {
     "name": "stdout",
     "output_type": "stream",
     "text": [
      "  Feature                             Score\n",
      "------------------------------------------------------------\n",
      "| easting                             |0.1089591565105045   |\n",
      "------------------------------------------------------------\n",
      "| permeability                        |0.14082304641940935  |\n",
      "------------------------------------------------------------\n",
      "| ppf                                 |0.40893208962059585  |\n",
      "------------------------------------------------------------\n"
     ]
    }
   ],
   "source": [
    "feature_importances(rf, x, 0.1)"
   ]
  },
  {
   "cell_type": "markdown",
   "metadata": {},
   "source": [
    "Lets see how these features correlate to our production"
   ]
  },
  {
   "cell_type": "code",
   "execution_count": 34,
   "metadata": {},
   "outputs": [
    {
     "data": {
      "image/png": "[encoded data removed]",
      "text/plain": [
       "<Figure size 576x396 with 1 Axes>"
      ]
     },
     "metadata": {},
     "output_type": "display_data"
    },
    {
     "data": {
      "image/png": "[encoded data removed]",
      "text/plain": [
       "<Figure size 576x396 with 1 Axes>"
      ]
     },
     "metadata": {},
     "output_type": "display_data"
    },
    {
     "data": {
      "image/png": "[encoded data removed]",
      "text/plain": [
       "<Figure size 576x396 with 1 Axes>"
      ]
     },
     "metadata": {},
     "output_type": "display_data"
    }
   ],
   "source": [
    "graph_accuracy_importances(x, y, rf, data, rf.feature_importances_)"
   ]
  },
  {
   "cell_type": "markdown",
   "metadata": {},
   "source": [
    "Below we will see the differences between the regressor's predictions and the actual cumulative production"
   ]
  },
  {
   "cell_type": "code",
   "execution_count": 35,
   "metadata": {},
   "outputs": [
    {
     "data": {
      "image/png": "[encoded data removed]",
      "text/plain": [
       "<Figure size 576x396 with 2 Axes>"
      ]
     },
     "metadata": {},
     "output_type": "display_data"
    }
   ],
   "source": [
    "from sklearn.ensemble import ExtraTreesRegressor\n",
    "etr = ExtraTreesRegressor(random_state=86)\n",
    "show_residusal(etr, train, test)"
   ]
  },
  {
   "cell_type": "code",
   "execution_count": 36,
   "metadata": {},
   "outputs": [
    {
     "name": "stdout",
     "output_type": "stream",
     "text": [
      "  Feature                             Score\n",
      "------------------------------------------------------------\n",
      "| easting                             |0.18127583740985626  |\n",
      "------------------------------------------------------------\n",
      "| porosity                            |0.10124201376051946  |\n",
      "------------------------------------------------------------\n",
      "| ppf                                 |0.16466819240989847  |\n",
      "------------------------------------------------------------\n",
      "| pr                                  |0.1963268043911457   |\n",
      "------------------------------------------------------------\n"
     ]
    }
   ],
   "source": [
    "feature_importances(etr, x)"
   ]
  },
  {
   "cell_type": "markdown",
   "metadata": {},
   "source": [
    "Predict the following values:\n",
    "- porosity\n",
    "- perm\n",
    "- Young \n",
    "- "
   ]
  },
  {
   "cell_type": "code",
   "execution_count": 37,
   "metadata": {},
   "outputs": [],
   "source": [
    "def create_regressor(data:pd.DataFrame, x_names: list, y_name:str):\n",
    "    ds = clean_dataset(data)\n",
    "    x = ds[x_names]\n",
    "    y = ds[y_name]\n",
    "    \n",
    "    rf = RandomForestRegressor(random_state=86)\n",
    "    rf.fit(x, y)\n",
    "    return rf"
   ]
  },
  {
   "cell_type": "code",
   "execution_count": 38,
   "metadata": {},
   "outputs": [],
   "source": [
    "vals = [\"easting\",\"ppf\", \"pr\", \"pump rate (cubic feet/min)\",'pump rate (cubic feet/min)', 'proppant weight (lbs)', 'well length']\n",
    "dicto = {}\n",
    "optim = list(x.drop(vals, axis=1).keys())\n",
    "for var in optim:\n",
    "    reg = create_regressor(big_df.drop(\"Name\", axis=1), [\"easting\", \"northing\"], var)\n",
    "    dicto[var] = reg"
   ]
  },
  {
   "cell_type": "markdown",
   "metadata": {},
   "source": [
    "The data here seems to be easily clusterable"
   ]
  },
  {
   "cell_type": "code",
   "execution_count": 39,
   "metadata": {},
   "outputs": [
    {
     "data": {
      "text/plain": [
       "<AxesSubplot:xlabel='easting', ylabel='northing'>"
      ]
     },
     "execution_count": 39,
     "metadata": {},
     "output_type": "execute_result"
    },
    {
     "data": {
      "image/png": "[encoded data removed]",
      "text/plain": [
       "<Figure size 576x396 with 1 Axes>"
      ]
     },
     "metadata": {},
     "output_type": "display_data"
    }
   ],
   "source": [
    "sns.scatterplot(data=big_df, x=\"easting\", y=\"northing\", hue=\"permeability\")"
   ]
  },
  {
   "cell_type": "markdown",
   "metadata": {},
   "source": [
    "# Stage 3: Choosing Parameters"
   ]
  },
  {
   "cell_type": "markdown",
   "metadata": {},
   "source": [
    "We want to look at the\n",
    "- [ ] Well Length\n",
    "- [ ] Frac stage count\n",
    "- [ ] Proppant per stage - Variable\n",
    "- [ ] Pump rate per stage - Variable"
   ]
  },
  {
   "cell_type": "code",
   "execution_count": 40,
   "metadata": {},
   "outputs": [
    {
     "name": "stdout",
     "output_type": "stream",
     "text": [
      "Requirement already satisfied: tqdm in c:\\users\\nicho\\anaconda3\\lib\\site-packages (4.51.0)\n"
     ]
    }
   ],
   "source": [
    "!pip install tqdm"
   ]
  },
  {
   "cell_type": "code",
   "execution_count": 41,
   "metadata": {},
   "outputs": [],
   "source": [
    "def iterate_over(df, var_name, step=100):\n",
    "    min_ = min(df[var_name])\n",
    "    max_ = max(df[var_name])\n",
    "    for i in np.arange(min_, max_, step):\n",
    "        yield i"
   ]
  },
  {
   "cell_type": "code",
   "execution_count": 42,
   "metadata": {},
   "outputs": [],
   "source": [
    "def iter_hypers():\n",
    "    values = {}\n",
    "    for north in iterate_over(data, \"northing\", step=100000):\n",
    "        values[\"northing\"] = north\n",
    "        for east in iterate_over(data, \"easting\", step=100000):\n",
    "            values[\"easting\"] = north\n",
    "            # Predict \n",
    "            for key in dicto.keys():\n",
    "                arr = np.array([north, east]).reshape(1, -1)\n",
    "                values[key] = dicto[key].predict( arr )\n",
    "            for well in iterate_over(data, \"well length\"):\n",
    "                values[\"well length\"] = well\n",
    "                for frac in iterate_over(data, \"frac stages\"):\n",
    "                    values[\"frac stages\"] = frac\n",
    "                    for prop in iterate_over(data, \"ppf\"):\n",
    "                        values[\"ppf\"] = prop\n",
    "                        for pump in iterate_over(data, \"pr\"):\n",
    "                            values[\"pr\"] = pump\n",
    "                            yield pd.DataFrame(values)"
   ]
  },
  {
   "cell_type": "code",
   "execution_count": null,
   "metadata": {},
   "outputs": [],
   "source": [
    "even_larger_daddy = pd.concat(iter_hypers())"
   ]
  },
  {
   "cell_type": "code",
   "execution_count": null,
   "metadata": {},
   "outputs": [],
   "source": [
    "even_large_daddy.to_csv(\"biggerPoppa.csv\", index=False)"
   ]
  },
  {
   "cell_type": "markdown",
   "metadata": {},
   "source": [
    "# Stage 4: Well location"
   ]
  },
  {
   "cell_type": "markdown",
   "metadata": {},
   "source": [
    "Graph all well locations"
   ]
  },
  {
   "cell_type": "code",
   "execution_count": null,
   "metadata": {},
   "outputs": [],
   "source": [
    "sns.scatterplot(data=big_df, x=\"easting\", y=\"northing\", hue=\"easting\")\n",
    "plt.ylabel(\"Northing\")\n",
    "plt.xlabel(\"Easting\")\n",
    "plt.title(\"Location of Horizontal wells, starting position\")\n",
    "plt.legend('', frameon=False) # remove the legend\n",
    "plt.show()"
   ]
  },
  {
   "cell_type": "markdown",
   "metadata": {},
   "source": [
    "Change in water saturation"
   ]
  },
  {
   "cell_type": "markdown",
   "metadata": {},
   "source": [
    "# Stage 5: The other params needed to make him happy"
   ]
  },
  {
   "cell_type": "markdown",
   "metadata": {},
   "source": [
    "### Oil In Place"
   ]
  },
  {
   "cell_type": "markdown",
   "metadata": {},
   "source": [
    "$OOIP(STB) = \\frac{7758AH\\phi(1-S_{w})}{FVF}$\n",
    "\n",
    "* where $A$ is the area of the reservoir (acres), $H$ is the thickness of the reservoir (feet), $\\phi$ is porosity (%), $Sw$ is water saturation (%), and $FVF$ is the formation volume factor which is a constant "
   ]
  },
  {
   "cell_type": "code",
   "execution_count": 55,
   "metadata": {},
   "outputs": [],
   "source": [
    "def OOIP(dataframe: pd.DataFrame):\n",
    "    dataframe[\"OOIP\"] = (7758 * 230400 * 50 * dataframe[\"porosity\"] * (1 - dataframe[\"water saturation\"])) / 1.6\n",
    "    dataframe[\"recovery factor\"] = dataframe[\"cum_production_other\"]/dataframe[\"OOIP\"] * 100"
   ]
  },
  {
   "cell_type": "code",
   "execution_count": 69,
   "metadata": {},
   "outputs": [
    {
     "name": "stdout",
     "output_type": "stream",
     "text": [
      "OOIP:  2505387250.347729\n",
      "recovery factor:  0.18515335799220717\n"
     ]
    }
   ],
   "source": [
    "OOIP = (7758 * 230400 * 50 * big_df[\"porosity\"].mean() * (1 - big_df[\"water saturation\"].mean())) / 1.6\n",
    "print(\"OOIP: \" , OOIP)\n",
    "print(\"recovery factor: \", big_df[\"cum_production\"].sum()/OOIP)"
   ]
  },
  {
   "cell_type": "code",
   "execution_count": 59,
   "metadata": {},
   "outputs": [
    {
     "data": {
      "text/html": [
       "<div>\n",
       "<style scoped>\n",
       "    .dataframe tbody tr th:only-of-type {\n",
       "        vertical-align: middle;\n",
       "    }\n",
       "\n",
       "    .dataframe tbody tr th {\n",
       "        vertical-align: top;\n",
       "    }\n",
       "\n",
       "    .dataframe thead th {\n",
       "        text-align: right;\n",
       "    }\n",
       "</style>\n",
       "<table border=\"1\" class=\"dataframe\">\n",
       "  <thead>\n",
       "    <tr style=\"text-align: right;\">\n",
       "      <th></th>\n",
       "      <th>easting</th>\n",
       "      <th>northing</th>\n",
       "      <th>porosity</th>\n",
       "      <th>permeability</th>\n",
       "      <th>Poisson's ratio</th>\n",
       "      <th>Young's Modulus</th>\n",
       "      <th>water saturation</th>\n",
       "      <th>oil saturation</th>\n",
       "      <th>proppant weight (lbs)</th>\n",
       "      <th>pump rate (cubic feet/min)</th>\n",
       "      <th>...</th>\n",
       "      <th>lifetime_exp</th>\n",
       "      <th>lifetime_hyp</th>\n",
       "      <th>cum_production</th>\n",
       "      <th>cum_production_other</th>\n",
       "      <th>well length</th>\n",
       "      <th>frac stages</th>\n",
       "      <th>ppf</th>\n",
       "      <th>pr</th>\n",
       "      <th>OOIP</th>\n",
       "      <th>recovery factor</th>\n",
       "    </tr>\n",
       "  </thead>\n",
       "  <tbody>\n",
       "    <tr>\n",
       "      <th>0</th>\n",
       "      <td>41700.0</td>\n",
       "      <td>99100.0</td>\n",
       "      <td>0.04</td>\n",
       "      <td>0.006</td>\n",
       "      <td>0.301</td>\n",
       "      <td>9.391151e+06</td>\n",
       "      <td>0.206423</td>\n",
       "      <td>0.793577</td>\n",
       "      <td>9.574505e+05</td>\n",
       "      <td>269.739431</td>\n",
       "      <td>...</td>\n",
       "      <td>31.795917</td>\n",
       "      <td>31.795135</td>\n",
       "      <td>18616.620283</td>\n",
       "      <td>58536.282722</td>\n",
       "      <td>6974.0</td>\n",
       "      <td>50</td>\n",
       "      <td>734839.237574</td>\n",
       "      <td>295.729046</td>\n",
       "      <td>1.773092e+09</td>\n",
       "      <td>0.003301</td>\n",
       "    </tr>\n",
       "    <tr>\n",
       "      <th>1</th>\n",
       "      <td>41770.0</td>\n",
       "      <td>99100.0</td>\n",
       "      <td>0.03</td>\n",
       "      <td>0.004</td>\n",
       "      <td>0.301</td>\n",
       "      <td>9.401125e+06</td>\n",
       "      <td>0.206561</td>\n",
       "      <td>0.793439</td>\n",
       "      <td>NaN</td>\n",
       "      <td>NaN</td>\n",
       "      <td>...</td>\n",
       "      <td>31.795917</td>\n",
       "      <td>31.795135</td>\n",
       "      <td>18616.620283</td>\n",
       "      <td>58536.282722</td>\n",
       "      <td>6974.0</td>\n",
       "      <td>50</td>\n",
       "      <td>734839.237574</td>\n",
       "      <td>295.729046</td>\n",
       "      <td>1.329588e+09</td>\n",
       "      <td>0.004403</td>\n",
       "    </tr>\n",
       "    <tr>\n",
       "      <th>2</th>\n",
       "      <td>41841.0</td>\n",
       "      <td>99100.0</td>\n",
       "      <td>0.03</td>\n",
       "      <td>0.004</td>\n",
       "      <td>0.301</td>\n",
       "      <td>9.401125e+06</td>\n",
       "      <td>0.206561</td>\n",
       "      <td>0.793439</td>\n",
       "      <td>3.772825e+05</td>\n",
       "      <td>352.043256</td>\n",
       "      <td>...</td>\n",
       "      <td>31.795917</td>\n",
       "      <td>31.795135</td>\n",
       "      <td>18616.620283</td>\n",
       "      <td>58536.282722</td>\n",
       "      <td>6974.0</td>\n",
       "      <td>50</td>\n",
       "      <td>734839.237574</td>\n",
       "      <td>295.729046</td>\n",
       "      <td>1.329588e+09</td>\n",
       "      <td>0.004403</td>\n",
       "    </tr>\n",
       "    <tr>\n",
       "      <th>3</th>\n",
       "      <td>41911.0</td>\n",
       "      <td>99100.0</td>\n",
       "      <td>0.03</td>\n",
       "      <td>0.003</td>\n",
       "      <td>0.300</td>\n",
       "      <td>9.411209e+06</td>\n",
       "      <td>0.206701</td>\n",
       "      <td>0.793299</td>\n",
       "      <td>NaN</td>\n",
       "      <td>NaN</td>\n",
       "      <td>...</td>\n",
       "      <td>31.795917</td>\n",
       "      <td>31.795135</td>\n",
       "      <td>18616.620283</td>\n",
       "      <td>58536.282722</td>\n",
       "      <td>6974.0</td>\n",
       "      <td>50</td>\n",
       "      <td>734839.237574</td>\n",
       "      <td>295.729046</td>\n",
       "      <td>1.329353e+09</td>\n",
       "      <td>0.004403</td>\n",
       "    </tr>\n",
       "    <tr>\n",
       "      <th>4</th>\n",
       "      <td>41982.0</td>\n",
       "      <td>99100.0</td>\n",
       "      <td>0.03</td>\n",
       "      <td>0.002</td>\n",
       "      <td>0.300</td>\n",
       "      <td>9.421400e+06</td>\n",
       "      <td>0.206844</td>\n",
       "      <td>0.793156</td>\n",
       "      <td>8.998769e+04</td>\n",
       "      <td>300.275028</td>\n",
       "      <td>...</td>\n",
       "      <td>31.795917</td>\n",
       "      <td>31.795135</td>\n",
       "      <td>18616.620283</td>\n",
       "      <td>58536.282722</td>\n",
       "      <td>6974.0</td>\n",
       "      <td>50</td>\n",
       "      <td>734839.237574</td>\n",
       "      <td>295.729046</td>\n",
       "      <td>1.329114e+09</td>\n",
       "      <td>0.004404</td>\n",
       "    </tr>\n",
       "    <tr>\n",
       "      <th>...</th>\n",
       "      <td>...</td>\n",
       "      <td>...</td>\n",
       "      <td>...</td>\n",
       "      <td>...</td>\n",
       "      <td>...</td>\n",
       "      <td>...</td>\n",
       "      <td>...</td>\n",
       "      <td>...</td>\n",
       "      <td>...</td>\n",
       "      <td>...</td>\n",
       "      <td>...</td>\n",
       "      <td>...</td>\n",
       "      <td>...</td>\n",
       "      <td>...</td>\n",
       "      <td>...</td>\n",
       "      <td>...</td>\n",
       "      <td>...</td>\n",
       "      <td>...</td>\n",
       "      <td>...</td>\n",
       "      <td>...</td>\n",
       "      <td>...</td>\n",
       "    </tr>\n",
       "    <tr>\n",
       "      <th>95</th>\n",
       "      <td>48392.0</td>\n",
       "      <td>99100.0</td>\n",
       "      <td>0.05</td>\n",
       "      <td>0.009</td>\n",
       "      <td>0.287</td>\n",
       "      <td>1.022534e+07</td>\n",
       "      <td>0.220213</td>\n",
       "      <td>0.779787</td>\n",
       "      <td>NaN</td>\n",
       "      <td>NaN</td>\n",
       "      <td>...</td>\n",
       "      <td>31.795917</td>\n",
       "      <td>31.795135</td>\n",
       "      <td>18616.620283</td>\n",
       "      <td>58536.282722</td>\n",
       "      <td>6974.0</td>\n",
       "      <td>50</td>\n",
       "      <td>734839.237574</td>\n",
       "      <td>295.729046</td>\n",
       "      <td>2.177851e+09</td>\n",
       "      <td>0.002688</td>\n",
       "    </tr>\n",
       "    <tr>\n",
       "      <th>96</th>\n",
       "      <td>48462.0</td>\n",
       "      <td>99100.0</td>\n",
       "      <td>0.05</td>\n",
       "      <td>0.009</td>\n",
       "      <td>0.287</td>\n",
       "      <td>1.023921e+07</td>\n",
       "      <td>0.220478</td>\n",
       "      <td>0.779522</td>\n",
       "      <td>1.660919e+06</td>\n",
       "      <td>345.289572</td>\n",
       "      <td>...</td>\n",
       "      <td>31.795917</td>\n",
       "      <td>31.795135</td>\n",
       "      <td>18616.620283</td>\n",
       "      <td>58536.282722</td>\n",
       "      <td>6974.0</td>\n",
       "      <td>50</td>\n",
       "      <td>734839.237574</td>\n",
       "      <td>295.729046</td>\n",
       "      <td>2.177111e+09</td>\n",
       "      <td>0.002689</td>\n",
       "    </tr>\n",
       "    <tr>\n",
       "      <th>97</th>\n",
       "      <td>48533.0</td>\n",
       "      <td>99100.0</td>\n",
       "      <td>0.05</td>\n",
       "      <td>0.009</td>\n",
       "      <td>0.287</td>\n",
       "      <td>1.023921e+07</td>\n",
       "      <td>0.220478</td>\n",
       "      <td>0.779522</td>\n",
       "      <td>NaN</td>\n",
       "      <td>NaN</td>\n",
       "      <td>...</td>\n",
       "      <td>31.795917</td>\n",
       "      <td>31.795135</td>\n",
       "      <td>18616.620283</td>\n",
       "      <td>58536.282722</td>\n",
       "      <td>6974.0</td>\n",
       "      <td>50</td>\n",
       "      <td>734839.237574</td>\n",
       "      <td>295.729046</td>\n",
       "      <td>2.177111e+09</td>\n",
       "      <td>0.002689</td>\n",
       "    </tr>\n",
       "    <tr>\n",
       "      <th>98</th>\n",
       "      <td>48603.0</td>\n",
       "      <td>99100.0</td>\n",
       "      <td>0.03</td>\n",
       "      <td>0.002</td>\n",
       "      <td>0.287</td>\n",
       "      <td>1.025309e+07</td>\n",
       "      <td>0.220745</td>\n",
       "      <td>0.779255</td>\n",
       "      <td>9.451051e+05</td>\n",
       "      <td>314.000252</td>\n",
       "      <td>...</td>\n",
       "      <td>31.795917</td>\n",
       "      <td>31.795135</td>\n",
       "      <td>18616.620283</td>\n",
       "      <td>58536.282722</td>\n",
       "      <td>6974.0</td>\n",
       "      <td>50</td>\n",
       "      <td>734839.237574</td>\n",
       "      <td>295.729046</td>\n",
       "      <td>1.305820e+09</td>\n",
       "      <td>0.004483</td>\n",
       "    </tr>\n",
       "    <tr>\n",
       "      <th>99</th>\n",
       "      <td>48674.0</td>\n",
       "      <td>99100.0</td>\n",
       "      <td>0.05</td>\n",
       "      <td>0.006</td>\n",
       "      <td>0.287</td>\n",
       "      <td>1.026698e+07</td>\n",
       "      <td>0.221012</td>\n",
       "      <td>0.778988</td>\n",
       "      <td>NaN</td>\n",
       "      <td>NaN</td>\n",
       "      <td>...</td>\n",
       "      <td>31.795917</td>\n",
       "      <td>31.795135</td>\n",
       "      <td>18616.620283</td>\n",
       "      <td>58536.282722</td>\n",
       "      <td>6974.0</td>\n",
       "      <td>50</td>\n",
       "      <td>734839.237574</td>\n",
       "      <td>295.729046</td>\n",
       "      <td>2.175619e+09</td>\n",
       "      <td>0.002691</td>\n",
       "    </tr>\n",
       "  </tbody>\n",
       "</table>\n",
       "<p>100 rows × 21 columns</p>\n",
       "</div>"
      ],
      "text/plain": [
       "    easting  northing  porosity  permeability  Poisson's ratio  \\\n",
       "0   41700.0   99100.0      0.04         0.006            0.301   \n",
       "1   41770.0   99100.0      0.03         0.004            0.301   \n",
       "2   41841.0   99100.0      0.03         0.004            0.301   \n",
       "3   41911.0   99100.0      0.03         0.003            0.300   \n",
       "4   41982.0   99100.0      0.03         0.002            0.300   \n",
       "..      ...       ...       ...           ...              ...   \n",
       "95  48392.0   99100.0      0.05         0.009            0.287   \n",
       "96  48462.0   99100.0      0.05         0.009            0.287   \n",
       "97  48533.0   99100.0      0.05         0.009            0.287   \n",
       "98  48603.0   99100.0      0.03         0.002            0.287   \n",
       "99  48674.0   99100.0      0.05         0.006            0.287   \n",
       "\n",
       "    Young's Modulus  water saturation  oil saturation  proppant weight (lbs)  \\\n",
       "0      9.391151e+06          0.206423        0.793577           9.574505e+05   \n",
       "1      9.401125e+06          0.206561        0.793439                    NaN   \n",
       "2      9.401125e+06          0.206561        0.793439           3.772825e+05   \n",
       "3      9.411209e+06          0.206701        0.793299                    NaN   \n",
       "4      9.421400e+06          0.206844        0.793156           8.998769e+04   \n",
       "..              ...               ...             ...                    ...   \n",
       "95     1.022534e+07          0.220213        0.779787                    NaN   \n",
       "96     1.023921e+07          0.220478        0.779522           1.660919e+06   \n",
       "97     1.023921e+07          0.220478        0.779522                    NaN   \n",
       "98     1.025309e+07          0.220745        0.779255           9.451051e+05   \n",
       "99     1.026698e+07          0.221012        0.778988                    NaN   \n",
       "\n",
       "    pump rate (cubic feet/min)  ... lifetime_exp  lifetime_hyp  \\\n",
       "0                   269.739431  ...    31.795917     31.795135   \n",
       "1                          NaN  ...    31.795917     31.795135   \n",
       "2                   352.043256  ...    31.795917     31.795135   \n",
       "3                          NaN  ...    31.795917     31.795135   \n",
       "4                   300.275028  ...    31.795917     31.795135   \n",
       "..                         ...  ...          ...           ...   \n",
       "95                         NaN  ...    31.795917     31.795135   \n",
       "96                  345.289572  ...    31.795917     31.795135   \n",
       "97                         NaN  ...    31.795917     31.795135   \n",
       "98                  314.000252  ...    31.795917     31.795135   \n",
       "99                         NaN  ...    31.795917     31.795135   \n",
       "\n",
       "    cum_production  cum_production_other  well length  frac stages  \\\n",
       "0     18616.620283          58536.282722       6974.0           50   \n",
       "1     18616.620283          58536.282722       6974.0           50   \n",
       "2     18616.620283          58536.282722       6974.0           50   \n",
       "3     18616.620283          58536.282722       6974.0           50   \n",
       "4     18616.620283          58536.282722       6974.0           50   \n",
       "..             ...                   ...          ...          ...   \n",
       "95    18616.620283          58536.282722       6974.0           50   \n",
       "96    18616.620283          58536.282722       6974.0           50   \n",
       "97    18616.620283          58536.282722       6974.0           50   \n",
       "98    18616.620283          58536.282722       6974.0           50   \n",
       "99    18616.620283          58536.282722       6974.0           50   \n",
       "\n",
       "              ppf          pr          OOIP  recovery factor  \n",
       "0   734839.237574  295.729046  1.773092e+09         0.003301  \n",
       "1   734839.237574  295.729046  1.329588e+09         0.004403  \n",
       "2   734839.237574  295.729046  1.329588e+09         0.004403  \n",
       "3   734839.237574  295.729046  1.329353e+09         0.004403  \n",
       "4   734839.237574  295.729046  1.329114e+09         0.004404  \n",
       "..            ...         ...           ...              ...  \n",
       "95  734839.237574  295.729046  2.177851e+09         0.002688  \n",
       "96  734839.237574  295.729046  2.177111e+09         0.002689  \n",
       "97  734839.237574  295.729046  2.177111e+09         0.002689  \n",
       "98  734839.237574  295.729046  1.305820e+09         0.004483  \n",
       "99  734839.237574  295.729046  2.175619e+09         0.002691  \n",
       "\n",
       "[100 rows x 21 columns]"
      ]
     },
     "execution_count": 59,
     "metadata": {},
     "output_type": "execute_result"
    }
   ],
   "source": []
  },
  {
   "cell_type": "code",
   "execution_count": null,
   "metadata": {},
   "outputs": [],
   "source": []
  }
 ],
 "metadata": {
  "kernelspec": {
   "display_name": "Python 3",
   "language": "python",
   "name": "python3"
  },
  "language_info": {
   "codemirror_mode": {
    "name": "ipython",
    "version": 3
   },
   "file_extension": ".py",
   "mimetype": "text/x-python",
   "name": "python",
   "nbconvert_exporter": "python",
   "pygments_lexer": "ipython3",
   "version": "3.8.5"
  }
 },
 "nbformat": 4,
 "nbformat_minor": 4
}
