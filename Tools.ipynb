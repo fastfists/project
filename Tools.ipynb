{
 "cells": [
  {
   "cell_type": "markdown",
   "metadata": {},
   "source": [
    "To start, we import all of the packages that we will need in this notebook. "
   ]
  },
  {
   "cell_type": "code",
   "execution_count": 1,
   "metadata": {},
   "outputs": [],
   "source": [
    "import glob\n",
    "import pandas as pd\n",
    "import numpy as np\n",
    "from scipy.integrate import quad\n",
    "from scipy.optimize import curve_fit"
   ]
  },
  {
   "cell_type": "markdown",
   "metadata": {},
   "source": [
    "# Stage 1: Preprocess The data"
   ]
  },
  {
   "cell_type": "markdown",
   "metadata": {},
   "source": [
    "### Adding the features we will need to optimize to a DataFrame and then exporting to a csv"
   ]
  },
  {
   "cell_type": "markdown",
   "metadata": {},
   "source": [
    "Here we read in the well production.csv file "
   ]
  },
  {
   "cell_type": "code",
   "execution_count": 2,
   "metadata": {},
   "outputs": [],
   "source": [
    "well_productions = pd.read_csv(\"well productions/well production.csv\")"
   ]
  },
  {
   "cell_type": "markdown",
   "metadata": {},
   "source": [
    "Here we read in the csv file for each well "
   ]
  },
  {
   "cell_type": "code",
   "execution_count": 3,
   "metadata": {},
   "outputs": [],
   "source": [
    "import csv\n",
    "datas = []\n",
    "for file in glob.glob(\"well productions/*\"):\n",
    "    if \"well production.csv\" not in file:\n",
    "        frame = pd.read_csv(file)\n",
    "        # Strip off the extra things on the end\n",
    "        frame[\"Name\"] = file[17:-4]\n",
    "        datas.append(frame)"
   ]
  },
  {
   "cell_type": "markdown",
   "metadata": {},
   "source": [
    "The following function calculates the well length for each well and adds the well length of each well to the DataFrame\n"
   ]
  },
  {
   "cell_type": "code",
   "execution_count": 4,
   "metadata": {},
   "outputs": [],
   "source": [
    "def well_length(dataframe: pd.DataFrame):\n",
    "    dataframe[\"well length\"] = dataframe[\"easting\"].iloc[-1] - dataframe[\"easting\"][0]"
   ]
  },
  {
   "cell_type": "markdown",
   "metadata": {},
   "source": [
    "The following function calculates the number of frac stages for each well and adds the calculated value to the DataFrame"
   ]
  },
  {
   "cell_type": "code",
   "execution_count": 5,
   "metadata": {},
   "outputs": [],
   "source": [
    "def frac_stages(dataframe : pd.DataFrame):\n",
    "    dataframe[\"frac stages\"] = dataframe[dataframe[\"proppant weight (lbs)\"].isna() == False].shape[0]"
   ]
  },
  {
   "cell_type": "markdown",
   "metadata": {},
   "source": [
    "The following function sets proppant per stage as \"ppf.\" It will default to the maximum weight. "
   ]
  },
  {
   "cell_type": "code",
   "execution_count": 6,
   "metadata": {},
   "outputs": [],
   "source": [
    "def propant_per_stage(dataframe: pd.DataFrame, find_min=False):\n",
    "    if find_min:\n",
    "        val = min(dataframe[\"proppant weight (lbs)\"])\n",
    "    else:\n",
    "        val = max(dataframe[\"proppant weight (lbs)\"])\n",
    "    dataframe[\"ppf\"] = val"
   ]
  },
  {
   "cell_type": "markdown",
   "metadata": {},
   "source": [
    "The following function sets pump rate as \"pr.\" It will default to the maximum rate. "
   ]
  },
  {
   "cell_type": "code",
   "execution_count": 7,
   "metadata": {},
   "outputs": [],
   "source": [
    "def pump_rate(dataframe: pd.DataFrame, find_min=False):\n",
    "    if find_min:\n",
    "        val = min(dataframe[\"pump rate (cubic feet/min)\"])\n",
    "    else:\n",
    "        val = max(dataframe[\"pump rate (cubic feet/min)\"])\n",
    "    dataframe[\"pr\"] = val"
   ]
  },
  {
   "cell_type": "markdown",
   "metadata": {},
   "source": [
    "The below function finds how many years the well will economically produce oil, under the assumption that up to 93 barrels of oil is economical. To arrive at this value we **NEED TO RATIONALIZE THIS VALUE** "
   ]
  },
  {
   "cell_type": "code",
   "execution_count": 8,
   "metadata": {},
   "outputs": [],
   "source": [
    "def life_of_res(qi, D):\n",
    "    lifetime = 1/D*np.log(qi/93)\n",
    "    if lifetime < 0:\n",
    "        return 0\n",
    "    else: \n",
    "        return lifetime"
   ]
  },
  {
   "cell_type": "markdown",
   "metadata": {},
   "source": [
    "exponential loss curve\n",
    "\n",
    "$ q(t) = q_ie^{-Dt} $\n",
    "\n",
    "Where $D$ is the decline rate and $q_i$ is the initial rate of production\n",
    "Exponential decline curve equation\n",
    "\n",
    "    Arguments:\n",
    "        t:  Number of months the well has been producing oil \n",
    "        qi: Float. Initial production rate when well first came online.\n",
    "        di: Float. Nominal decline rate (constant)\n",
    "        \n",
    "    Output: \n",
    "        Returns q, or the expected production rate at time t. Float."
   ]
  },
  {
   "cell_type": "code",
   "execution_count": 9,
   "metadata": {},
   "outputs": [],
   "source": [
    "def exponential_loss(t, qi, D): \n",
    "    return qi*np.exp(-D*t)"
   ]
  },
  {
   "cell_type": "markdown",
   "metadata": {},
   "source": [
    " $ q(t) = \\frac{q_i}{(1+bDt)^{1.0/b}} $\n",
    " \n",
    " Hyperbolic decline curve equation\n",
    " \n",
    "    Arguments:\n",
    "        t:  Number of months the well has been producing oil\n",
    "        qi: Float. Initial production rate when well first came online.\n",
    "        b:  Float. Hyperbolic decline constant\n",
    "        di: Float. Nominal decline rate at time t=0\n",
    "    Output: \n",
    "        Returns q, or the expected production rate at time t. Float."
   ]
  },
  {
   "cell_type": "code",
   "execution_count": 10,
   "metadata": {},
   "outputs": [],
   "source": [
    "def hyperbolic_loss(t, qi, b, di):\n",
    "    return qi/((1.0+b*di*t)**(1.0/b))"
   ]
  },
  {
   "cell_type": "markdown",
   "metadata": {},
   "source": [
    "This function allows you to look at the first X months of production, and selects the highest production month as max initial production. It returns the max initial production in the first X months along with a series that contains the values of oil production for the first 12 months. \n",
    "    \n",
    "    Arguments:\n",
    "        number_first_months: int. Number of months from the point the well comes online\n",
    "        to compare to get the max initial production rate qi (this looks at multiple months\n",
    "        in case there is a production ramp-up)\n",
    "        \n",
    "        well_name: String. name of the well where we're attempting to get\n",
    "        the max volume from."
   ]
  },
  {
   "cell_type": "code",
   "execution_count": 11,
   "metadata": {},
   "outputs": [],
   "source": [
    "def get_max_initial_production(number_first_months, well_name):\n",
    "    \n",
    "    row = well_productions.loc[well_productions[\"well name\"] == well_name]\n",
    "    val=0      \n",
    "    row = row.filter(regex='oil')\n",
    "    row=row.T.squeeze()\n",
    "    \n",
    "    for i in range(number_first_months):\n",
    "        val = max(row[i], val)\n",
    "\n",
    "    return val, row"
   ]
  },
  {
   "cell_type": "markdown",
   "metadata": {},
   "source": [
    "The below two functions find the defined integral of the fitted exponential and hyperbolic equations between 0 and the calculated life of the reservoir. Our team found that was easier to use an integral then implement the equation fround in the \"Hinge Basin\" notebook. \n",
    "\n",
    "$ N_p = \\int_0^{L_t} q(t)dt $ Where $N_p$ is total production and $L_t$ is the lifetime of the well"
   ]
  },
  {
   "cell_type": "code",
   "execution_count": 12,
   "metadata": {},
   "outputs": [],
   "source": [
    "def get_cumulative_exponential(qi, D):\n",
    "    return quad(exponential_loss, 0, life_of_res(qi, D), args=(qi,D))\n",
    "\n",
    "def get_cumulative_hyperbolic(qi, b, di):\n",
    "    return quad(hyperbolic_loss, 0, life_of_res(qi, di), args=(qi, b, di))"
   ]
  },
  {
   "cell_type": "markdown",
   "metadata": {},
   "source": [
    "The following function will add the expected lifetime of the well when using the exponential_loss function and the hyperbolic function then add the respective values to the dataframe. Following that, it will find the cumulative production with the least amount of error out of the two functions, and add that value to the DataFrame. "
   ]
  },
  {
   "cell_type": "code",
   "execution_count": 13,
   "metadata": {},
   "outputs": [],
   "source": [
    "time_series=pd.Series(list(range(12)))\n",
    "def cum_production(dataframe: pd.DataFrame, find_min=False):\n",
    "    #find the name of the current well being examined\n",
    "    name = dataframe[\"Name\"][0]\n",
    "    #Set qi equal to the maximum production in the first 5 months of this well's lifespan, and row equal to the series of the \n",
    "    #first 12 months' production values\n",
    "    qi, row = get_max_initial_production(5, name)\n",
    "    \n",
    "    #Use the scipy curve_fit function to get the best possible exponential and hyperbolic curves\n",
    "    popt_exp, pcov_exp = curve_fit(exponential_loss, time_series, row, bounds=(0, [qi,20]))\n",
    "    popt_hyp, pcov_hyp=curve_fit(hyperbolic_loss, time_series, row,bounds=(0, [qi,2,20]))\n",
    "    \n",
    "    #Get the defined integral's value and error for both the exponential and hyperbolic curves\n",
    "    cp_exp = get_cumulative_exponential(*popt_exp)\n",
    "    cp_hyp = get_cumulative_hyperbolic(*popt_hyp)\n",
    "\n",
    "    #Set cumulative production to whichever defined integral has the least error\n",
    "    if cp_exp[1] < cp_hyp[1]: \n",
    "        cum_production = cp_exp[0]\n",
    "    else: \n",
    "        cum_production = cp_hyp[0]\n",
    "\n",
    "    #Add the respected calculated lifetimes for the exponential and hyperbolic curves to the dataframe then add the \n",
    "    #calculated cumulative production. \n",
    "    dataframe[\"lifetime_exp\"] = life_of_res(*popt_exp)\n",
    "    dataframe[\"lifetime_hyp\"] = life_of_res(popt_hyp[0], popt_hyp[2])\n",
    "    dataframe[\"cum_production\"] = cum_production\n"
   ]
  },
  {
   "cell_type": "markdown",
   "metadata": {},
   "source": [
    "Here we call all of the functions we wrote that add the values we will need to optimize to the DataFrame "
   ]
  },
  {
   "cell_type": "code",
   "execution_count": 14,
   "metadata": {},
   "outputs": [],
   "source": [
    "%%capture\n",
    "list(map(cum_production, datas))\n",
    "list(map(well_length, datas))\n",
    "list(map(frac_stages, datas))"
   ]
  },
  {
   "cell_type": "markdown",
   "metadata": {},
   "source": [
    "Here we drop the duplicate wells from the dataframe"
   ]
  },
  {
   "cell_type": "code",
   "execution_count": 23,
   "metadata": {
    "scrolled": true
   },
   "outputs": [],
   "source": [
    "%%capture\n",
    "big_df = pd.concat(datas)\n",
    "## Removing duplicates makes graphing well locations significantly harder. Remove duplicates when regressing\n",
    "# big_df.drop_duplicates(subset=['Name'], inplace=True)"
   ]
  },
  {
   "cell_type": "markdown",
   "metadata": {},
   "source": [
    "Here we export our DataFrame to a new csv file so we no longer need to run preprocessing cells above"
   ]
  },
  {
   "cell_type": "code",
   "execution_count": 22,
   "metadata": {},
   "outputs": [],
   "source": [
    "big_df.to_csv(\"bigPoppa.csv\", index=False)"
   ]
  },
  {
   "cell_type": "markdown",
   "metadata": {},
   "source": [
    "# Stage2: Creating a model to predict cumulative output"
   ]
  },
  {
   "cell_type": "markdown",
   "metadata": {},
   "source": [
    "### Creating a model that uses the features we added to the dataframe to predict cumulative output"
   ]
  },
  {
   "cell_type": "markdown",
   "metadata": {},
   "source": [
    "**We should finally be able to get to the fun stuff now 😁**"
   ]
  },
  {
   "cell_type": "code",
   "execution_count": 31,
   "metadata": {},
   "outputs": [],
   "source": [
    "big_df = pd.read_csv(\"bigPoppa.csv\")"
   ]
  },
  {
   "cell_type": "code",
   "execution_count": 52,
   "metadata": {},
   "outputs": [
    {
     "data": {
      "text/html": [
       "<div>\n",
       "<style scoped>\n",
       "    .dataframe tbody tr th:only-of-type {\n",
       "        vertical-align: middle;\n",
       "    }\n",
       "\n",
       "    .dataframe tbody tr th {\n",
       "        vertical-align: top;\n",
       "    }\n",
       "\n",
       "    .dataframe thead th {\n",
       "        text-align: right;\n",
       "    }\n",
       "</style>\n",
       "<table border=\"1\" class=\"dataframe\">\n",
       "  <thead>\n",
       "    <tr style=\"text-align: right;\">\n",
       "      <th></th>\n",
       "      <th>Name</th>\n",
       "      <th>variable</th>\n",
       "      <th>value</th>\n",
       "    </tr>\n",
       "  </thead>\n",
       "  <tbody>\n",
       "    <tr>\n",
       "      <th>0</th>\n",
       "      <td>Peak 9-46H</td>\n",
       "      <td>easting</td>\n",
       "      <td>67000.0</td>\n",
       "    </tr>\n",
       "    <tr>\n",
       "      <th>1</th>\n",
       "      <td>Peak 9-46H</td>\n",
       "      <td>easting</td>\n",
       "      <td>67079.0</td>\n",
       "    </tr>\n",
       "    <tr>\n",
       "      <th>2</th>\n",
       "      <td>Peak 9-46H</td>\n",
       "      <td>easting</td>\n",
       "      <td>67157.0</td>\n",
       "    </tr>\n",
       "    <tr>\n",
       "      <th>3</th>\n",
       "      <td>Peak 9-46H</td>\n",
       "      <td>easting</td>\n",
       "      <td>67236.0</td>\n",
       "    </tr>\n",
       "    <tr>\n",
       "      <th>4</th>\n",
       "      <td>Peak 9-46H</td>\n",
       "      <td>easting</td>\n",
       "      <td>67314.0</td>\n",
       "    </tr>\n",
       "    <tr>\n",
       "      <th>...</th>\n",
       "      <td>...</td>\n",
       "      <td>...</td>\n",
       "      <td>...</td>\n",
       "    </tr>\n",
       "    <tr>\n",
       "      <th>149995</th>\n",
       "      <td>Sutherland 5-56H</td>\n",
       "      <td>frac stages</td>\n",
       "      <td>34.0</td>\n",
       "    </tr>\n",
       "    <tr>\n",
       "      <th>149996</th>\n",
       "      <td>Sutherland 5-56H</td>\n",
       "      <td>frac stages</td>\n",
       "      <td>34.0</td>\n",
       "    </tr>\n",
       "    <tr>\n",
       "      <th>149997</th>\n",
       "      <td>Sutherland 5-56H</td>\n",
       "      <td>frac stages</td>\n",
       "      <td>34.0</td>\n",
       "    </tr>\n",
       "    <tr>\n",
       "      <th>149998</th>\n",
       "      <td>Sutherland 5-56H</td>\n",
       "      <td>frac stages</td>\n",
       "      <td>34.0</td>\n",
       "    </tr>\n",
       "    <tr>\n",
       "      <th>149999</th>\n",
       "      <td>Sutherland 5-56H</td>\n",
       "      <td>frac stages</td>\n",
       "      <td>34.0</td>\n",
       "    </tr>\n",
       "  </tbody>\n",
       "</table>\n",
       "<p>150000 rows × 3 columns</p>\n",
       "</div>"
      ],
      "text/plain": [
       "                    Name     variable    value\n",
       "0             Peak 9-46H      easting  67000.0\n",
       "1             Peak 9-46H      easting  67079.0\n",
       "2             Peak 9-46H      easting  67157.0\n",
       "3             Peak 9-46H      easting  67236.0\n",
       "4             Peak 9-46H      easting  67314.0\n",
       "...                  ...          ...      ...\n",
       "149995  Sutherland 5-56H  frac stages     34.0\n",
       "149996  Sutherland 5-56H  frac stages     34.0\n",
       "149997  Sutherland 5-56H  frac stages     34.0\n",
       "149998  Sutherland 5-56H  frac stages     34.0\n",
       "149999  Sutherland 5-56H  frac stages     34.0\n",
       "\n",
       "[150000 rows x 3 columns]"
      ]
     },
     "execution_count": 52,
     "metadata": {},
     "output_type": "execute_result"
    }
   ],
   "source": [
    "big_df.melt(id_vars=(\"Name\"))"
   ]
  },
  {
   "cell_type": "code",
   "execution_count": 32,
   "metadata": {},
   "outputs": [],
   "source": [
    "data = big_df.drop_duplicates(subset=['Name'])"
   ]
  },
  {
   "cell_type": "code",
   "execution_count": 46,
   "metadata": {},
   "outputs": [
    {
     "data": {
      "text/plain": [
       "count    100.000000\n",
       "mean      35.994162\n",
       "std       11.099830\n",
       "min        0.072446\n",
       "25%       30.127467\n",
       "50%       37.639081\n",
       "75%       43.862433\n",
       "max       52.483608\n",
       "Name: lifetime_exp, dtype: float64"
      ]
     },
     "execution_count": 46,
     "metadata": {},
     "output_type": "execute_result"
    }
   ],
   "source": [
    "data[\"lifetime_exp\"].describe() # should be measured in years"
   ]
  },
  {
   "cell_type": "markdown",
   "metadata": {},
   "source": [
    "# Stage 3: Fancy graphs"
   ]
  },
  {
   "cell_type": "code",
   "execution_count": 33,
   "metadata": {},
   "outputs": [],
   "source": [
    "import matplotlib.pyplot as plt\n",
    "import seaborn as sns"
   ]
  },
  {
   "cell_type": "markdown",
   "metadata": {},
   "source": [
    "Graph all well locations"
   ]
  },
  {
   "cell_type": "code",
   "execution_count": 35,
   "metadata": {},
   "outputs": [
    {
     "data": {
      "text/html": [
       "<div>\n",
       "<style scoped>\n",
       "    .dataframe tbody tr th:only-of-type {\n",
       "        vertical-align: middle;\n",
       "    }\n",
       "\n",
       "    .dataframe tbody tr th {\n",
       "        vertical-align: top;\n",
       "    }\n",
       "\n",
       "    .dataframe thead th {\n",
       "        text-align: right;\n",
       "    }\n",
       "</style>\n",
       "<table border=\"1\" class=\"dataframe\">\n",
       "  <thead>\n",
       "    <tr style=\"text-align: right;\">\n",
       "      <th></th>\n",
       "      <th>easting</th>\n",
       "      <th>northing</th>\n",
       "      <th>porosity</th>\n",
       "      <th>permeability</th>\n",
       "      <th>Poisson's ratio</th>\n",
       "      <th>Young's Modulus</th>\n",
       "      <th>water saturation</th>\n",
       "      <th>oil saturation</th>\n",
       "      <th>proppant weight (lbs)</th>\n",
       "      <th>pump rate (cubic feet/min)</th>\n",
       "      <th>Name</th>\n",
       "      <th>lifetime_exp</th>\n",
       "      <th>lifetime_hyp</th>\n",
       "      <th>cum_production</th>\n",
       "      <th>well length</th>\n",
       "      <th>frac stages</th>\n",
       "    </tr>\n",
       "  </thead>\n",
       "  <tbody>\n",
       "    <tr>\n",
       "      <th>0</th>\n",
       "      <td>67000.0</td>\n",
       "      <td>2400.0</td>\n",
       "      <td>0.08</td>\n",
       "      <td>0.028</td>\n",
       "      <td>0.326</td>\n",
       "      <td>1.017070e+07</td>\n",
       "      <td>0.133937</td>\n",
       "      <td>0.866063</td>\n",
       "      <td>663611.894643</td>\n",
       "      <td>217.392979</td>\n",
       "      <td>Peak 9-46H</td>\n",
       "      <td>52.483608</td>\n",
       "      <td>52.484055</td>\n",
       "      <td>157593.221982</td>\n",
       "      <td>7782.0</td>\n",
       "      <td>50</td>\n",
       "    </tr>\n",
       "    <tr>\n",
       "      <th>100</th>\n",
       "      <td>5700.0</td>\n",
       "      <td>15600.0</td>\n",
       "      <td>0.06</td>\n",
       "      <td>0.012</td>\n",
       "      <td>0.351</td>\n",
       "      <td>1.002433e+07</td>\n",
       "      <td>0.128639</td>\n",
       "      <td>0.871361</td>\n",
       "      <td>689704.383953</td>\n",
       "      <td>293.709219</td>\n",
       "      <td>Dakota 13-166H</td>\n",
       "      <td>33.939515</td>\n",
       "      <td>33.938692</td>\n",
       "      <td>23600.560127</td>\n",
       "      <td>10962.0</td>\n",
       "      <td>25</td>\n",
       "    </tr>\n",
       "    <tr>\n",
       "      <th>200</th>\n",
       "      <td>57400.0</td>\n",
       "      <td>52200.0</td>\n",
       "      <td>0.06</td>\n",
       "      <td>0.015</td>\n",
       "      <td>0.329</td>\n",
       "      <td>1.221196e+07</td>\n",
       "      <td>0.161848</td>\n",
       "      <td>0.838152</td>\n",
       "      <td>300144.867355</td>\n",
       "      <td>352.917530</td>\n",
       "      <td>Sutherland 1-11H</td>\n",
       "      <td>45.681298</td>\n",
       "      <td>45.682252</td>\n",
       "      <td>78756.147835</td>\n",
       "      <td>8198.0</td>\n",
       "      <td>50</td>\n",
       "    </tr>\n",
       "    <tr>\n",
       "      <th>300</th>\n",
       "      <td>72900.0</td>\n",
       "      <td>5300.0</td>\n",
       "      <td>0.09</td>\n",
       "      <td>0.043</td>\n",
       "      <td>0.314</td>\n",
       "      <td>9.446411e+06</td>\n",
       "      <td>0.192124</td>\n",
       "      <td>0.807876</td>\n",
       "      <td>652732.541059</td>\n",
       "      <td>373.060379</td>\n",
       "      <td>Brisket 2-149H</td>\n",
       "      <td>51.559547</td>\n",
       "      <td>51.559653</td>\n",
       "      <td>143372.187739</td>\n",
       "      <td>7191.0</td>\n",
       "      <td>50</td>\n",
       "    </tr>\n",
       "    <tr>\n",
       "      <th>400</th>\n",
       "      <td>26200.0</td>\n",
       "      <td>32100.0</td>\n",
       "      <td>0.05</td>\n",
       "      <td>0.010</td>\n",
       "      <td>0.318</td>\n",
       "      <td>8.977014e+06</td>\n",
       "      <td>0.260255</td>\n",
       "      <td>0.739745</td>\n",
       "      <td>611225.151031</td>\n",
       "      <td>269.402014</td>\n",
       "      <td>Pepper 8-129H</td>\n",
       "      <td>0.072446</td>\n",
       "      <td>0.071581</td>\n",
       "      <td>6.758461</td>\n",
       "      <td>10895.0</td>\n",
       "      <td>1</td>\n",
       "    </tr>\n",
       "    <tr>\n",
       "      <th>...</th>\n",
       "      <td>...</td>\n",
       "      <td>...</td>\n",
       "      <td>...</td>\n",
       "      <td>...</td>\n",
       "      <td>...</td>\n",
       "      <td>...</td>\n",
       "      <td>...</td>\n",
       "      <td>...</td>\n",
       "      <td>...</td>\n",
       "      <td>...</td>\n",
       "      <td>...</td>\n",
       "      <td>...</td>\n",
       "      <td>...</td>\n",
       "      <td>...</td>\n",
       "      <td>...</td>\n",
       "      <td>...</td>\n",
       "    </tr>\n",
       "    <tr>\n",
       "      <th>9500</th>\n",
       "      <td>79200.0</td>\n",
       "      <td>65600.0</td>\n",
       "      <td>0.04</td>\n",
       "      <td>0.008</td>\n",
       "      <td>0.348</td>\n",
       "      <td>1.068984e+07</td>\n",
       "      <td>0.143938</td>\n",
       "      <td>0.856062</td>\n",
       "      <td>536702.299939</td>\n",
       "      <td>255.286234</td>\n",
       "      <td>Sutherland 11-157H</td>\n",
       "      <td>37.422376</td>\n",
       "      <td>37.424228</td>\n",
       "      <td>33113.728564</td>\n",
       "      <td>4774.0</td>\n",
       "      <td>34</td>\n",
       "    </tr>\n",
       "    <tr>\n",
       "      <th>9600</th>\n",
       "      <td>33200.0</td>\n",
       "      <td>80500.0</td>\n",
       "      <td>0.00</td>\n",
       "      <td>0.000</td>\n",
       "      <td>0.312</td>\n",
       "      <td>8.973241e+06</td>\n",
       "      <td>0.041730</td>\n",
       "      <td>0.958270</td>\n",
       "      <td>856189.114478</td>\n",
       "      <td>309.916417</td>\n",
       "      <td>Tribal 14-11H</td>\n",
       "      <td>27.205918</td>\n",
       "      <td>27.210357</td>\n",
       "      <td>11413.833395</td>\n",
       "      <td>4898.0</td>\n",
       "      <td>50</td>\n",
       "    </tr>\n",
       "    <tr>\n",
       "      <th>9700</th>\n",
       "      <td>50100.0</td>\n",
       "      <td>51800.0</td>\n",
       "      <td>0.07</td>\n",
       "      <td>0.014</td>\n",
       "      <td>0.323</td>\n",
       "      <td>1.214068e+07</td>\n",
       "      <td>0.144907</td>\n",
       "      <td>0.855093</td>\n",
       "      <td>572930.557392</td>\n",
       "      <td>332.201277</td>\n",
       "      <td>Burger 10-170H</td>\n",
       "      <td>42.087627</td>\n",
       "      <td>42.087075</td>\n",
       "      <td>54616.149123</td>\n",
       "      <td>5167.0</td>\n",
       "      <td>34</td>\n",
       "    </tr>\n",
       "    <tr>\n",
       "      <th>9800</th>\n",
       "      <td>7200.0</td>\n",
       "      <td>2400.0</td>\n",
       "      <td>0.06</td>\n",
       "      <td>0.013</td>\n",
       "      <td>0.338</td>\n",
       "      <td>1.138016e+07</td>\n",
       "      <td>0.000000</td>\n",
       "      <td>1.000000</td>\n",
       "      <td>739287.773380</td>\n",
       "      <td>369.123610</td>\n",
       "      <td>Burger 3-45H</td>\n",
       "      <td>51.073103</td>\n",
       "      <td>51.072948</td>\n",
       "      <td>137006.431110</td>\n",
       "      <td>7513.0</td>\n",
       "      <td>100</td>\n",
       "    </tr>\n",
       "    <tr>\n",
       "      <th>9900</th>\n",
       "      <td>6300.0</td>\n",
       "      <td>53700.0</td>\n",
       "      <td>0.05</td>\n",
       "      <td>0.009</td>\n",
       "      <td>0.305</td>\n",
       "      <td>1.058935e+07</td>\n",
       "      <td>0.118212</td>\n",
       "      <td>0.881788</td>\n",
       "      <td>870417.418369</td>\n",
       "      <td>393.486280</td>\n",
       "      <td>Sutherland 5-56H</td>\n",
       "      <td>27.755301</td>\n",
       "      <td>27.755386</td>\n",
       "      <td>11798.147622</td>\n",
       "      <td>9979.0</td>\n",
       "      <td>34</td>\n",
       "    </tr>\n",
       "  </tbody>\n",
       "</table>\n",
       "<p>100 rows × 16 columns</p>\n",
       "</div>"
      ],
      "text/plain": [
       "      easting  northing  porosity  permeability  Poisson's ratio  \\\n",
       "0     67000.0    2400.0      0.08         0.028            0.326   \n",
       "100    5700.0   15600.0      0.06         0.012            0.351   \n",
       "200   57400.0   52200.0      0.06         0.015            0.329   \n",
       "300   72900.0    5300.0      0.09         0.043            0.314   \n",
       "400   26200.0   32100.0      0.05         0.010            0.318   \n",
       "...       ...       ...       ...           ...              ...   \n",
       "9500  79200.0   65600.0      0.04         0.008            0.348   \n",
       "9600  33200.0   80500.0      0.00         0.000            0.312   \n",
       "9700  50100.0   51800.0      0.07         0.014            0.323   \n",
       "9800   7200.0    2400.0      0.06         0.013            0.338   \n",
       "9900   6300.0   53700.0      0.05         0.009            0.305   \n",
       "\n",
       "      Young's Modulus  water saturation  oil saturation  \\\n",
       "0        1.017070e+07          0.133937        0.866063   \n",
       "100      1.002433e+07          0.128639        0.871361   \n",
       "200      1.221196e+07          0.161848        0.838152   \n",
       "300      9.446411e+06          0.192124        0.807876   \n",
       "400      8.977014e+06          0.260255        0.739745   \n",
       "...               ...               ...             ...   \n",
       "9500     1.068984e+07          0.143938        0.856062   \n",
       "9600     8.973241e+06          0.041730        0.958270   \n",
       "9700     1.214068e+07          0.144907        0.855093   \n",
       "9800     1.138016e+07          0.000000        1.000000   \n",
       "9900     1.058935e+07          0.118212        0.881788   \n",
       "\n",
       "      proppant weight (lbs)  pump rate (cubic feet/min)                Name  \\\n",
       "0             663611.894643                  217.392979          Peak 9-46H   \n",
       "100           689704.383953                  293.709219      Dakota 13-166H   \n",
       "200           300144.867355                  352.917530    Sutherland 1-11H   \n",
       "300           652732.541059                  373.060379      Brisket 2-149H   \n",
       "400           611225.151031                  269.402014       Pepper 8-129H   \n",
       "...                     ...                         ...                 ...   \n",
       "9500          536702.299939                  255.286234  Sutherland 11-157H   \n",
       "9600          856189.114478                  309.916417       Tribal 14-11H   \n",
       "9700          572930.557392                  332.201277      Burger 10-170H   \n",
       "9800          739287.773380                  369.123610        Burger 3-45H   \n",
       "9900          870417.418369                  393.486280    Sutherland 5-56H   \n",
       "\n",
       "      lifetime_exp  lifetime_hyp  cum_production  well length  frac stages  \n",
       "0        52.483608     52.484055   157593.221982       7782.0           50  \n",
       "100      33.939515     33.938692    23600.560127      10962.0           25  \n",
       "200      45.681298     45.682252    78756.147835       8198.0           50  \n",
       "300      51.559547     51.559653   143372.187739       7191.0           50  \n",
       "400       0.072446      0.071581        6.758461      10895.0            1  \n",
       "...            ...           ...             ...          ...          ...  \n",
       "9500     37.422376     37.424228    33113.728564       4774.0           34  \n",
       "9600     27.205918     27.210357    11413.833395       4898.0           50  \n",
       "9700     42.087627     42.087075    54616.149123       5167.0           34  \n",
       "9800     51.073103     51.072948   137006.431110       7513.0          100  \n",
       "9900     27.755301     27.755386    11798.147622       9979.0           34  \n",
       "\n",
       "[100 rows x 16 columns]"
      ]
     },
     "execution_count": 35,
     "metadata": {},
     "output_type": "execute_result"
    }
   ],
   "source": [
    "data"
   ]
  },
  {
   "cell_type": "code",
   "execution_count": 48,
   "metadata": {},
   "outputs": [
    {
     "data": {
      "image/png": "[encoded data removed]",
      "text/plain": [
       "<Figure size 432x288 with 1 Axes>"
      ]
     },
     "metadata": {
      "needs_background": "light"
     },
     "output_type": "display_data"
    }
   ],
   "source": [
    "sns.scatterplot(data=big_df, x=\"easting\", y=\"northing\", size=\"lifetime_exp\")\n",
    "plt.ylabel(\"Northing\")\n",
    "plt.xlabel(\"Easting\")\n",
    "plt.title(\"Location of Horizontal wells, starting position\")\n",
    "plt.legend('', frameon=False) # remove the legend\n",
    "plt.show()"
   ]
  },
  {
   "cell_type": "code",
   "execution_count": 61,
   "metadata": {},
   "outputs": [
    {
     "data": {
      "text/html": [
       "<div>\n",
       "<style scoped>\n",
       "    .dataframe tbody tr th:only-of-type {\n",
       "        vertical-align: middle;\n",
       "    }\n",
       "\n",
       "    .dataframe tbody tr th {\n",
       "        vertical-align: top;\n",
       "    }\n",
       "\n",
       "    .dataframe thead th {\n",
       "        text-align: right;\n",
       "    }\n",
       "</style>\n",
       "<table border=\"1\" class=\"dataframe\">\n",
       "  <thead>\n",
       "    <tr style=\"text-align: right;\">\n",
       "      <th></th>\n",
       "      <th>easting</th>\n",
       "      <th>northing</th>\n",
       "      <th>porosity</th>\n",
       "      <th>permeability</th>\n",
       "      <th>Poisson's ratio</th>\n",
       "      <th>Young's Modulus</th>\n",
       "      <th>water saturation</th>\n",
       "      <th>oil saturation</th>\n",
       "      <th>proppant weight (lbs)</th>\n",
       "      <th>pump rate (cubic feet/min)</th>\n",
       "      <th>Name</th>\n",
       "      <th>lifetime_exp</th>\n",
       "      <th>lifetime_hyp</th>\n",
       "      <th>cum_production</th>\n",
       "      <th>well length</th>\n",
       "      <th>frac stages</th>\n",
       "    </tr>\n",
       "  </thead>\n",
       "  <tbody>\n",
       "    <tr>\n",
       "      <th>0</th>\n",
       "      <td>67000.0</td>\n",
       "      <td>2400.0</td>\n",
       "      <td>0.08</td>\n",
       "      <td>0.028</td>\n",
       "      <td>0.326</td>\n",
       "      <td>1.017070e+07</td>\n",
       "      <td>0.133937</td>\n",
       "      <td>0.866063</td>\n",
       "      <td>663611.894643</td>\n",
       "      <td>217.392979</td>\n",
       "      <td>Peak 9-46H</td>\n",
       "      <td>52.483608</td>\n",
       "      <td>52.484055</td>\n",
       "      <td>157593.221982</td>\n",
       "      <td>7782.0</td>\n",
       "      <td>50</td>\n",
       "    </tr>\n",
       "    <tr>\n",
       "      <th>1</th>\n",
       "      <td>67079.0</td>\n",
       "      <td>2400.0</td>\n",
       "      <td>0.07</td>\n",
       "      <td>0.025</td>\n",
       "      <td>0.326</td>\n",
       "      <td>1.015911e+07</td>\n",
       "      <td>0.134879</td>\n",
       "      <td>0.865121</td>\n",
       "      <td>NaN</td>\n",
       "      <td>NaN</td>\n",
       "      <td>Peak 9-46H</td>\n",
       "      <td>52.483608</td>\n",
       "      <td>52.484055</td>\n",
       "      <td>157593.221982</td>\n",
       "      <td>7782.0</td>\n",
       "      <td>50</td>\n",
       "    </tr>\n",
       "    <tr>\n",
       "      <th>2</th>\n",
       "      <td>67157.0</td>\n",
       "      <td>2400.0</td>\n",
       "      <td>0.10</td>\n",
       "      <td>0.044</td>\n",
       "      <td>0.326</td>\n",
       "      <td>1.014748e+07</td>\n",
       "      <td>0.135815</td>\n",
       "      <td>0.864185</td>\n",
       "      <td>647859.475159</td>\n",
       "      <td>364.317211</td>\n",
       "      <td>Peak 9-46H</td>\n",
       "      <td>52.483608</td>\n",
       "      <td>52.484055</td>\n",
       "      <td>157593.221982</td>\n",
       "      <td>7782.0</td>\n",
       "      <td>50</td>\n",
       "    </tr>\n",
       "    <tr>\n",
       "      <th>3</th>\n",
       "      <td>67236.0</td>\n",
       "      <td>2400.0</td>\n",
       "      <td>0.10</td>\n",
       "      <td>0.044</td>\n",
       "      <td>0.326</td>\n",
       "      <td>1.014748e+07</td>\n",
       "      <td>0.135815</td>\n",
       "      <td>0.864185</td>\n",
       "      <td>NaN</td>\n",
       "      <td>NaN</td>\n",
       "      <td>Peak 9-46H</td>\n",
       "      <td>52.483608</td>\n",
       "      <td>52.484055</td>\n",
       "      <td>157593.221982</td>\n",
       "      <td>7782.0</td>\n",
       "      <td>50</td>\n",
       "    </tr>\n",
       "    <tr>\n",
       "      <th>4</th>\n",
       "      <td>67314.0</td>\n",
       "      <td>2400.0</td>\n",
       "      <td>0.08</td>\n",
       "      <td>0.029</td>\n",
       "      <td>0.326</td>\n",
       "      <td>1.013582e+07</td>\n",
       "      <td>0.136746</td>\n",
       "      <td>0.863254</td>\n",
       "      <td>551186.955238</td>\n",
       "      <td>359.263441</td>\n",
       "      <td>Peak 9-46H</td>\n",
       "      <td>52.483608</td>\n",
       "      <td>52.484055</td>\n",
       "      <td>157593.221982</td>\n",
       "      <td>7782.0</td>\n",
       "      <td>50</td>\n",
       "    </tr>\n",
       "  </tbody>\n",
       "</table>\n",
       "</div>"
      ],
      "text/plain": [
       "   easting  northing  porosity  permeability  Poisson's ratio  \\\n",
       "0  67000.0    2400.0      0.08         0.028            0.326   \n",
       "1  67079.0    2400.0      0.07         0.025            0.326   \n",
       "2  67157.0    2400.0      0.10         0.044            0.326   \n",
       "3  67236.0    2400.0      0.10         0.044            0.326   \n",
       "4  67314.0    2400.0      0.08         0.029            0.326   \n",
       "\n",
       "   Young's Modulus  water saturation  oil saturation  proppant weight (lbs)  \\\n",
       "0     1.017070e+07          0.133937        0.866063          663611.894643   \n",
       "1     1.015911e+07          0.134879        0.865121                    NaN   \n",
       "2     1.014748e+07          0.135815        0.864185          647859.475159   \n",
       "3     1.014748e+07          0.135815        0.864185                    NaN   \n",
       "4     1.013582e+07          0.136746        0.863254          551186.955238   \n",
       "\n",
       "   pump rate (cubic feet/min)        Name  lifetime_exp  lifetime_hyp  \\\n",
       "0                  217.392979  Peak 9-46H     52.483608     52.484055   \n",
       "1                         NaN  Peak 9-46H     52.483608     52.484055   \n",
       "2                  364.317211  Peak 9-46H     52.483608     52.484055   \n",
       "3                         NaN  Peak 9-46H     52.483608     52.484055   \n",
       "4                  359.263441  Peak 9-46H     52.483608     52.484055   \n",
       "\n",
       "   cum_production  well length  frac stages  \n",
       "0   157593.221982       7782.0           50  \n",
       "1   157593.221982       7782.0           50  \n",
       "2   157593.221982       7782.0           50  \n",
       "3   157593.221982       7782.0           50  \n",
       "4   157593.221982       7782.0           50  "
      ]
     },
     "execution_count": 61,
     "metadata": {},
     "output_type": "execute_result"
    }
   ],
   "source": [
    "big_df.head()"
   ]
  },
  {
   "cell_type": "code",
   "execution_count": 62,
   "metadata": {},
   "outputs": [
    {
     "data": {
      "text/plain": [
       "<pandas.core.groupby.generic.DataFrameGroupBy object at 0x7f1f55b29760>"
      ]
     },
     "execution_count": 62,
     "metadata": {},
     "output_type": "execute_result"
    }
   ],
   "source": [
    "big_df.groupby([\"Name\"])"
   ]
  },
  {
   "cell_type": "markdown",
   "metadata": {},
   "source": [
    "Change in water saturation"
   ]
  }
 ],
 "metadata": {
  "kernelspec": {
   "display_name": "Python 3",
   "language": "python",
   "name": "python3"
  },
  "language_info": {
   "codemirror_mode": {
    "name": "ipython",
    "version": 3
   },
   "file_extension": ".py",
   "mimetype": "text/x-python",
   "name": "python",
   "nbconvert_exporter": "python",
   "pygments_lexer": "ipython3",
   "version": "3.8.6"
  }
 },
 "nbformat": 4,
 "nbformat_minor": 4
}
