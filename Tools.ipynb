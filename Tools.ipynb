{
 "cells": [
  {
   "cell_type": "markdown",
   "metadata": {},
   "source": [
    "To start, we import all of the packages that we will need in this notebook. "
   ]
  },
  {
   "cell_type": "code",
   "execution_count": 1,
   "metadata": {},
   "outputs": [],
   "source": [
    "import glob\n",
    "import pandas as pd\n",
    "import numpy as np\n",
    "from scipy.integrate import quad\n",
    "from scipy.optimize import curve_fit"
   ]
  },
  {
   "cell_type": "markdown",
   "metadata": {},
   "source": [
    "# Problem 1 "
   ]
  },
  {
   "cell_type": "markdown",
   "metadata": {},
   "source": [
    "### Adding the features we will need to optimize to a DataFrame and then exporting to a csv"
   ]
  },
  {
   "cell_type": "markdown",
   "metadata": {},
   "source": [
    "Here we read in the well production.csv file "
   ]
  },
  {
   "cell_type": "code",
   "execution_count": 2,
   "metadata": {},
   "outputs": [],
   "source": [
    "well_productions = pd.read_csv(\"well productions/well production.csv\")"
   ]
  },
  {
   "cell_type": "markdown",
   "metadata": {},
   "source": [
    "Here we read in the csv file for each well "
   ]
  },
  {
   "cell_type": "code",
   "execution_count": 3,
   "metadata": {},
   "outputs": [],
   "source": [
    "import csv\n",
    "datas = []\n",
    "for file in glob.glob(\"well productions/*\"):\n",
    "    if \"well production.csv\" not in file:\n",
    "        frame = pd.read_csv(file)\n",
    "        # Strip off the extra things on the end\n",
    "        frame[\"Name\"] = file[17:-4]\n",
    "        datas.append(frame)"
   ]
  },
  {
   "cell_type": "markdown",
   "metadata": {},
   "source": [
    "The following function calculates the well length for each well and adds the well length of each well to the DataFrame "
   ]
  },
  {
   "cell_type": "code",
   "execution_count": 4,
   "metadata": {},
   "outputs": [],
   "source": [
    "def well_length(dataframe: pd.DataFrame):\n",
    "    dataframe[\"well length\"] = dataframe[\"easting\"].iloc[-1] - dataframe[\"easting\"][0]"
   ]
  },
  {
   "cell_type": "markdown",
   "metadata": {},
   "source": [
    "The following function calculates the number of frac stages for each well and adds the calculated value to the DataFrame"
   ]
  },
  {
   "cell_type": "code",
   "execution_count": 5,
   "metadata": {},
   "outputs": [],
   "source": [
    "def frac_stages(dataframe : pd.DataFrame):\n",
    "    dataframe[\"frac stages\"] = dataframe[dataframe[\"proppant weight (lbs)\"].isna() == False].shape[0]"
   ]
  },
  {
   "cell_type": "markdown",
   "metadata": {},
   "source": [
    "The following function sets proppant per stage as \"ppf.\" It will default to the maximum weight. "
   ]
  },
  {
   "cell_type": "code",
   "execution_count": 6,
   "metadata": {},
   "outputs": [],
   "source": [
    "def propant_per_stage(dataframe: pd.DataFrame, find_min=False):\n",
    "    if find_min:\n",
    "        val = min(dataframe[\"proppant weight (lbs)\"])\n",
    "    else:\n",
    "        val = max(dataframe[\"proppant weight (lbs)\"])\n",
    "    dataframe[\"ppf\"] = val"
   ]
  },
  {
   "cell_type": "markdown",
   "metadata": {},
   "source": [
    "The following function sets pump rate as \"pr.\" It will default to the maximum rate. "
   ]
  },
  {
   "cell_type": "code",
   "execution_count": 7,
   "metadata": {},
   "outputs": [],
   "source": [
    "def pump_rate(dataframe: pd.DataFrame, find_min=False):\n",
    "    if find_min:\n",
    "        val = min(dataframe[\"pump rate (cubic feet/min)\"])\n",
    "    else:\n",
    "        val = max(dataframe[\"pump rate (cubic feet/min)\"])\n",
    "    dataframe[\"pr\"] = val"
   ]
  },
  {
   "cell_type": "markdown",
   "metadata": {},
   "source": [
    "**I DON'T KNOW WHAT THIS DOES**"
   ]
  },
  {
   "cell_type": "code",
   "execution_count": 8,
   "metadata": {},
   "outputs": [],
   "source": [
    "def find_prodcution(dataframe: pd.DataFrame):\n",
    "    pass"
   ]
  },
  {
   "cell_type": "markdown",
   "metadata": {},
   "source": [
    "The below function finds how many years the well will economically produce oil, under the assumption that up to 93 barrels of oil is economical. To arrive at this value we **NEED TO RATIONALIZE THIS VALUE** "
   ]
  },
  {
   "cell_type": "code",
   "execution_count": 9,
   "metadata": {},
   "outputs": [],
   "source": [
    "def life_of_res(qi, D):\n",
    "    lifetime = 1/D*np.log(qi/93)\n",
    "    if lifetime < 0:\n",
    "        return 0\n",
    "    else: \n",
    "        return lifetime"
   ]
  },
  {
   "cell_type": "markdown",
   "metadata": {},
   "source": [
    "Exponential decline curve equation\n",
    "\n",
    "    Arguments:\n",
    "        t:  Number of months the well has been producing oil \n",
    "        qi: Float. Initial production rate when well first came online.\n",
    "        di: Float. Nominal decline rate (constant)\n",
    "        \n",
    "    Output: \n",
    "        Returns q, or the expected production rate at time t. Float."
   ]
  },
  {
   "cell_type": "code",
   "execution_count": 10,
   "metadata": {},
   "outputs": [],
   "source": [
    "def exponential_loss(t, qi, D): \n",
    "    return qi*np.exp(-D*t)"
   ]
  },
  {
   "cell_type": "markdown",
   "metadata": {},
   "source": [
    " Hyperbolic decline curve equation\n",
    " \n",
    "    Arguments:\n",
    "        t:  Number of months the well has been producing oil\n",
    "        qi: Float. Initial production rate when well first came online.\n",
    "        b:  Float. Hyperbolic decline constant\n",
    "        di: Float. Nominal decline rate at time t=0\n",
    "    Output: \n",
    "        Returns q, or the expected production rate at time t. Float."
   ]
  },
  {
   "cell_type": "code",
   "execution_count": 11,
   "metadata": {},
   "outputs": [],
   "source": [
    "def hyperbolic_equation(t, qi, b, di):\n",
    "    return qi/((1.0+b*di*t)**(1.0/b))"
   ]
  },
  {
   "cell_type": "markdown",
   "metadata": {},
   "source": [
    "This function allows you to look at the first X months of production, and selects the highest production month as max initial production. It returns the max initial production in the first X months along with a series that contains the values of oil production for the first 12 months. \n",
    "    \n",
    "    Arguments:\n",
    "        number_first_months: int. Number of months from the point the well comes online\n",
    "        to compare to get the max initial production rate qi (this looks at multiple months\n",
    "        in case there is a production ramp-up)\n",
    "        \n",
    "        well_name: String. name of the well where we're attempting to get\n",
    "        the max volume from."
   ]
  },
  {
   "cell_type": "code",
   "execution_count": 12,
   "metadata": {},
   "outputs": [],
   "source": [
    "def get_max_initial_production(number_first_months, well_name):\n",
    "    \n",
    "    row = well_productions.loc[well_productions[\"well name\"] == well_name]\n",
    "    val=0      \n",
    "    row = row.filter(regex='oil')\n",
    "    row=row.T.squeeze()\n",
    "    \n",
    "    for i in range(number_first_months):\n",
    "        val = max(row[i], val)\n",
    "\n",
    "    return val, row"
   ]
  },
  {
   "cell_type": "markdown",
   "metadata": {},
   "source": [
    "The below two functions find the defined integral of the fitted exponential and hyperbolic equations between 0 and the calculated life of the reservoir. Our team found that was easier to use an integral then implement the equation fround in the \"Hinge Basin\" notebook. "
   ]
  },
  {
   "cell_type": "code",
   "execution_count": 13,
   "metadata": {},
   "outputs": [],
   "source": [
    "def get_cumulative_exponential(qi, D):\n",
    "    return quad(exponential_loss, 0, life_of_res(qi, D), args=(qi,D))\n",
    "\n",
    "def get_cumulative_hyperbolic(qi, b, di):\n",
    "    return quad(hyperbolic_equation, 0, life_of_res(qi, di), args=(qi, b, di))"
   ]
  },
  {
   "cell_type": "markdown",
   "metadata": {},
   "source": [
    "The following function will add the expected lifetime of the well when using the exponential_loss function and the hyperbolic function then add the respective values to the dataframe. Following that, it will find the cumulative production with the least amount of error out of the two functions, and add that value to the DataFrame. "
   ]
  },
  {
   "cell_type": "code",
   "execution_count": 14,
   "metadata": {},
   "outputs": [],
   "source": [
    "time_series=pd.Series(list(range(12)))\n",
    "def cum_production(dataframe: pd.DataFrame, find_min=False):\n",
    "    #find the name of the current well being examined\n",
    "    name = dataframe[\"Name\"][0]\n",
    "    #Set qi equal to the maximum production in the first 5 months of this well's lifespan, and row equal to the series of the \n",
    "    #first 12 months' production values\n",
    "    qi, row = get_max_initial_production(5, name)\n",
    "    \n",
    "    #Use the scipy curve_fit function to get the best possible exponential and hyperbolic curves\n",
    "    popt_exp, pcov_exp = curve_fit(exponential_loss, time_series, row, bounds=(0, [qi,20]))\n",
    "    popt_hyp, pcov_hyp=curve_fit(hyperbolic_equation, time_series, row,bounds=(0, [qi,2,20]))\n",
    "    \n",
    "    #Get the defined integral's value and error for both the exponential and hyperbolic curves\n",
    "    cp_exp = get_cumulative_exponential(*popt_exp)\n",
    "    cp_hyp = get_cumulative_hyperbolic(*popt_hyp)\n",
    "\n",
    "    #Set cumulative production to whichever defined integral has the least error\n",
    "    if cp_exp[1] < cp_hyp[1]: \n",
    "        cum_production = cp_exp[0]\n",
    "    else: \n",
    "        cum_production = cp_hyp[0]\n",
    "\n",
    "    #Add the respected calculated lifetimes for the exponential and hyperbolic curves to the dataframe then add the \n",
    "    #calculated cumulative production. \n",
    "    dataframe[\"lifetime_exp\"] = life_of_res(*popt_exp)\n",
    "    dataframe[\"lifetime_hyp\"] = life_of_res(popt_hyp[0], popt_hyp[2])\n",
    "    dataframe[\"cum_production\"] = cum_production\n"
   ]
  },
  {
   "cell_type": "markdown",
   "metadata": {},
   "source": [
    "Here we call all of the functions we wrote that add the values we will need to optimize to the DataFrame "
   ]
  },
  {
   "cell_type": "code",
   "execution_count": 15,
   "metadata": {},
   "outputs": [],
   "source": [
    "%%capture\n",
    "list(map(cum_production, datas))\n",
    "list(map(well_length, datas))\n",
    "list(map(frac_stages, datas))"
   ]
  },
  {
   "cell_type": "markdown",
   "metadata": {},
   "source": [
    "Here we drop the duplicate wells from the dataframe"
   ]
  },
  {
   "cell_type": "code",
   "execution_count": 16,
   "metadata": {
    "scrolled": true
   },
   "outputs": [],
   "source": [
    "%%capture\n",
    "big_df = pd.concat(datas)\n",
    "big_df.drop_duplicates(subset=['Name'], inplace=True)"
   ]
  },
  {
   "cell_type": "markdown",
   "metadata": {},
   "source": [
    "Here we export our DataFrame to a new csv file "
   ]
  },
  {
   "cell_type": "code",
   "execution_count": 17,
   "metadata": {},
   "outputs": [],
   "source": [
    "big_df.to_csv(\"bigPoppa.csv\", index=False)"
   ]
  },
  {
   "cell_type": "markdown",
   "metadata": {},
   "source": [
    "### Creating a model that uses the features we added to the dataframe to predict cumulative output"
   ]
  },
  {
   "cell_type": "markdown",
   "metadata": {},
   "source": [
    "**We should finally be able to get to the fun stuff now 😁**"
   ]
  },
  {
   "cell_type": "code",
   "execution_count": null,
   "metadata": {},
   "outputs": [],
   "source": []
  }
 ],
 "metadata": {
  "kernelspec": {
   "display_name": "Python 3",
   "language": "python",
   "name": "python3"
  },
  "language_info": {
   "codemirror_mode": {
    "name": "ipython",
    "version": 3
   },
   "file_extension": ".py",
   "mimetype": "text/x-python",
   "name": "python",
   "nbconvert_exporter": "python",
   "pygments_lexer": "ipython3",
   "version": "3.8.3"
  }
 },
 "nbformat": 4,
 "nbformat_minor": 4
}
