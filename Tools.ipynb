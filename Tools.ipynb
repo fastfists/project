{
 "cells": [
  {
   "cell_type": "markdown",
   "metadata": {},
   "source": [
    "To start, we import all of the packages that we will need in this notebook. "
   ]
  },
  {
   "cell_type": "code",
   "execution_count": 1,
   "metadata": {},
   "outputs": [],
   "source": [
    "import glob\n",
    "import pandas as pd\n",
    "import numpy as np\n",
    "from scipy.integrate import quad\n",
    "from scipy.optimize import curve_fit"
   ]
  },
  {
   "cell_type": "markdown",
   "metadata": {},
   "source": [
    "# Stage 1: Preprocess The data"
   ]
  },
  {
   "cell_type": "markdown",
   "metadata": {},
   "source": [
    "### Adding the features we will need to optimize to a DataFrame and then exporting to a csv"
   ]
  },
  {
   "cell_type": "markdown",
   "metadata": {},
   "source": [
    "Here we read in the well production.csv file "
   ]
  },
  {
   "cell_type": "code",
   "execution_count": 2,
   "metadata": {},
   "outputs": [],
   "source": [
    "well_productions = pd.read_csv(\"well productions/well production.csv\")"
   ]
  },
  {
   "cell_type": "markdown",
   "metadata": {},
   "source": [
    "Here we read in the csv file for each well "
   ]
  },
  {
   "cell_type": "code",
   "execution_count": 3,
   "metadata": {},
   "outputs": [],
   "source": [
    "import csv\n",
    "datas = []\n",
    "for file in glob.glob(\"well productions/*\"):\n",
    "    if \"well production.csv\" not in file:\n",
    "        frame = pd.read_csv(file)\n",
    "        # Strip off the extra things on the end\n",
    "        frame[\"Name\"] = file[17:-4]\n",
    "        datas.append(frame)"
   ]
  },
  {
   "cell_type": "markdown",
   "metadata": {},
   "source": [
    "The following function calculates the well length for each well and adds the well length of each well to the DataFrame\n"
   ]
  },
  {
   "cell_type": "code",
   "execution_count": 4,
   "metadata": {},
   "outputs": [],
   "source": [
    "def well_length(dataframe: pd.DataFrame):\n",
    "    dataframe[\"well length\"] = dataframe[\"easting\"].iloc[-1] - dataframe[\"easting\"][0]"
   ]
  },
  {
   "cell_type": "markdown",
   "metadata": {},
   "source": [
    "The following function calculates the number of frac stages for each well and adds the calculated value to the DataFrame"
   ]
  },
  {
   "cell_type": "code",
   "execution_count": 5,
   "metadata": {},
   "outputs": [],
   "source": [
    "def frac_stages(dataframe : pd.DataFrame):\n",
    "    dataframe[\"frac stages\"] = dataframe[dataframe[\"proppant weight (lbs)\"].isna() == False].shape[0]"
   ]
  },
  {
   "cell_type": "markdown",
   "metadata": {},
   "source": [
    "The following function sets proppant per stage as \"ppf.\" It will default to the maximum weight. "
   ]
  },
  {
   "cell_type": "code",
   "execution_count": 6,
   "metadata": {},
   "outputs": [],
   "source": [
    "def proppant_per_stage(dataframe: pd.DataFrame, find_min=False):\n",
    "    if find_min:\n",
    "        val = min(dataframe[\"proppant weight (lbs)\"])\n",
    "    else:\n",
    "        val = max(dataframe[\"proppant weight (lbs)\"])\n",
    "    dataframe[\"ppf\"] = val"
   ]
  },
  {
   "cell_type": "markdown",
   "metadata": {},
   "source": [
    "The following function sets pump rate as \"pr.\" It will default to the maximum rate. "
   ]
  },
  {
   "cell_type": "code",
   "execution_count": 7,
   "metadata": {},
   "outputs": [],
   "source": [
    "def pump_rate(dataframe: pd.DataFrame, find_min=False):\n",
    "    if find_min:\n",
    "        val = min(dataframe[\"pump rate (cubic feet/min)\"])\n",
    "    else:\n",
    "        val = max(dataframe[\"pump rate (cubic feet/min)\"])\n",
    "    dataframe[\"pr\"] = val"
   ]
  },
  {
   "cell_type": "markdown",
   "metadata": {},
   "source": [
    "The below function finds how many years the well will economically produce oil, under the assumption that up to 93 barrels of oil is economical. To arrive at this value we **NEED TO RATIONALIZE THIS VALUE** "
   ]
  },
  {
   "cell_type": "code",
   "execution_count": 8,
   "metadata": {},
   "outputs": [],
   "source": [
    "def life_of_res(qi, D):\n",
    "    lifetime = 1/D*np.log(qi/93)\n",
    "    if lifetime < 0:\n",
    "        return 0\n",
    "    else: \n",
    "        return lifetime"
   ]
  },
  {
   "cell_type": "markdown",
   "metadata": {},
   "source": [
    "exponential loss curve\n",
    "\n",
    "$ q(t) = q_ie^{-Dt} $\n",
    "\n",
    "Where $D$ is the decline rate and $q_i$ is the initial rate of production\n",
    "Exponential decline curve equation\n",
    "\n",
    "    Arguments:\n",
    "        t:  Number of months the well has been producing oil \n",
    "        qi: Float. Initial production rate when well first came online.\n",
    "        di: Float. Nominal decline rate (constant)\n",
    "        \n",
    "    Output: \n",
    "        Returns q, or the expected production rate at time t. Float."
   ]
  },
  {
   "cell_type": "code",
   "execution_count": 9,
   "metadata": {},
   "outputs": [],
   "source": [
    "def exponential_loss(t, qi, D): \n",
    "    return qi*np.exp(-D*t)"
   ]
  },
  {
   "cell_type": "markdown",
   "metadata": {},
   "source": [
    " $ q(t) = \\frac{q_i}{(1+bDt)^{1.0/b}} $\n",
    " \n",
    " Hyperbolic decline curve equation\n",
    " \n",
    "    Arguments:\n",
    "        t:  Number of months the well has been producing oil\n",
    "        qi: Float. Initial production rate when well first came online.\n",
    "        b:  Float. Hyperbolic decline constant\n",
    "        di: Float. Nominal decline rate at time t=0\n",
    "    Output: \n",
    "        Returns q, or the expected production rate at time t. Float."
   ]
  },
  {
   "cell_type": "code",
   "execution_count": 10,
   "metadata": {},
   "outputs": [],
   "source": [
    "def hyperbolic_loss(t, qi, b, di):\n",
    "    return qi/((1.0+b*di*t)**(1.0/b))"
   ]
  },
  {
   "cell_type": "markdown",
   "metadata": {},
   "source": [
    "This function allows you to look at the first X months of production, and selects the highest production month as max initial production. It returns the max initial production in the first X months along with a series that contains the values of oil production for the first 12 months. \n",
    "    \n",
    "    Arguments:\n",
    "        number_first_months: int. Number of months from the point the well comes online\n",
    "        to compare to get the max initial production rate qi (this looks at multiple months\n",
    "        in case there is a production ramp-up)\n",
    "        \n",
    "        well_name: String. name of the well where we're attempting to get\n",
    "        the max volume from."
   ]
  },
  {
   "cell_type": "code",
   "execution_count": 11,
   "metadata": {},
   "outputs": [],
   "source": [
    "def get_max_initial_production(number_first_months, well_name):\n",
    "    \n",
    "    row = well_productions.loc[well_productions[\"well name\"] == well_name]\n",
    "    val=0      \n",
    "    row = row.filter(regex='oil')\n",
    "    row=row.T.squeeze()\n",
    "    \n",
    "    for i in range(number_first_months):\n",
    "        val = max(row[i], val)\n",
    "\n",
    "    return val, row"
   ]
  },
  {
   "cell_type": "markdown",
   "metadata": {},
   "source": [
    "The below two functions find the defined integral of the fitted exponential and hyperbolic equations between 0 and the calculated life of the reservoir. Our team found that was easier to use an integral then implement the equation fround in the \"Hinge Basin\" notebook. \n",
    "\n",
    "$ N_p = \\int_0^{L_t} q(t)dt $ Where $N_p$ is total production and $L_t$ is the lifetime of the well"
   ]
  },
  {
   "cell_type": "code",
   "execution_count": 12,
   "metadata": {},
   "outputs": [],
   "source": [
    "def get_cumulative_exponential(qi, D):\n",
    "    return quad(exponential_loss, 0, life_of_res(qi, D), args=(qi,D))\n",
    "\n",
    "def get_cumulative_hyperbolic(qi, b, di):\n",
    "    return quad(hyperbolic_loss, 0, life_of_res(qi, di), args=(qi, b, di))"
   ]
  },
  {
   "cell_type": "markdown",
   "metadata": {},
   "source": [
    "The following function will add the expected lifetime of the well when using the exponential_loss function and the hyperbolic function then add the respective values to the dataframe. Following that, it will find the cumulative production with the least amount of error out of the two functions, and add that value to the DataFrame. "
   ]
  },
  {
   "cell_type": "code",
   "execution_count": 13,
   "metadata": {},
   "outputs": [],
   "source": [
    "time_series=pd.Series(list(range(12)))\n",
    "def cum_production(dataframe: pd.DataFrame, find_min=False):\n",
    "    #find the name of the current well being examined\n",
    "    name = dataframe[\"Name\"][0]\n",
    "    #Set qi equal to the maximum production in the first 5 months of this well's lifespan, and row equal to the series of the \n",
    "    #first 12 months' production values\n",
    "    qi, row = get_max_initial_production(5, name)\n",
    "    \n",
    "    #Use the scipy curve_fit function to get the best possible exponential and hyperbolic curves\n",
    "    popt_exp, pcov_exp = curve_fit(exponential_loss, time_series, row, bounds=(0, [qi,20]))\n",
    "    popt_hyp, pcov_hyp=curve_fit(hyperbolic_loss, time_series, row,bounds=(0, [qi,2,20]))\n",
    "    \n",
    "    #Get the defined integral's value and error for both the exponential and hyperbolic curves\n",
    "    cp_exp = get_cumulative_exponential(*popt_exp)\n",
    "    cp_hyp = get_cumulative_hyperbolic(*popt_hyp)\n",
    "\n",
    "    #Set cumulative production to whichever defined integral has the least error\n",
    "    if cp_exp[1] < cp_hyp[1]: \n",
    "        cum_production = cp_exp[0]\n",
    "    else: \n",
    "        cum_production = cp_hyp[0]\n",
    "\n",
    "    #Add the respected calculated lifetimes for the exponential and hyperbolic curves to the dataframe then add the \n",
    "    #calculated cumulative production. \n",
    "    dataframe[\"lifetime_exp\"] = life_of_res(*popt_exp)\n",
    "    dataframe[\"lifetime_hyp\"] = life_of_res(popt_hyp[0], popt_hyp[2])\n",
    "    dataframe[\"cum_production\"] = cum_production\n"
   ]
  },
  {
   "cell_type": "markdown",
   "metadata": {},
   "source": [
    "Here we call all of the functions we wrote that add the values we will need to optimize to the DataFrame "
   ]
  },
  {
   "cell_type": "code",
   "execution_count": 14,
   "metadata": {},
   "outputs": [],
   "source": [
    "%%capture\n",
    "list(map(cum_production, datas))\n",
    "list(map(well_length, datas))\n",
    "list(map(frac_stages, datas))\n",
    "list(map(proppant_per_stage, datas))\n",
    "list(map(pump_rate, datas))"
   ]
  },
  {
   "cell_type": "markdown",
   "metadata": {},
   "source": [
    "Here we drop the duplicate wells from the dataframe"
   ]
  },
  {
   "cell_type": "code",
   "execution_count": 15,
   "metadata": {
    "scrolled": true
   },
   "outputs": [],
   "source": [
    "%%capture\n",
    "big_df = pd.concat(datas)\n",
    "## Removing duplicates makes graphing well locations significantly harder. Remove duplicates when regressing\n",
    "# big_df.drop_duplicates(subset=['Name'], inplace=True)"
   ]
  },
  {
   "cell_type": "markdown",
   "metadata": {},
   "source": [
    "Here we export our DataFrame to a new csv file so we no longer need to run preprocessing cells above"
   ]
  },
  {
   "cell_type": "code",
   "execution_count": 16,
   "metadata": {},
   "outputs": [],
   "source": [
    "big_df.to_csv(\"bigPoppa.csv\", index=False)"
   ]
  },
  {
   "cell_type": "markdown",
   "metadata": {},
   "source": [
    "# Stage2: Creating a model to predict cumulative output"
   ]
  },
  {
   "cell_type": "markdown",
   "metadata": {},
   "source": [
    "### Creating a model that uses the features we added to the dataframe to predict cumulative output"
   ]
  },
  {
   "cell_type": "markdown",
   "metadata": {},
   "source": [
    "**We should finally be able to get to the fun stuff now 😁**"
   ]
  },
  {
   "cell_type": "code",
   "execution_count": 17,
   "metadata": {},
   "outputs": [],
   "source": [
    "big_df = pd.read_csv(\"bigPoppa.csv\")"
   ]
  },
  {
   "cell_type": "code",
   "execution_count": 18,
   "metadata": {},
   "outputs": [],
   "source": [
    "data = big_df.drop_duplicates(subset=['Name'])"
   ]
  },
  {
   "cell_type": "code",
   "execution_count": 19,
   "metadata": {},
   "outputs": [
    {
     "data": {
      "text/plain": [
       "count    100.000000\n",
       "mean      35.994162\n",
       "std       11.099830\n",
       "min        0.072446\n",
       "25%       30.127467\n",
       "50%       37.639081\n",
       "75%       43.862433\n",
       "max       52.483608\n",
       "Name: lifetime_exp, dtype: float64"
      ]
     },
     "execution_count": 19,
     "metadata": {},
     "output_type": "execute_result"
    }
   ],
   "source": [
    "data[\"lifetime_exp\"].describe() # should be measured in years"
   ]
  },
  {
   "cell_type": "markdown",
   "metadata": {},
   "source": [
    "In order to apply any sort of regression to our data, we must first clean our data and remove all non-numerical values that will not add any specific input into our final predictions. For this dataset, we see that the Names column along with any rows that have NaN/Infinity/Empty data should not be included in our model. Therefore, we will remove these anomalies from our data."
   ]
  },
  {
   "cell_type": "code",
   "execution_count": 20,
   "metadata": {},
   "outputs": [],
   "source": [
    "data = data.drop(['Name'], axis=1)"
   ]
  },
  {
   "cell_type": "code",
   "execution_count": 21,
   "metadata": {},
   "outputs": [],
   "source": [
    "def clean_dataset(df):\n",
    "    df = df.dropna()\n",
    "    indices_to_keep = ~df.isin([np.nan, np.inf, -np.inf]).any(1)\n",
    "    return df[indices_to_keep].astype(np.float64)"
   ]
  },
  {
   "cell_type": "code",
   "execution_count": 22,
   "metadata": {},
   "outputs": [],
   "source": [
    "clean_data = clean_dataset(data)"
   ]
  },
  {
   "cell_type": "markdown",
   "metadata": {},
   "source": [
    "After cleaning our data, we will use all but the cumulative production data in our dataframe to predict our cumulative production for each well."
   ]
  },
  {
   "cell_type": "code",
   "execution_count": 50,
   "metadata": {},
   "outputs": [],
   "source": [
    "drop_columns = ['cum_production', 'lifetime_hyp', 'lifetime_exp', 'proppant weight (lbs)', 'pump rate (cubic feet/min) ']\n",
    "#Changed this to just look at the values we are supposed to \n",
    "x = clean_data.drop(drop_columns, axis = 1)\n",
    "y = clean_data['cum_production']"
   ]
  },
  {
   "cell_type": "code",
   "execution_count": 51,
   "metadata": {},
   "outputs": [],
   "source": [
    "from sklearn.model_selection import train_test_split\n",
    "x_train, x_test, y_train, y_test = train_test_split(x,y, test_size=0.3, random_state=86)"
   ]
  },
  {
   "cell_type": "code",
   "execution_count": 56,
   "metadata": {},
   "outputs": [],
   "source": [
    "from sklearn.ensemble import RandomForestRegressor\n",
    "rf = RandomForestRegressor(random_state=86)\n",
    "rf.fit(x_train, y_train)\n",
    "prediction = rf.predict(x_test)"
   ]
  },
  {
   "cell_type": "code",
   "execution_count": 57,
   "metadata": {},
   "outputs": [
    {
     "data": {
      "text/plain": [
       "0.6498210529452331"
      ]
     },
     "execution_count": 57,
     "metadata": {},
     "output_type": "execute_result"
    }
   ],
   "source": [
    "rf.score(x_test,y_test)"
   ]
  },
  {
   "cell_type": "code",
   "execution_count": 58,
   "metadata": {},
   "outputs": [],
   "source": [
    "def feature_importances(model, features_df):\n",
    "    print(\"  Feature\".ljust(36) + \"  Score\")\n",
    "    print(\"-\"*60)\n",
    "    for i, feature in enumerate(model.feature_importances_):\n",
    "        print(\"| \", end=\"\")\n",
    "        print(f\"{features_df.columns[i]}\".ljust(36), end=\"|\")\n",
    "        print(f\"{feature}\".ljust(20), end=\"\")\n",
    "        print(\" |\")\n",
    "        print(\"-\"*60)"
   ]
  },
  {
   "cell_type": "code",
   "execution_count": 59,
   "metadata": {},
   "outputs": [
    {
     "name": "stdout",
     "output_type": "stream",
     "text": [
      "  Feature                             Score\n",
      "------------------------------------------------------------\n",
      "| easting                             |0.03816230483835848  |\n",
      "------------------------------------------------------------\n",
      "| northing                            |0.2341596965393692   |\n",
      "------------------------------------------------------------\n",
      "| porosity                            |0.03828529833133747  |\n",
      "------------------------------------------------------------\n",
      "| permeability                        |0.31000819893947257  |\n",
      "------------------------------------------------------------\n",
      "| Poisson's ratio                     |0.015577133054254854 |\n",
      "------------------------------------------------------------\n",
      "| Young's Modulus                     |0.023795827172025684 |\n",
      "------------------------------------------------------------\n",
      "| water saturation                    |0.012469452391836621 |\n",
      "------------------------------------------------------------\n",
      "| oil saturation                      |0.009764711419523928 |\n",
      "------------------------------------------------------------\n",
      "| proppant weight (lbs)               |0.02888509024872331  |\n",
      "------------------------------------------------------------\n",
      "| pump rate (cubic feet/min)          |0.02028790422686587  |\n",
      "------------------------------------------------------------\n",
      "| well length                         |0.021520632448410296 |\n",
      "------------------------------------------------------------\n",
      "| frac stages                         |0.1603015407868432   |\n",
      "------------------------------------------------------------\n",
      "| ppf                                 |0.06254507534572046  |\n",
      "------------------------------------------------------------\n",
      "| pr                                  |0.024237134257258118 |\n",
      "------------------------------------------------------------\n"
     ]
    }
   ],
   "source": [
    "feature_importances(rf, x)"
   ]
  },
  {
   "cell_type": "code",
   "execution_count": 30,
   "metadata": {},
   "outputs": [
    {
     "data": {
      "text/plain": [
       "(<30x8648 sparse matrix of type '<class 'numpy.int64'>'\n",
       " \twith 22267 stored elements in Compressed Sparse Row format>,\n",
       " array([   0,   93,  186,  265,  336,  427,  508,  599,  690,  783,  868,\n",
       "         957, 1040, 1131, 1222, 1315, 1400, 1487, 1558, 1643, 1734, 1825,\n",
       "        1924, 2011, 2104, 2187, 2266, 2349, 2430, 2509, 2598, 2685, 2772,\n",
       "        2865, 2946, 3025, 3116, 3209, 3308, 3389, 3470, 3561, 3640, 3723,\n",
       "        3810, 3887, 3974, 4057, 4146, 4223, 4310, 4395, 4492, 4577, 4660,\n",
       "        4747, 4834, 4921, 4996, 5085, 5168, 5259, 5340, 5421, 5504, 5581,\n",
       "        5668, 5755, 5840, 5929, 6016, 6103, 6182, 6267, 6352, 6443, 6524,\n",
       "        6605, 6696, 6789, 6876, 6967, 7062, 7153, 7242, 7337, 7430, 7515,\n",
       "        7602, 7687, 7774, 7867, 7948, 8031, 8124, 8221, 8306, 8389, 8470,\n",
       "        8561, 8648], dtype=int32))"
      ]
     },
     "execution_count": 30,
     "metadata": {},
     "output_type": "execute_result"
    }
   ],
   "source": [
    "rf.decision_path(x_test)"
   ]
  },
  {
   "cell_type": "markdown",
   "metadata": {},
   "source": [
    "Below we will see the differences between the regressor's predictions and the actual cumulative production"
   ]
  },
  {
   "cell_type": "code",
   "execution_count": null,
   "metadata": {},
   "outputs": [],
   "source": [
    "cnt = 1;\n",
    "for diff in prediction-y_test:\n",
    "    print(str(cnt)+': ' + str(diff))\n",
    "    cnt += 1"
   ]
  },
  {
   "cell_type": "markdown",
   "metadata": {},
   "source": [
    "# Stage 3: Fancy graphs"
   ]
  },
  {
   "cell_type": "code",
   "execution_count": 43,
   "metadata": {},
   "outputs": [],
   "source": [
    "import matplotlib.pyplot as plt\n",
    "import seaborn as sns"
   ]
  },
  {
   "cell_type": "markdown",
   "metadata": {},
   "source": [
    "Graph all well locations"
   ]
  },
  {
   "cell_type": "code",
   "execution_count": 44,
   "metadata": {},
   "outputs": [
    {
     "data": {
      "text/html": [
       "<div>\n",
       "<style scoped>\n",
       "    .dataframe tbody tr th:only-of-type {\n",
       "        vertical-align: middle;\n",
       "    }\n",
       "\n",
       "    .dataframe tbody tr th {\n",
       "        vertical-align: top;\n",
       "    }\n",
       "\n",
       "    .dataframe thead th {\n",
       "        text-align: right;\n",
       "    }\n",
       "</style>\n",
       "<table border=\"1\" class=\"dataframe\">\n",
       "  <thead>\n",
       "    <tr style=\"text-align: right;\">\n",
       "      <th></th>\n",
       "      <th>easting</th>\n",
       "      <th>northing</th>\n",
       "      <th>porosity</th>\n",
       "      <th>permeability</th>\n",
       "      <th>Poisson's ratio</th>\n",
       "      <th>Young's Modulus</th>\n",
       "      <th>water saturation</th>\n",
       "      <th>oil saturation</th>\n",
       "      <th>proppant weight (lbs)</th>\n",
       "      <th>pump rate (cubic feet/min)</th>\n",
       "      <th>lifetime_exp</th>\n",
       "      <th>lifetime_hyp</th>\n",
       "      <th>cum_production</th>\n",
       "      <th>well length</th>\n",
       "      <th>frac stages</th>\n",
       "      <th>ppf</th>\n",
       "      <th>pr</th>\n",
       "    </tr>\n",
       "  </thead>\n",
       "  <tbody>\n",
       "    <tr>\n",
       "      <th>0</th>\n",
       "      <td>41700.0</td>\n",
       "      <td>99100.0</td>\n",
       "      <td>0.04</td>\n",
       "      <td>0.006</td>\n",
       "      <td>0.301</td>\n",
       "      <td>9.391151e+06</td>\n",
       "      <td>0.206423</td>\n",
       "      <td>0.793577</td>\n",
       "      <td>957450.525302</td>\n",
       "      <td>269.739431</td>\n",
       "      <td>31.795917</td>\n",
       "      <td>31.795135</td>\n",
       "      <td>18616.620283</td>\n",
       "      <td>6974.0</td>\n",
       "      <td>50</td>\n",
       "      <td>1.660919e+06</td>\n",
       "      <td>384.966548</td>\n",
       "    </tr>\n",
       "    <tr>\n",
       "      <th>100</th>\n",
       "      <td>64600.0</td>\n",
       "      <td>41500.0</td>\n",
       "      <td>0.08</td>\n",
       "      <td>0.031</td>\n",
       "      <td>0.324</td>\n",
       "      <td>1.230187e+07</td>\n",
       "      <td>0.185046</td>\n",
       "      <td>0.814954</td>\n",
       "      <td>356513.179448</td>\n",
       "      <td>401.067034</td>\n",
       "      <td>32.834944</td>\n",
       "      <td>32.835989</td>\n",
       "      <td>20318.886290</td>\n",
       "      <td>9866.0</td>\n",
       "      <td>12</td>\n",
       "      <td>1.026812e+06</td>\n",
       "      <td>401.067034</td>\n",
       "    </tr>\n",
       "    <tr>\n",
       "      <th>200</th>\n",
       "      <td>72900.0</td>\n",
       "      <td>30500.0</td>\n",
       "      <td>0.08</td>\n",
       "      <td>0.034</td>\n",
       "      <td>0.336</td>\n",
       "      <td>9.311558e+06</td>\n",
       "      <td>0.139228</td>\n",
       "      <td>0.860772</td>\n",
       "      <td>246849.550936</td>\n",
       "      <td>270.733768</td>\n",
       "      <td>47.025298</td>\n",
       "      <td>47.025132</td>\n",
       "      <td>91967.803523</td>\n",
       "      <td>6290.0</td>\n",
       "      <td>50</td>\n",
       "      <td>2.187190e+06</td>\n",
       "      <td>410.543330</td>\n",
       "    </tr>\n",
       "    <tr>\n",
       "      <th>300</th>\n",
       "      <td>72900.0</td>\n",
       "      <td>5300.0</td>\n",
       "      <td>0.09</td>\n",
       "      <td>0.043</td>\n",
       "      <td>0.314</td>\n",
       "      <td>9.446411e+06</td>\n",
       "      <td>0.192124</td>\n",
       "      <td>0.807876</td>\n",
       "      <td>652732.541059</td>\n",
       "      <td>373.060379</td>\n",
       "      <td>51.559547</td>\n",
       "      <td>51.560152</td>\n",
       "      <td>143372.187733</td>\n",
       "      <td>7191.0</td>\n",
       "      <td>50</td>\n",
       "      <td>2.208587e+06</td>\n",
       "      <td>410.624954</td>\n",
       "    </tr>\n",
       "    <tr>\n",
       "      <th>400</th>\n",
       "      <td>81700.0</td>\n",
       "      <td>30000.0</td>\n",
       "      <td>0.10</td>\n",
       "      <td>0.040</td>\n",
       "      <td>0.333</td>\n",
       "      <td>9.947234e+06</td>\n",
       "      <td>0.215958</td>\n",
       "      <td>0.784042</td>\n",
       "      <td>470219.092642</td>\n",
       "      <td>254.088125</td>\n",
       "      <td>39.532522</td>\n",
       "      <td>39.532906</td>\n",
       "      <td>42950.540211</td>\n",
       "      <td>7521.0</td>\n",
       "      <td>25</td>\n",
       "      <td>1.143460e+06</td>\n",
       "      <td>358.428723</td>\n",
       "    </tr>\n",
       "    <tr>\n",
       "      <th>...</th>\n",
       "      <td>...</td>\n",
       "      <td>...</td>\n",
       "      <td>...</td>\n",
       "      <td>...</td>\n",
       "      <td>...</td>\n",
       "      <td>...</td>\n",
       "      <td>...</td>\n",
       "      <td>...</td>\n",
       "      <td>...</td>\n",
       "      <td>...</td>\n",
       "      <td>...</td>\n",
       "      <td>...</td>\n",
       "      <td>...</td>\n",
       "      <td>...</td>\n",
       "      <td>...</td>\n",
       "      <td>...</td>\n",
       "      <td>...</td>\n",
       "    </tr>\n",
       "    <tr>\n",
       "      <th>9500</th>\n",
       "      <td>35400.0</td>\n",
       "      <td>85000.0</td>\n",
       "      <td>0.04</td>\n",
       "      <td>0.009</td>\n",
       "      <td>0.316</td>\n",
       "      <td>7.979614e+06</td>\n",
       "      <td>0.072113</td>\n",
       "      <td>0.927887</td>\n",
       "      <td>290322.997780</td>\n",
       "      <td>311.644517</td>\n",
       "      <td>24.964546</td>\n",
       "      <td>24.964541</td>\n",
       "      <td>8615.059330</td>\n",
       "      <td>9109.0</td>\n",
       "      <td>34</td>\n",
       "      <td>1.360343e+06</td>\n",
       "      <td>383.232420</td>\n",
       "    </tr>\n",
       "    <tr>\n",
       "      <th>9600</th>\n",
       "      <td>61800.0</td>\n",
       "      <td>29300.0</td>\n",
       "      <td>0.08</td>\n",
       "      <td>0.023</td>\n",
       "      <td>0.333</td>\n",
       "      <td>1.020993e+07</td>\n",
       "      <td>0.129476</td>\n",
       "      <td>0.870524</td>\n",
       "      <td>133249.214788</td>\n",
       "      <td>264.433905</td>\n",
       "      <td>49.228772</td>\n",
       "      <td>49.228504</td>\n",
       "      <td>113114.392647</td>\n",
       "      <td>6795.0</td>\n",
       "      <td>50</td>\n",
       "      <td>1.439961e+06</td>\n",
       "      <td>409.807944</td>\n",
       "    </tr>\n",
       "    <tr>\n",
       "      <th>9700</th>\n",
       "      <td>19800.0</td>\n",
       "      <td>60700.0</td>\n",
       "      <td>0.02</td>\n",
       "      <td>0.001</td>\n",
       "      <td>0.293</td>\n",
       "      <td>1.175889e+07</td>\n",
       "      <td>0.082095</td>\n",
       "      <td>0.917905</td>\n",
       "      <td>450363.540764</td>\n",
       "      <td>287.230002</td>\n",
       "      <td>24.922221</td>\n",
       "      <td>24.922494</td>\n",
       "      <td>8405.095210</td>\n",
       "      <td>5029.0</td>\n",
       "      <td>50</td>\n",
       "      <td>1.260802e+06</td>\n",
       "      <td>405.781633</td>\n",
       "    </tr>\n",
       "    <tr>\n",
       "      <th>9800</th>\n",
       "      <td>47700.0</td>\n",
       "      <td>86600.0</td>\n",
       "      <td>0.05</td>\n",
       "      <td>0.008</td>\n",
       "      <td>0.295</td>\n",
       "      <td>8.382774e+06</td>\n",
       "      <td>0.095713</td>\n",
       "      <td>0.904287</td>\n",
       "      <td>861005.219866</td>\n",
       "      <td>336.465099</td>\n",
       "      <td>37.037311</td>\n",
       "      <td>37.037445</td>\n",
       "      <td>32621.298208</td>\n",
       "      <td>6076.0</td>\n",
       "      <td>50</td>\n",
       "      <td>1.919576e+06</td>\n",
       "      <td>401.313971</td>\n",
       "    </tr>\n",
       "    <tr>\n",
       "      <th>9900</th>\n",
       "      <td>82300.0</td>\n",
       "      <td>88500.0</td>\n",
       "      <td>0.02</td>\n",
       "      <td>0.002</td>\n",
       "      <td>0.326</td>\n",
       "      <td>9.832004e+06</td>\n",
       "      <td>0.173021</td>\n",
       "      <td>0.826979</td>\n",
       "      <td>495774.488150</td>\n",
       "      <td>339.798094</td>\n",
       "      <td>32.446649</td>\n",
       "      <td>32.444943</td>\n",
       "      <td>19749.463206</td>\n",
       "      <td>7333.0</td>\n",
       "      <td>34</td>\n",
       "      <td>1.554425e+06</td>\n",
       "      <td>438.459682</td>\n",
       "    </tr>\n",
       "  </tbody>\n",
       "</table>\n",
       "<p>100 rows × 17 columns</p>\n",
       "</div>"
      ],
      "text/plain": [
       "      easting  northing  porosity  permeability  Poisson's ratio  \\\n",
       "0     41700.0   99100.0      0.04         0.006            0.301   \n",
       "100   64600.0   41500.0      0.08         0.031            0.324   \n",
       "200   72900.0   30500.0      0.08         0.034            0.336   \n",
       "300   72900.0    5300.0      0.09         0.043            0.314   \n",
       "400   81700.0   30000.0      0.10         0.040            0.333   \n",
       "...       ...       ...       ...           ...              ...   \n",
       "9500  35400.0   85000.0      0.04         0.009            0.316   \n",
       "9600  61800.0   29300.0      0.08         0.023            0.333   \n",
       "9700  19800.0   60700.0      0.02         0.001            0.293   \n",
       "9800  47700.0   86600.0      0.05         0.008            0.295   \n",
       "9900  82300.0   88500.0      0.02         0.002            0.326   \n",
       "\n",
       "      Young's Modulus  water saturation  oil saturation  \\\n",
       "0        9.391151e+06          0.206423        0.793577   \n",
       "100      1.230187e+07          0.185046        0.814954   \n",
       "200      9.311558e+06          0.139228        0.860772   \n",
       "300      9.446411e+06          0.192124        0.807876   \n",
       "400      9.947234e+06          0.215958        0.784042   \n",
       "...               ...               ...             ...   \n",
       "9500     7.979614e+06          0.072113        0.927887   \n",
       "9600     1.020993e+07          0.129476        0.870524   \n",
       "9700     1.175889e+07          0.082095        0.917905   \n",
       "9800     8.382774e+06          0.095713        0.904287   \n",
       "9900     9.832004e+06          0.173021        0.826979   \n",
       "\n",
       "      proppant weight (lbs)  pump rate (cubic feet/min)  lifetime_exp  \\\n",
       "0             957450.525302                  269.739431     31.795917   \n",
       "100           356513.179448                  401.067034     32.834944   \n",
       "200           246849.550936                  270.733768     47.025298   \n",
       "300           652732.541059                  373.060379     51.559547   \n",
       "400           470219.092642                  254.088125     39.532522   \n",
       "...                     ...                         ...           ...   \n",
       "9500          290322.997780                  311.644517     24.964546   \n",
       "9600          133249.214788                  264.433905     49.228772   \n",
       "9700          450363.540764                  287.230002     24.922221   \n",
       "9800          861005.219866                  336.465099     37.037311   \n",
       "9900          495774.488150                  339.798094     32.446649   \n",
       "\n",
       "      lifetime_hyp  cum_production  well length  frac stages           ppf  \\\n",
       "0        31.795135    18616.620283       6974.0           50  1.660919e+06   \n",
       "100      32.835989    20318.886290       9866.0           12  1.026812e+06   \n",
       "200      47.025132    91967.803523       6290.0           50  2.187190e+06   \n",
       "300      51.560152   143372.187733       7191.0           50  2.208587e+06   \n",
       "400      39.532906    42950.540211       7521.0           25  1.143460e+06   \n",
       "...            ...             ...          ...          ...           ...   \n",
       "9500     24.964541     8615.059330       9109.0           34  1.360343e+06   \n",
       "9600     49.228504   113114.392647       6795.0           50  1.439961e+06   \n",
       "9700     24.922494     8405.095210       5029.0           50  1.260802e+06   \n",
       "9800     37.037445    32621.298208       6076.0           50  1.919576e+06   \n",
       "9900     32.444943    19749.463206       7333.0           34  1.554425e+06   \n",
       "\n",
       "              pr  \n",
       "0     384.966548  \n",
       "100   401.067034  \n",
       "200   410.543330  \n",
       "300   410.624954  \n",
       "400   358.428723  \n",
       "...          ...  \n",
       "9500  383.232420  \n",
       "9600  409.807944  \n",
       "9700  405.781633  \n",
       "9800  401.313971  \n",
       "9900  438.459682  \n",
       "\n",
       "[100 rows x 17 columns]"
      ]
     },
     "execution_count": 44,
     "metadata": {},
     "output_type": "execute_result"
    }
   ],
   "source": [
    "data"
   ]
  },
  {
   "cell_type": "code",
   "execution_count": 45,
   "metadata": {},
   "outputs": [
    {
     "data": {
      "image/png": "[encoded data removed]",
      "text/plain": [
       "<Figure size 432x288 with 1 Axes>"
      ]
     },
     "metadata": {
      "needs_background": "light"
     },
     "output_type": "display_data"
    }
   ],
   "source": [
    "sns.scatterplot(data=big_df, x=\"easting\", y=\"northing\", size=\"lifetime_exp\")\n",
    "plt.ylabel(\"Northing\")\n",
    "plt.xlabel(\"Easting\")\n",
    "plt.title(\"Location of Horizontal wells, starting position\")\n",
    "plt.legend('', frameon=False) # remove the legend\n",
    "plt.show()"
   ]
  },
  {
   "cell_type": "code",
   "execution_count": null,
   "metadata": {},
   "outputs": [],
   "source": [
    "big_df.head()"
   ]
  },
  {
   "cell_type": "code",
   "execution_count": null,
   "metadata": {},
   "outputs": [],
   "source": [
    "big_df.groupby([\"Name\"])"
   ]
  },
  {
   "cell_type": "markdown",
   "metadata": {},
   "source": [
    "Change in water saturation"
   ]
  }
 ],
 "metadata": {
  "kernelspec": {
   "display_name": "Python 3",
   "language": "python",
   "name": "python3"
  },
  "language_info": {
   "codemirror_mode": {
    "name": "ipython",
    "version": 3
   },
   "file_extension": ".py",
   "mimetype": "text/x-python",
   "name": "python",
   "nbconvert_exporter": "python",
   "pygments_lexer": "ipython3",
   "version": "3.8.3"
  }
 },
 "nbformat": 4,
 "nbformat_minor": 4
}
