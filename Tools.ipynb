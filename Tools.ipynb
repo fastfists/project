{
 "cells": [
  {
   "cell_type": "code",
   "execution_count": 1,
   "metadata": {},
   "outputs": [],
   "source": [
    "import glob\n",
    "import pandas as pd\n",
    "import numpy as np"
   ]
  },
  {
   "cell_type": "code",
   "execution_count": 2,
   "metadata": {},
   "outputs": [],
   "source": [
    "well_productions = pd.read_csv(\"well productions/well production.csv\")"
   ]
  },
  {
   "cell_type": "code",
   "execution_count": 3,
   "metadata": {},
   "outputs": [
    {
     "data": {
      "text/plain": [
       "Index(['Unnamed: 0', 'well name', 'average pressure (Pa)', 'oil 1', 'oil 2',\n",
       "       'oil 3', 'oil 4', 'oil 5', 'oil 6', 'oil 7', 'oil 8', 'oil 9', 'oil 10',\n",
       "       'oil 11', 'oil 12', 'water 1', 'water 2', 'water 3', 'water 4',\n",
       "       'water 5', 'water 6', 'water 7', 'water 8', 'water 9', 'water 10',\n",
       "       'water 11', 'water 12'],\n",
       "      dtype='object')"
      ]
     },
     "execution_count": 3,
     "metadata": {},
     "output_type": "execute_result"
    }
   ],
   "source": [
    "well_productions.keys().unique()"
   ]
  },
  {
   "cell_type": "markdown",
   "metadata": {},
   "source": [
    "### Read in all the datas"
   ]
  },
  {
   "cell_type": "code",
   "execution_count": 4,
   "metadata": {},
   "outputs": [],
   "source": [
    "import csv\n",
    "datas = []\n",
    "for file in glob.glob(\"well productions/*\"):\n",
    "    if \"well production.csv\" not in file:\n",
    "        frame = pd.read_csv(file)\n",
    "        # Strip off the extra things on the end\n",
    "        frame[\"Name\"] = file[17:-4]\n",
    "        datas.append(frame)"
   ]
  },
  {
   "cell_type": "code",
   "execution_count": 5,
   "metadata": {},
   "outputs": [],
   "source": [
    "def well_length(dataframe: pd.DataFrame):\n",
    "    dataframe[\"well length\"] = dataframe[\"easting\"].iloc[-1] - dataframe[\"easting\"][0]"
   ]
  },
  {
   "cell_type": "code",
   "execution_count": 6,
   "metadata": {},
   "outputs": [],
   "source": [
    "def frac_stages(dataframe : pd.DataFrame):\n",
    "    dataframe[\"frac stages\"] = dataframe[dataframe[\"proppant weight (lbs)\"].isna() == False].shape[0]"
   ]
  },
  {
   "cell_type": "code",
   "execution_count": 7,
   "metadata": {},
   "outputs": [],
   "source": [
    "\"\"\"\n",
    "Sets a proppant per stage as \"ppf\" defaults to the maximum weight\n",
    "\"\"\"\n",
    "def propant_per_stage(dataframe: pd.DataFrame, find_min=False):\n",
    "    if find_min:\n",
    "        val = min(dataframe[\"proppant weight (lbs)\"])\n",
    "    else:\n",
    "        val = max(dataframe[\"proppant weight (lbs)\"])\n",
    "    dataframe[\"ppf\"] = val"
   ]
  },
  {
   "cell_type": "code",
   "execution_count": 8,
   "metadata": {},
   "outputs": [],
   "source": [
    "\"\"\"\n",
    "Sets a pump rate as \"pr\" defaults to the maximum weight\n",
    "\"\"\"\n",
    "def pump_rate(dataframe: pd.DataFrame, find_min=False):\n",
    "    if find_min:\n",
    "        val = min(dataframe[\"pump rate (cubic feet/min)\"])\n",
    "    else:\n",
    "        val = max(dataframe[\"pump rate (cubic feet/min)\"])\n",
    "    dataframe[\"pr\"] = val"
   ]
  },
  {
   "cell_type": "code",
   "execution_count": 9,
   "metadata": {},
   "outputs": [],
   "source": [
    "def original_oil_in_place(dataframe: pd.DataFrame):\n",
    "    val = 0\n",
    "    row = well_productions[well_productions[\"well name\"] == dataframe[\"Name\"][0]];\n",
    "    for i in range(12):\n",
    "        print(row)\n",
    "        val += row[f\"oil {i+1}\"][row.index[0]]\n",
    "    print(val)\n",
    "    dataframe[\"ooip\"] = val"
   ]
  },
  {
   "cell_type": "code",
   "execution_count": 10,
   "metadata": {},
   "outputs": [],
   "source": [
    "def find_prodcution(dataframe: pd.DataFrame):\n",
    "    pass"
   ]
  },
  {
   "cell_type": "code",
   "execution_count": 11,
   "metadata": {},
   "outputs": [],
   "source": [
    "%%capture\n",
    "list(map(well_length, datas))\n",
    "list(map(frac_stages, datas))"
   ]
  },
  {
   "cell_type": "markdown",
   "metadata": {},
   "source": [
    "# optional"
   ]
  },
  {
   "cell_type": "code",
   "execution_count": 12,
   "metadata": {},
   "outputs": [],
   "source": [
    "%%capture\n",
    "list(map(propant_per_stage, datas))\n",
    "list(map(pump_rate, datas))\n",
    "list(map(original_oil_in_place, datas))"
   ]
  },
  {
   "cell_type": "code",
   "execution_count": 13,
   "metadata": {},
   "outputs": [
    {
     "data": {
      "text/html": [
       "<div>\n",
       "<style scoped>\n",
       "    .dataframe tbody tr th:only-of-type {\n",
       "        vertical-align: middle;\n",
       "    }\n",
       "\n",
       "    .dataframe tbody tr th {\n",
       "        vertical-align: top;\n",
       "    }\n",
       "\n",
       "    .dataframe thead th {\n",
       "        text-align: right;\n",
       "    }\n",
       "</style>\n",
       "<table border=\"1\" class=\"dataframe\">\n",
       "  <thead>\n",
       "    <tr style=\"text-align: right;\">\n",
       "      <th></th>\n",
       "      <th>easting</th>\n",
       "      <th>northing</th>\n",
       "      <th>porosity</th>\n",
       "      <th>permeability</th>\n",
       "      <th>Poisson's ratio</th>\n",
       "      <th>Young's Modulus</th>\n",
       "      <th>water saturation</th>\n",
       "      <th>oil saturation</th>\n",
       "      <th>proppant weight (lbs)</th>\n",
       "      <th>pump rate (cubic feet/min)</th>\n",
       "      <th>Name</th>\n",
       "      <th>well length</th>\n",
       "      <th>frac stages</th>\n",
       "      <th>ppf</th>\n",
       "      <th>pr</th>\n",
       "      <th>ooip</th>\n",
       "    </tr>\n",
       "  </thead>\n",
       "  <tbody>\n",
       "    <tr>\n",
       "      <th>0</th>\n",
       "      <td>41700.0</td>\n",
       "      <td>99100.0</td>\n",
       "      <td>0.04</td>\n",
       "      <td>0.006</td>\n",
       "      <td>0.301</td>\n",
       "      <td>9391150.736</td>\n",
       "      <td>0.206423</td>\n",
       "      <td>0.793577</td>\n",
       "      <td>957450.525302</td>\n",
       "      <td>269.739431</td>\n",
       "      <td>Brisket 1-204H</td>\n",
       "      <td>6974.0</td>\n",
       "      <td>50</td>\n",
       "      <td>1.660919e+06</td>\n",
       "      <td>384.966548</td>\n",
       "      <td>14080.0</td>\n",
       "    </tr>\n",
       "    <tr>\n",
       "      <th>1</th>\n",
       "      <td>41770.0</td>\n",
       "      <td>99100.0</td>\n",
       "      <td>0.03</td>\n",
       "      <td>0.004</td>\n",
       "      <td>0.301</td>\n",
       "      <td>9401124.957</td>\n",
       "      <td>0.206561</td>\n",
       "      <td>0.793439</td>\n",
       "      <td>NaN</td>\n",
       "      <td>NaN</td>\n",
       "      <td>Brisket 1-204H</td>\n",
       "      <td>6974.0</td>\n",
       "      <td>50</td>\n",
       "      <td>1.660919e+06</td>\n",
       "      <td>384.966548</td>\n",
       "      <td>14080.0</td>\n",
       "    </tr>\n",
       "    <tr>\n",
       "      <th>2</th>\n",
       "      <td>41841.0</td>\n",
       "      <td>99100.0</td>\n",
       "      <td>0.03</td>\n",
       "      <td>0.004</td>\n",
       "      <td>0.301</td>\n",
       "      <td>9401124.957</td>\n",
       "      <td>0.206561</td>\n",
       "      <td>0.793439</td>\n",
       "      <td>377282.535819</td>\n",
       "      <td>352.043256</td>\n",
       "      <td>Brisket 1-204H</td>\n",
       "      <td>6974.0</td>\n",
       "      <td>50</td>\n",
       "      <td>1.660919e+06</td>\n",
       "      <td>384.966548</td>\n",
       "      <td>14080.0</td>\n",
       "    </tr>\n",
       "    <tr>\n",
       "      <th>3</th>\n",
       "      <td>41911.0</td>\n",
       "      <td>99100.0</td>\n",
       "      <td>0.03</td>\n",
       "      <td>0.003</td>\n",
       "      <td>0.300</td>\n",
       "      <td>9411208.575</td>\n",
       "      <td>0.206701</td>\n",
       "      <td>0.793299</td>\n",
       "      <td>NaN</td>\n",
       "      <td>NaN</td>\n",
       "      <td>Brisket 1-204H</td>\n",
       "      <td>6974.0</td>\n",
       "      <td>50</td>\n",
       "      <td>1.660919e+06</td>\n",
       "      <td>384.966548</td>\n",
       "      <td>14080.0</td>\n",
       "    </tr>\n",
       "    <tr>\n",
       "      <th>4</th>\n",
       "      <td>41982.0</td>\n",
       "      <td>99100.0</td>\n",
       "      <td>0.03</td>\n",
       "      <td>0.002</td>\n",
       "      <td>0.300</td>\n",
       "      <td>9421399.932</td>\n",
       "      <td>0.206844</td>\n",
       "      <td>0.793156</td>\n",
       "      <td>89987.692337</td>\n",
       "      <td>300.275028</td>\n",
       "      <td>Brisket 1-204H</td>\n",
       "      <td>6974.0</td>\n",
       "      <td>50</td>\n",
       "      <td>1.660919e+06</td>\n",
       "      <td>384.966548</td>\n",
       "      <td>14080.0</td>\n",
       "    </tr>\n",
       "  </tbody>\n",
       "</table>\n",
       "</div>"
      ],
      "text/plain": [
       "   easting  northing  porosity  permeability  Poisson's ratio  \\\n",
       "0  41700.0   99100.0      0.04         0.006            0.301   \n",
       "1  41770.0   99100.0      0.03         0.004            0.301   \n",
       "2  41841.0   99100.0      0.03         0.004            0.301   \n",
       "3  41911.0   99100.0      0.03         0.003            0.300   \n",
       "4  41982.0   99100.0      0.03         0.002            0.300   \n",
       "\n",
       "   Young's Modulus  water saturation  oil saturation  proppant weight (lbs)  \\\n",
       "0      9391150.736          0.206423        0.793577          957450.525302   \n",
       "1      9401124.957          0.206561        0.793439                    NaN   \n",
       "2      9401124.957          0.206561        0.793439          377282.535819   \n",
       "3      9411208.575          0.206701        0.793299                    NaN   \n",
       "4      9421399.932          0.206844        0.793156           89987.692337   \n",
       "\n",
       "   pump rate (cubic feet/min)            Name  well length  frac stages  \\\n",
       "0                  269.739431  Brisket 1-204H       6974.0           50   \n",
       "1                         NaN  Brisket 1-204H       6974.0           50   \n",
       "2                  352.043256  Brisket 1-204H       6974.0           50   \n",
       "3                         NaN  Brisket 1-204H       6974.0           50   \n",
       "4                  300.275028  Brisket 1-204H       6974.0           50   \n",
       "\n",
       "            ppf          pr     ooip  \n",
       "0  1.660919e+06  384.966548  14080.0  \n",
       "1  1.660919e+06  384.966548  14080.0  \n",
       "2  1.660919e+06  384.966548  14080.0  \n",
       "3  1.660919e+06  384.966548  14080.0  \n",
       "4  1.660919e+06  384.966548  14080.0  "
      ]
     },
     "execution_count": 13,
     "metadata": {},
     "output_type": "execute_result"
    }
   ],
   "source": [
    "datas[0].head()"
   ]
  },
  {
   "cell_type": "code",
   "execution_count": 14,
   "metadata": {},
   "outputs": [],
   "source": [
    "big_df = pd.concat(datas)"
   ]
  },
  {
   "cell_type": "code",
   "execution_count": 15,
   "metadata": {},
   "outputs": [],
   "source": [
    "big_df.to_csv(\"bigPoppa.csv\", index=False)"
   ]
  },
  {
   "cell_type": "code",
   "execution_count": 16,
   "metadata": {},
   "outputs": [],
   "source": [
    "test = pd.read_csv(\"bigPoppa.csv\")"
   ]
  },
  {
   "cell_type": "markdown",
   "metadata": {},
   "source": [
    "# Finding Cumulative Production"
   ]
  },
  {
   "cell_type": "markdown",
   "metadata": {},
   "source": [
    "Exponential decline curve equation\n",
    "\n",
    "    Arguments:\n",
    "        t: Float. Time since the well first came online, can be in various units \n",
    "        (days, months, etc) so long as they are consistent.\n",
    "        qi: Float. Initial production rate when well first came online.\n",
    "        di: Float. Nominal decline rate (constant)\n",
    "        \n",
    "    Output: \n",
    "        Returns q, or the expected production rate at time t. Float."
   ]
  },
  {
   "cell_type": "code",
   "execution_count": 33,
   "metadata": {},
   "outputs": [],
   "source": [
    "def exponential_loss(t, qi, D): \n",
    "    return qi*np.exp(-D*t)\n",
    "\n",
    "def exponential_loss_list(qi, D): \n",
    "    t=life_of_res(qi, D)\n",
    "    return qi*np.exp(-D*t)\n",
    "\n",
    "def life_of_res(qi, D):\n",
    "    return 1/D*np.log(qi/93)\n",
    "\n",
    "def life_of_res_list(qi, D):\n",
    "    #print(1/D*np.log(qi/93))\n",
    "    return np.arange(1/D*np.log(qi/93), step=0.01)"
   ]
  },
  {
   "cell_type": "code",
   "execution_count": 42,
   "metadata": {},
   "outputs": [],
   "source": [
    "def hyperbolic_equation(t, qi, b, di):\n",
    "    \"\"\"\n",
    "    Hyperbolic decline curve equation\n",
    "    Arguments:\n",
    "        t: Float. Time since the well first came online, can be in various units \n",
    "        (days, months, etc) so long as they are consistent.\n",
    "        qi: Float. Initial production rate when well first came online.\n",
    "        b: Float. Hyperbolic decline constant\n",
    "        di: Float. Nominal decline rate at time t=0\n",
    "    Output: \n",
    "        Returns q, or the expected production rate at time t. Float.\n",
    "    \"\"\"\n",
    "    return qi/((1.0+b*di*t)**(1.0/b))\n",
    "\n",
    "\n",
    "def hyperbolic_equation_list(qi, b, di):\n",
    "    t=life_of_res(qi, D)\n",
    "    return qi/((1.0+b*di*t)**(1.0/b))\n",
    "\n"
   ]
  },
  {
   "cell_type": "markdown",
   "metadata": {},
   "source": [
    "This function allows you to look at the first X months of production, and selects the highest production month as max initial production\n",
    "    \n",
    "    Arguments:\n",
    "        number_first_months: int. Number of months from the point the well comes online\n",
    "        to compare to get the max initial production rate qi (this looks at multiple months\n",
    "        in case there is a production ramp-up)\n",
    "        \n",
    "        well_name: String. name of the well where we're attempting to get\n",
    "        the max volume from."
   ]
  },
  {
   "cell_type": "code",
   "execution_count": 18,
   "metadata": {},
   "outputs": [],
   "source": [
    "def get_max_initial_production(number_first_months, well_name):\n",
    "    \n",
    "    row = well_productions.loc[well_productions[\"well name\"] == well_name]\n",
    "    val=0      \n",
    "    row = row.filter(regex='oil')\n",
    "    row=row.T.squeeze()\n",
    "    \n",
    "    for i in range(number_first_months):\n",
    "        val = max(row[i], val)\n",
    "\n",
    "    return val, row"
   ]
  },
  {
   "cell_type": "code",
   "execution_count": 19,
   "metadata": {},
   "outputs": [],
   "source": [
    "\n",
    "\n",
    "def get_cumulative(qi, D, q):\n",
    "    return qi/D*np.log(qi/q)"
   ]
  },
  {
   "cell_type": "markdown",
   "metadata": {},
   "source": [
    "# Note to self: *******make a for loop later*******\n",
    "\n"
   ]
  },
  {
   "cell_type": "code",
   "execution_count": 22,
   "metadata": {},
   "outputs": [
    {
     "name": "stdout",
     "output_type": "stream",
     "text": [
      "Exponential Fit Curve-fitted Variables: qi=1840.9999999999998, di=0.09389459383427125\n"
     ]
    }
   ],
   "source": [
    "from scipy.optimize import curve_fit\n",
    "\n",
    "#Exponential curve fit the data to get best fit equation\n",
    "time_series=pd.Series(list(range(12)))\n",
    "qi, row=get_max_initial_production(12, \"Brisket 1-204H\")\n",
    "\n",
    "popt_exp, pcov_exp=curve_fit(exponential_loss, time_series, row, bounds=(0, [qi,20]))\n",
    "\n",
    "D = popt_exp[1]\n",
    "\n",
    "qi=popt_exp[0]\n",
    "\n",
    "print('Exponential Fit Curve-fitted Variables: qi='+str(popt_exp[0])+', di='+str(D))"
   ]
  },
  {
   "cell_type": "code",
   "execution_count": 41,
   "metadata": {},
   "outputs": [
    {
     "name": "stdout",
     "output_type": "stream",
     "text": [
      "Hyperbolic Fit Curve-fitted Variables: qi=1840.9999999377362, b=7.860138814184788e-09, di=0.0938969009724542\n"
     ]
    }
   ],
   "source": [
    "#Hyperbolic curve fit the data to get best fit equation\n",
    "time_series=pd.Series(list(range(12)))\n",
    "qi, row=get_max_initial_production(12, \"Brisket 1-204H\")\n",
    "\n",
    "popt_hyp, pcov_hyp=curve_fit(hyperbolic_equation, time_series, row,bounds=(0, [qi,2,20]))\n",
    "\n",
    "print('Hyperbolic Fit Curve-fitted Variables: qi='+str(popt_hyp[0])+', b='+str(popt_hyp[1])+', di='+str(popt_hyp[2]))"
   ]
  },
  {
   "cell_type": "code",
   "execution_count": 35,
   "metadata": {},
   "outputs": [
    {
     "data": {
      "text/plain": [
       "58525.389999999985"
      ]
     },
     "execution_count": 35,
     "metadata": {},
     "output_type": "execute_result"
    }
   ],
   "source": [
    "get_cumulative(qi, D, exponential_loss_list(qi, D)[-1])"
   ]
  },
  {
   "cell_type": "code",
   "execution_count": 50,
   "metadata": {},
   "outputs": [
    {
     "data": {
      "image/png": "[encoded data removed]",
      "text/plain": [
       "<Figure size 432x288 with 1 Axes>"
      ]
     },
     "metadata": {
      "needs_background": "light"
     },
     "output_type": "display_data"
    }
   ],
   "source": [
    "import matplotlib.pyplot as plt\n",
    "x=np.linspace(0, life_of_res(qi, D), 20)\n",
    "plt.plot(x, exponential_loss(x, qi, D))\n",
    "plt.plot(time_series, row)\n",
    "plt.show()"
   ]
  },
  {
   "cell_type": "code",
   "execution_count": null,
   "metadata": {},
   "outputs": [],
   "source": []
  }
 ],
 "metadata": {
  "kernelspec": {
   "display_name": "Python 3",
   "language": "python",
   "name": "python3"
  },
  "language_info": {
   "codemirror_mode": {
    "name": "ipython",
    "version": 3
   },
   "file_extension": ".py",
   "mimetype": "text/x-python",
   "name": "python",
   "nbconvert_exporter": "python",
   "pygments_lexer": "ipython3",
   "version": "3.8.3"
  }
 },
 "nbformat": 4,
 "nbformat_minor": 4
}
