{
 "cells": [
  {
   "cell_type": "markdown",
   "metadata": {},
   "source": [
    "To start, we import all of the packages that we will need in this notebook. "
   ]
  },
  {
   "cell_type": "code",
   "execution_count": 1,
   "metadata": {},
   "outputs": [],
   "source": [
    "import glob\n",
    "import pandas as pd\n",
    "import numpy as np\n",
    "from scipy.integrate import quad\n",
    "from scipy.optimize import curve_fit\n",
    "import matplotlib.pyplot as plt\n",
    "import seaborn as sns"
   ]
  },
  {
   "cell_type": "markdown",
   "metadata": {},
   "source": [
    "# Stage 1: Preprocess The data"
   ]
  },
  {
   "cell_type": "markdown",
   "metadata": {},
   "source": [
    "### Adding the features we will need to optimize to a DataFrame and then exporting to a csv"
   ]
  },
  {
   "cell_type": "markdown",
   "metadata": {},
   "source": [
    "Here we read in the well production.csv file "
   ]
  },
  {
   "cell_type": "code",
   "execution_count": 2,
   "metadata": {},
   "outputs": [],
   "source": [
    "well_productions = pd.read_csv(\"well productions/well production.csv\")"
   ]
  },
  {
   "cell_type": "markdown",
   "metadata": {},
   "source": [
    "Here we read in the csv file for each well "
   ]
  },
  {
   "cell_type": "code",
   "execution_count": 3,
   "metadata": {},
   "outputs": [],
   "source": [
    "import csv\n",
    "datas = []\n",
    "for file in glob.glob(\"well productions/*\"):\n",
    "    if \"well production.csv\" not in file:\n",
    "        frame = pd.read_csv(file)\n",
    "        # Strip off the extra things on the end\n",
    "        frame[\"Name\"] = file[17:-4]\n",
    "        datas.append(frame)"
   ]
  },
  {
   "cell_type": "markdown",
   "metadata": {},
   "source": [
    "The following function calculates the well length for each well and adds the well length of each well to the DataFrame\n"
   ]
  },
  {
   "cell_type": "code",
   "execution_count": 4,
   "metadata": {},
   "outputs": [],
   "source": [
    "def well_length(dataframe: pd.DataFrame):\n",
    "    dataframe[\"well length\"] = dataframe[\"easting\"].iloc[-1] - dataframe[\"easting\"][0]"
   ]
  },
  {
   "cell_type": "markdown",
   "metadata": {},
   "source": [
    "The following function calculates the number of frac stages for each well and adds the calculated value to the DataFrame"
   ]
  },
  {
   "cell_type": "code",
   "execution_count": 5,
   "metadata": {},
   "outputs": [],
   "source": [
    "def frac_stages(dataframe : pd.DataFrame):\n",
    "    dataframe[\"frac stages\"] = dataframe[dataframe[\"proppant weight (lbs)\"].isna() == False].shape[0]"
   ]
  },
  {
   "cell_type": "markdown",
   "metadata": {},
   "source": [
    "The following function sets proppant per stage as \"ppf.\" It will default to the maximum weight. "
   ]
  },
  {
   "cell_type": "code",
   "execution_count": 6,
   "metadata": {},
   "outputs": [],
   "source": [
    "\"\"\"\n",
    "Sets a proppant per stage as \"ppf\" defaults to the maximum weight\n",
    "method can be [\"min, \"max\", \"avg\"]\n",
    "\"\"\"\n",
    "def proppant_per_stage(dataframe: pd.DataFrame, method=\"avg\"):\n",
    "    if method == \"min\":\n",
    "        val = min(dataframe[\"proppant weight (lbs)\"])\n",
    "    elif method == \"max\":\n",
    "        val = max(dataframe[\"proppant weight (lbs)\"])\n",
    "    elif method == \"avg\":\n",
    "        val = dataframe[\"proppant weight (lbs)\"].describe()[\"mean\"]\n",
    "    else:\n",
    "        raise Exception(f\"No method found for {method}\")\n",
    "    dataframe[\"ppf\"] = val"
   ]
  },
  {
   "cell_type": "markdown",
   "metadata": {},
   "source": [
    "The following function sets pump rate as \"pr.\" It will default to the maximum rate. "
   ]
  },
  {
   "cell_type": "code",
   "execution_count": 7,
   "metadata": {},
   "outputs": [],
   "source": [
    "\"\"\"\n",
    "Sets a pump rate as \"pr\" defaults to the maximum weight\n",
    "method can be [\"min, \"max\", \"avg\"]\n",
    "\"\"\"\n",
    "def pump_rate(dataframe: pd.DataFrame, method=\"avg\"):\n",
    "    if method == \"min\":\n",
    "        val = min(dataframe[\"pump rate (cubic feet/min)\"])\n",
    "    elif method == \"max\":\n",
    "        val = max(dataframe[\"pump rate (cubic feet/min)\"])\n",
    "    elif method == \"avg\":\n",
    "        val = dataframe[\"pump rate (cubic feet/min)\"].describe()[\"mean\"]\n",
    "    else:\n",
    "        raise Exception(f\"No method found for {method}\")\n",
    "    dataframe[\"pr\"] = val"
   ]
  },
  {
   "cell_type": "markdown",
   "metadata": {},
   "source": [
    "The below function finds how many years the well will economically produce oil, under the assumption that up to 93 barrels of oil is economical. To arrive at this value we **NEED TO RATIONALIZE THIS VALUE** "
   ]
  },
  {
   "cell_type": "code",
   "execution_count": 8,
   "metadata": {},
   "outputs": [],
   "source": [
    "def life_of_res(qi, D):\n",
    "    lifetime = 1/D*np.log(qi/93)\n",
    "    if lifetime < 0:\n",
    "        return 0\n",
    "    else: \n",
    "        return lifetime"
   ]
  },
  {
   "cell_type": "markdown",
   "metadata": {},
   "source": [
    "exponential loss curve\n",
    "\n",
    "$ q(t) = q_ie^{-Dt} $\n",
    "\n",
    "Where $D$ is the decline rate and $q_i$ is the initial rate of production\n",
    "Exponential decline curve equation\n",
    "\n",
    "    Arguments:\n",
    "        t:  Number of months the well has been producing oil \n",
    "        qi: Float. Initial production rate when well first came online.\n",
    "        di: Float. Nominal decline rate (constant)\n",
    "        \n",
    "    Output: \n",
    "        Returns q, or the expected production rate at time t. Float."
   ]
  },
  {
   "cell_type": "code",
   "execution_count": 9,
   "metadata": {},
   "outputs": [],
   "source": [
    "def exponential_loss(t, qi, D): \n",
    "    return qi*np.exp(-D*t)"
   ]
  },
  {
   "cell_type": "markdown",
   "metadata": {},
   "source": [
    " $ q(t) = \\frac{q_i}{(1+bDt)^{1.0/b}} $\n",
    " \n",
    " Hyperbolic decline curve equation\n",
    " \n",
    "    Arguments:\n",
    "        t:  Number of months the well has been producing oil\n",
    "        qi: Float. Initial production rate when well first came online.\n",
    "        b:  Float. Hyperbolic decline constant\n",
    "        di: Float. Nominal decline rate at time t=0\n",
    "    Output: \n",
    "        Returns q, or the expected production rate at time t. Float."
   ]
  },
  {
   "cell_type": "code",
   "execution_count": 10,
   "metadata": {},
   "outputs": [],
   "source": [
    "def hyperbolic_loss(t, qi, b, di):\n",
    "    return qi/((1.0+b*di*t)**(1.0/b))"
   ]
  },
  {
   "cell_type": "markdown",
   "metadata": {},
   "source": [
    "This function allows you to look at the first X months of production, and selects the highest production month as max initial production. It returns the max initial production in the first X months along with a series that contains the values of oil production for the first 12 months. \n",
    "    \n",
    "    Arguments:\n",
    "        number_first_months: int. Number of months from the point the well comes online\n",
    "        to compare to get the max initial production rate qi (this looks at multiple months\n",
    "        in case there is a production ramp-up)\n",
    "        \n",
    "        well_name: String. name of the well where we're attempting to get\n",
    "        the max volume from."
   ]
  },
  {
   "cell_type": "code",
   "execution_count": 11,
   "metadata": {},
   "outputs": [],
   "source": [
    "def get_max_initial_production(number_first_months, well_name):\n",
    "    \n",
    "    row = well_productions.loc[well_productions[\"well name\"] == well_name]\n",
    "    val=0      \n",
    "    row = row.filter(regex='oil')\n",
    "    row=row.T.squeeze()\n",
    "    \n",
    "    for i in range(number_first_months):\n",
    "        val = max(row[i], val)\n",
    "\n",
    "    return val, row"
   ]
  },
  {
   "cell_type": "markdown",
   "metadata": {},
   "source": [
    "The below two functions find the defined integral of the fitted exponential and hyperbolic equations between 0 and the calculated life of the reservoir. Our team found that was easier to use an integral then implement the equation fround in the \"Hinge Basin\" notebook. \n",
    "\n",
    "$ N_p = \\int_0^{L_t} q(t)dt $ Where $N_p$ is total production and $L_t$ is the lifetime of the well"
   ]
  },
  {
   "cell_type": "code",
   "execution_count": 12,
   "metadata": {},
   "outputs": [],
   "source": [
    "def get_cumulative_exponential(qi, D):\n",
    "    return quad(exponential_loss, 0, life_of_res(qi, D), args=(qi,D))\n",
    "\n",
    "def get_cumulative_hyperbolic(qi, b, di):\n",
    "    return quad(hyperbolic_loss, 0, life_of_res(qi, di), args=(qi, b, di))"
   ]
  },
  {
   "cell_type": "markdown",
   "metadata": {},
   "source": [
    "The following function will add the expected lifetime of the well when using the exponential_loss function and the hyperbolic function then add the respective values to the dataframe. Following that, it will find the cumulative production with the least amount of error out of the two functions, and add that value to the DataFrame. "
   ]
  },
  {
   "cell_type": "code",
   "execution_count": 13,
   "metadata": {},
   "outputs": [],
   "source": [
    "time_series=pd.Series(list(range(12)))\n",
    "def cum_production(dataframe: pd.DataFrame, find_min=False):\n",
    "    #find the name of the current well being examined\n",
    "    name = dataframe[\"Name\"][0]\n",
    "    #Set qi equal to the maximum production in the first 5 months of this well's lifespan, and row equal to the series of the \n",
    "    #first 12 months' production values\n",
    "    qi, row = get_max_initial_production(5, name)\n",
    "    \n",
    "    #Use the scipy curve_fit function to get the best possible exponential and hyperbolic curves\n",
    "    popt_exp, pcov_exp = curve_fit(exponential_loss, time_series, row, bounds=(0, [qi,20]))\n",
    "    popt_hyp, pcov_hyp=curve_fit(hyperbolic_loss, time_series, row,bounds=(0, [qi,2,20]))\n",
    "    \n",
    "    #Get the defined integral's value and error for both the exponential and hyperbolic curves\n",
    "    cp_exp = get_cumulative_exponential(*popt_exp)\n",
    "    cp_hyp = get_cumulative_hyperbolic(*popt_hyp)\n",
    "\n",
    "    #Set cumulative production to whichever defined integral has the least error\n",
    "    if cp_exp[1] < cp_hyp[1]: \n",
    "        cum_production = cp_exp[0]\n",
    "    else: \n",
    "        cum_production = cp_hyp[0]\n",
    "\n",
    "    #Add the respected calculated lifetimes for the exponential and hyperbolic curves to the dataframe then add the \n",
    "    #calculated cumulative production. \n",
    "    dataframe[\"lifetime_exp\"] = life_of_res(*popt_exp)\n",
    "    dataframe[\"lifetime_hyp\"] = life_of_res(popt_hyp[0], popt_hyp[2])\n",
    "    dataframe[\"cum_production\"] = cum_production\n"
   ]
  },
  {
   "cell_type": "markdown",
   "metadata": {},
   "source": [
    "Here we call all of the functions we wrote that add the values we will need to optimize to the DataFrame "
   ]
  },
  {
   "cell_type": "code",
   "execution_count": 14,
   "metadata": {},
   "outputs": [],
   "source": [
    "%%capture\n",
    "list(map(cum_production, datas))\n",
    "list(map(well_length, datas))\n",
    "list(map(frac_stages, datas))\n",
    "list(map(proppant_per_stage, datas))\n",
    "list(map(pump_rate, datas))"
   ]
  },
  {
   "cell_type": "markdown",
   "metadata": {},
   "source": [
    "Here we drop the duplicate wells from the dataframe"
   ]
  },
  {
   "cell_type": "code",
   "execution_count": 15,
   "metadata": {
    "scrolled": true
   },
   "outputs": [],
   "source": [
    "%%capture\n",
    "big_df = pd.concat(datas)\n",
    "## Removing duplicates makes graphing well locations significantly harder. Remove duplicates when regressing\n",
    "# big_df.drop_duplicates(subset=['Name'], inplace=True)"
   ]
  },
  {
   "cell_type": "markdown",
   "metadata": {},
   "source": [
    "Here we export our DataFrame to a new csv file so we no longer need to run preprocessing cells above"
   ]
  },
  {
   "cell_type": "code",
   "execution_count": 16,
   "metadata": {},
   "outputs": [],
   "source": [
    "big_df.to_csv(\"bigPoppa.csv\", index=False)"
   ]
  },
  {
   "cell_type": "markdown",
   "metadata": {},
   "source": [
    "# Stage2: Creating a model to predict cumulative output"
   ]
  },
  {
   "cell_type": "markdown",
   "metadata": {},
   "source": [
    "### Creating a model that uses the features we added to the dataframe to predict cumulative output"
   ]
  },
  {
   "cell_type": "markdown",
   "metadata": {},
   "source": [
    "**We should finally be able to get to the fun stuff now 😁**"
   ]
  },
  {
   "cell_type": "code",
   "execution_count": 60,
   "metadata": {},
   "outputs": [],
   "source": [
    "big_df = pd.read_csv(\"bigPoppa.csv\")"
   ]
  },
  {
   "cell_type": "code",
   "execution_count": 61,
   "metadata": {},
   "outputs": [],
   "source": [
    "data = big_df.drop_duplicates(subset=['Name'])"
   ]
  },
  {
   "cell_type": "code",
   "execution_count": 62,
   "metadata": {},
   "outputs": [
    {
     "data": {
      "text/plain": [
       "count    100.000000\n",
       "mean      35.994162\n",
       "std       11.099830\n",
       "min        0.072446\n",
       "25%       30.127467\n",
       "50%       37.639081\n",
       "75%       43.862433\n",
       "max       52.483608\n",
       "Name: lifetime_exp, dtype: float64"
      ]
     },
     "execution_count": 62,
     "metadata": {},
     "output_type": "execute_result"
    }
   ],
   "source": [
    "data[\"lifetime_exp\"].describe() # should be measured in years"
   ]
  },
  {
   "cell_type": "markdown",
   "metadata": {},
   "source": [
    "In order to apply any sort of regression to our data, we must first clean our data and remove all non-numerical values that will not add any specific input into our final predictions. For this dataset, we see that the Names column along with any rows that have NaN/Infinity/Empty data should not be included in our model. Therefore, we will remove these anomalies from our data."
   ]
  },
  {
   "cell_type": "code",
   "execution_count": 63,
   "metadata": {},
   "outputs": [],
   "source": [
    "def clean_dataset(df):\n",
    "    df = df.dropna()\n",
    "    indices_to_keep = ~df.isin([np.nan, np.inf, -np.inf]).any(1)\n",
    "    return df[indices_to_keep].astype(np.float64)"
   ]
  },
  {
   "cell_type": "code",
   "execution_count": 64,
   "metadata": {},
   "outputs": [],
   "source": [
    "clean_data = clean_dataset(data.drop([\"Name\"], axis=1))"
   ]
  },
  {
   "cell_type": "markdown",
   "metadata": {},
   "source": [
    "After cleaning our data, we will use all but the cumulative production data in our dataframe to predict our cumulative production for each well."
   ]
  },
  {
   "cell_type": "markdown",
   "metadata": {},
   "source": [
    "## Find the Important Features"
   ]
  },
  {
   "cell_type": "code",
   "execution_count": 236,
   "metadata": {},
   "outputs": [],
   "source": [
    "def feature_importances(model, features_df, thresh=0.1):\n",
    "    print(\"  Feature\".ljust(36) + \"  Score\")\n",
    "    print(\"-\"*60)\n",
    "    for i, feature in enumerate(model.feature_importances_):\n",
    "        if abs(feature) >= thresh:\n",
    "            print(\"| \", end=\"\")\n",
    "            print(f\"{features_df.columns[i]}\".ljust(36), end=\"|\")\n",
    "            print(f\"{feature}\".ljust(20), end=\"\")\n",
    "            print(\" |\")\n",
    "            print(\"-\"*60)"
   ]
  },
  {
   "cell_type": "code",
   "execution_count": 237,
   "metadata": {},
   "outputs": [],
   "source": [
    "def graph_acuracy(x, y, data, model, feature):\n",
    "    plt.scatter(x[feature], rf.predict(x), label=\"Prediction\")\n",
    "    plt.scatter(data[feature], y, label=\"Acutal\")\n",
    "    plt.xlabel(f\"{feature} value\")\n",
    "    plt.ylabel(\"Cumulative production\")\n",
    "    plt.legend()"
   ]
  },
  {
   "cell_type": "code",
   "execution_count": 246,
   "metadata": {},
   "outputs": [],
   "source": [
    "def graph_accuracy_importances(x, y, model, data, importances, features_df, thresh=0.1):\n",
    "    for i, feature in enumerate(importances):\n",
    "        if abs(feature) >= thresh:\n",
    "            feat_name = x.columns[i]\n",
    "            graph_acuracy(x, y, data, model, feat_name)\n",
    "            plt.title(f\"Acuracy of {feat_name} - Importance {feature}\")\n",
    "            plt.show()"
   ]
  },
  {
   "cell_type": "code",
   "execution_count": 239,
   "metadata": {},
   "outputs": [],
   "source": [
    "drop_columns = ['cum_production', 'lifetime_hyp', 'lifetime_exp','frac stages']\n",
    "# Changed this to just look at the values we are supposed to \n",
    "x = clean_data.drop(drop_columns, axis = 1)\n",
    "# x = clean_data[[\"ppf\", \"pr\", \"well length\", \"frac stages\"]]\n",
    "y = np.log(clean_data['cum_production']) # predict on the ln(cum) hopefully will linearlize it"
   ]
  },
  {
   "cell_type": "code",
   "execution_count": 240,
   "metadata": {},
   "outputs": [],
   "source": [
    "from sklearn.model_selection import train_test_split\n",
    "x_train, x_test, y_train, y_test = train_test_split(x,y, test_size=0.8, random_state=86)\n",
    "train, test = (x_train, y_train), (x_test, y_test)"
   ]
  },
  {
   "cell_type": "code",
   "execution_count": 241,
   "metadata": {},
   "outputs": [
    {
     "data": {
      "text/plain": [
       "RandomForestRegressor(random_state=86)"
      ]
     },
     "execution_count": 241,
     "metadata": {},
     "output_type": "execute_result"
    }
   ],
   "source": [
    "from sklearn.ensemble import RandomForestRegressor\n",
    "rf = RandomForestRegressor(random_state=86)\n",
    "rf.fit(*train)"
   ]
  },
  {
   "cell_type": "code",
   "execution_count": 242,
   "metadata": {},
   "outputs": [
    {
     "data": {
      "text/plain": [
       "(0.9040687351758432, 0.22929443987111942)"
      ]
     },
     "execution_count": 242,
     "metadata": {},
     "output_type": "execute_result"
    }
   ],
   "source": [
    "rf.score(*train), rf.score(*test)"
   ]
  },
  {
   "cell_type": "code",
   "execution_count": 243,
   "metadata": {},
   "outputs": [
    {
     "name": "stdout",
     "output_type": "stream",
     "text": [
      "  Feature                             Score\n",
      "------------------------------------------------------------\n",
      "| northing                            |0.15385965474473784  |\n",
      "------------------------------------------------------------\n",
      "| permeability                        |0.11429965388579671  |\n",
      "------------------------------------------------------------\n",
      "| ppf                                 |0.3616600027597846   |\n",
      "------------------------------------------------------------\n"
     ]
    }
   ],
   "source": [
    "feature_importances(rf, x, 0.1)"
   ]
  },
  {
   "cell_type": "markdown",
   "metadata": {},
   "source": [
    "Lets see how these features correlate to our production"
   ]
  },
  {
   "cell_type": "code",
   "execution_count": 245,
   "metadata": {},
   "outputs": [
    {
     "ename": "TypeError",
     "evalue": "graph_accuracy_importances() missing 1 required positional argument: 'features_df'",
     "output_type": "error",
     "traceback": [
      "\u001b[0;31m-------------------------------------------------\u001b[0m",
      "\u001b[0;31mTypeError\u001b[0m       Traceback (most recent call last)",
      "\u001b[0;32m<ipython-input-245-45f7976680cd>\u001b[0m in \u001b[0;36m<module>\u001b[0;34m\u001b[0m\n\u001b[0;32m----> 1\u001b[0;31m \u001b[0mgraph_accuracy_importances\u001b[0m\u001b[0;34m(\u001b[0m\u001b[0mx\u001b[0m\u001b[0;34m,\u001b[0m \u001b[0my\u001b[0m\u001b[0;34m,\u001b[0m \u001b[0mrf\u001b[0m\u001b[0;34m,\u001b[0m \u001b[0mdata\u001b[0m\u001b[0;34m,\u001b[0m \u001b[0mrf\u001b[0m\u001b[0;34m.\u001b[0m\u001b[0mfeature_importances_\u001b[0m\u001b[0;34m)\u001b[0m\u001b[0;34m\u001b[0m\u001b[0;34m\u001b[0m\u001b[0m\n\u001b[0m",
      "\u001b[0;31mTypeError\u001b[0m: graph_accuracy_importances() missing 1 required positional argument: 'features_df'"
     ]
    }
   ],
   "source": [
    "graph_accuracy_importances(x, y, rf, data, rf.feature_importances_)"
   ]
  },
  {
   "cell_type": "markdown",
   "metadata": {},
   "source": [
    "Below we will see the differences between the regressor's predictions and the actual cumulative production"
   ]
  },
  {
   "cell_type": "code",
   "execution_count": 221,
   "metadata": {},
   "outputs": [
    {
     "data": {
      "text/plain": [
       "SVR(kernel='poly')"
      ]
     },
     "execution_count": 221,
     "metadata": {},
     "output_type": "execute_result"
    }
   ],
   "source": [
    "from sklearn.svm import SVR\n",
    "svr = SVR(kernel=\"poly\")\n",
    "svr.fit(*train)"
   ]
  },
  {
   "cell_type": "code",
   "execution_count": 222,
   "metadata": {},
   "outputs": [
    {
     "data": {
      "text/plain": [
       "(-0.16403212093041875, -0.10854654872465774)"
      ]
     },
     "execution_count": 222,
     "metadata": {},
     "output_type": "execute_result"
    }
   ],
   "source": [
    "svr.score(*train), svr.score(*test)"
   ]
  },
  {
   "cell_type": "code",
   "execution_count": 223,
   "metadata": {},
   "outputs": [
    {
     "data": {
      "text/plain": [
       "array([ 2.93951359e+05,  1.26954722e+06,  4.74094978e+05,  5.15200380e-03,\n",
       "       -5.34513307e+04,  1.36535318e-08, -4.90634738e-02,  2.68239103e+02,\n",
       "        4.94359319e-01,  2.61409150e-01, -1.40446773e+02])"
      ]
     },
     "execution_count": 223,
     "metadata": {},
     "output_type": "execute_result"
    }
   ],
   "source": [
    "net.coef_"
   ]
  },
  {
   "cell_type": "markdown",
   "metadata": {},
   "source": [
    "# Stage 3: Fancy graphs"
   ]
  },
  {
   "cell_type": "markdown",
   "metadata": {},
   "source": [
    "Graph all well locations"
   ]
  },
  {
   "cell_type": "code",
   "execution_count": 224,
   "metadata": {},
   "outputs": [
    {
     "data": {
      "text/html": [
       "<div>\n",
       "<style scoped>\n",
       "    .dataframe tbody tr th:only-of-type {\n",
       "        vertical-align: middle;\n",
       "    }\n",
       "\n",
       "    .dataframe tbody tr th {\n",
       "        vertical-align: top;\n",
       "    }\n",
       "\n",
       "    .dataframe thead th {\n",
       "        text-align: right;\n",
       "    }\n",
       "</style>\n",
       "<table border=\"1\" class=\"dataframe\">\n",
       "  <thead>\n",
       "    <tr style=\"text-align: right;\">\n",
       "      <th></th>\n",
       "      <th>easting</th>\n",
       "      <th>northing</th>\n",
       "      <th>porosity</th>\n",
       "      <th>permeability</th>\n",
       "      <th>Poisson's ratio</th>\n",
       "      <th>Young's Modulus</th>\n",
       "      <th>water saturation</th>\n",
       "      <th>oil saturation</th>\n",
       "      <th>proppant weight (lbs)</th>\n",
       "      <th>pump rate (cubic feet/min)</th>\n",
       "      <th>Name</th>\n",
       "      <th>lifetime_exp</th>\n",
       "      <th>lifetime_hyp</th>\n",
       "      <th>cum_production</th>\n",
       "      <th>well length</th>\n",
       "      <th>frac stages</th>\n",
       "      <th>ppf</th>\n",
       "      <th>pr</th>\n",
       "    </tr>\n",
       "  </thead>\n",
       "  <tbody>\n",
       "    <tr>\n",
       "      <th>0</th>\n",
       "      <td>17800.0</td>\n",
       "      <td>32000.0</td>\n",
       "      <td>0.06</td>\n",
       "      <td>0.013</td>\n",
       "      <td>0.343</td>\n",
       "      <td>8.571816e+06</td>\n",
       "      <td>0.298794</td>\n",
       "      <td>0.701206</td>\n",
       "      <td>914250.711822</td>\n",
       "      <td>293.505526</td>\n",
       "      <td>King 13-215H</td>\n",
       "      <td>35.661322</td>\n",
       "      <td>35.661469</td>\n",
       "      <td>28120.142308</td>\n",
       "      <td>8287.0</td>\n",
       "      <td>50</td>\n",
       "      <td>834045.771760</td>\n",
       "      <td>305.935717</td>\n",
       "    </tr>\n",
       "    <tr>\n",
       "      <th>100</th>\n",
       "      <td>84500.0</td>\n",
       "      <td>37600.0</td>\n",
       "      <td>0.06</td>\n",
       "      <td>0.015</td>\n",
       "      <td>0.340</td>\n",
       "      <td>1.097546e+07</td>\n",
       "      <td>0.286440</td>\n",
       "      <td>0.713560</td>\n",
       "      <td>406263.949202</td>\n",
       "      <td>229.721504</td>\n",
       "      <td>Burger 6-148H</td>\n",
       "      <td>36.412177</td>\n",
       "      <td>36.411952</td>\n",
       "      <td>30410.811545</td>\n",
       "      <td>4369.0</td>\n",
       "      <td>25</td>\n",
       "      <td>665411.365610</td>\n",
       "      <td>301.840799</td>\n",
       "    </tr>\n",
       "    <tr>\n",
       "      <th>200</th>\n",
       "      <td>32000.0</td>\n",
       "      <td>12500.0</td>\n",
       "      <td>0.04</td>\n",
       "      <td>0.007</td>\n",
       "      <td>0.348</td>\n",
       "      <td>9.665325e+06</td>\n",
       "      <td>0.036704</td>\n",
       "      <td>0.963296</td>\n",
       "      <td>116734.353830</td>\n",
       "      <td>311.613745</td>\n",
       "      <td>Federal 8-166H</td>\n",
       "      <td>44.131368</td>\n",
       "      <td>44.130933</td>\n",
       "      <td>68049.703631</td>\n",
       "      <td>6010.0</td>\n",
       "      <td>50</td>\n",
       "      <td>707865.008407</td>\n",
       "      <td>309.432759</td>\n",
       "    </tr>\n",
       "    <tr>\n",
       "      <th>300</th>\n",
       "      <td>57400.0</td>\n",
       "      <td>52200.0</td>\n",
       "      <td>0.06</td>\n",
       "      <td>0.015</td>\n",
       "      <td>0.329</td>\n",
       "      <td>1.221196e+07</td>\n",
       "      <td>0.161848</td>\n",
       "      <td>0.838152</td>\n",
       "      <td>300144.867355</td>\n",
       "      <td>352.917530</td>\n",
       "      <td>Sutherland 1-11H</td>\n",
       "      <td>45.681298</td>\n",
       "      <td>45.681582</td>\n",
       "      <td>78756.147833</td>\n",
       "      <td>8198.0</td>\n",
       "      <td>50</td>\n",
       "      <td>661607.838265</td>\n",
       "      <td>302.966963</td>\n",
       "    </tr>\n",
       "    <tr>\n",
       "      <th>400</th>\n",
       "      <td>69000.0</td>\n",
       "      <td>81100.0</td>\n",
       "      <td>0.06</td>\n",
       "      <td>0.016</td>\n",
       "      <td>0.346</td>\n",
       "      <td>1.009616e+07</td>\n",
       "      <td>0.162180</td>\n",
       "      <td>0.837820</td>\n",
       "      <td>206065.103608</td>\n",
       "      <td>309.396314</td>\n",
       "      <td>Golden 1-209H</td>\n",
       "      <td>47.574331</td>\n",
       "      <td>47.574825</td>\n",
       "      <td>96620.176567</td>\n",
       "      <td>8813.0</td>\n",
       "      <td>99</td>\n",
       "      <td>682763.982800</td>\n",
       "      <td>296.289311</td>\n",
       "    </tr>\n",
       "    <tr>\n",
       "      <th>...</th>\n",
       "      <td>...</td>\n",
       "      <td>...</td>\n",
       "      <td>...</td>\n",
       "      <td>...</td>\n",
       "      <td>...</td>\n",
       "      <td>...</td>\n",
       "      <td>...</td>\n",
       "      <td>...</td>\n",
       "      <td>...</td>\n",
       "      <td>...</td>\n",
       "      <td>...</td>\n",
       "      <td>...</td>\n",
       "      <td>...</td>\n",
       "      <td>...</td>\n",
       "      <td>...</td>\n",
       "      <td>...</td>\n",
       "      <td>...</td>\n",
       "      <td>...</td>\n",
       "    </tr>\n",
       "    <tr>\n",
       "      <th>9500</th>\n",
       "      <td>82000.0</td>\n",
       "      <td>59700.0</td>\n",
       "      <td>0.05</td>\n",
       "      <td>0.011</td>\n",
       "      <td>0.341</td>\n",
       "      <td>1.139279e+07</td>\n",
       "      <td>0.202976</td>\n",
       "      <td>0.797024</td>\n",
       "      <td>816696.853516</td>\n",
       "      <td>269.500209</td>\n",
       "      <td>State 3-95H</td>\n",
       "      <td>36.300678</td>\n",
       "      <td>36.300366</td>\n",
       "      <td>29272.711603</td>\n",
       "      <td>9119.0</td>\n",
       "      <td>34</td>\n",
       "      <td>694800.836888</td>\n",
       "      <td>303.204767</td>\n",
       "    </tr>\n",
       "    <tr>\n",
       "      <th>9600</th>\n",
       "      <td>79800.0</td>\n",
       "      <td>74500.0</td>\n",
       "      <td>0.04</td>\n",
       "      <td>0.005</td>\n",
       "      <td>0.342</td>\n",
       "      <td>1.001882e+07</td>\n",
       "      <td>0.098801</td>\n",
       "      <td>0.901199</td>\n",
       "      <td>452400.504195</td>\n",
       "      <td>305.936557</td>\n",
       "      <td>Brisket 6-50H</td>\n",
       "      <td>36.499494</td>\n",
       "      <td>36.500350</td>\n",
       "      <td>30635.242199</td>\n",
       "      <td>11007.0</td>\n",
       "      <td>50</td>\n",
       "      <td>853351.979814</td>\n",
       "      <td>298.469491</td>\n",
       "    </tr>\n",
       "    <tr>\n",
       "      <th>9700</th>\n",
       "      <td>48200.0</td>\n",
       "      <td>97700.0</td>\n",
       "      <td>0.03</td>\n",
       "      <td>0.005</td>\n",
       "      <td>0.287</td>\n",
       "      <td>1.003513e+07</td>\n",
       "      <td>0.207482</td>\n",
       "      <td>0.792518</td>\n",
       "      <td>786046.754923</td>\n",
       "      <td>306.328322</td>\n",
       "      <td>Sundae 8-150H</td>\n",
       "      <td>37.236361</td>\n",
       "      <td>37.236586</td>\n",
       "      <td>33436.003331</td>\n",
       "      <td>7035.0</td>\n",
       "      <td>50</td>\n",
       "      <td>747473.524669</td>\n",
       "      <td>298.915287</td>\n",
       "    </tr>\n",
       "    <tr>\n",
       "      <th>9800</th>\n",
       "      <td>88500.0</td>\n",
       "      <td>97300.0</td>\n",
       "      <td>0.02</td>\n",
       "      <td>0.002</td>\n",
       "      <td>0.317</td>\n",
       "      <td>8.654986e+06</td>\n",
       "      <td>0.227611</td>\n",
       "      <td>0.772389</td>\n",
       "      <td>695722.469260</td>\n",
       "      <td>289.375745</td>\n",
       "      <td>King 14-184H</td>\n",
       "      <td>37.528815</td>\n",
       "      <td>37.529910</td>\n",
       "      <td>33399.804464</td>\n",
       "      <td>5888.0</td>\n",
       "      <td>100</td>\n",
       "      <td>796302.890944</td>\n",
       "      <td>294.023938</td>\n",
       "    </tr>\n",
       "    <tr>\n",
       "      <th>9900</th>\n",
       "      <td>51300.0</td>\n",
       "      <td>85900.0</td>\n",
       "      <td>0.03</td>\n",
       "      <td>0.004</td>\n",
       "      <td>0.297</td>\n",
       "      <td>8.645250e+06</td>\n",
       "      <td>0.102911</td>\n",
       "      <td>0.897089</td>\n",
       "      <td>597274.448817</td>\n",
       "      <td>285.239279</td>\n",
       "      <td>Brisket 7-212H</td>\n",
       "      <td>34.116916</td>\n",
       "      <td>34.115348</td>\n",
       "      <td>23857.600727</td>\n",
       "      <td>5035.0</td>\n",
       "      <td>34</td>\n",
       "      <td>830995.127477</td>\n",
       "      <td>310.439453</td>\n",
       "    </tr>\n",
       "  </tbody>\n",
       "</table>\n",
       "<p>100 rows × 18 columns</p>\n",
       "</div>"
      ],
      "text/plain": [
       "      easting  northing  porosity  permeability  Poisson's ratio  \\\n",
       "0     17800.0   32000.0      0.06         0.013            0.343   \n",
       "100   84500.0   37600.0      0.06         0.015            0.340   \n",
       "200   32000.0   12500.0      0.04         0.007            0.348   \n",
       "300   57400.0   52200.0      0.06         0.015            0.329   \n",
       "400   69000.0   81100.0      0.06         0.016            0.346   \n",
       "...       ...       ...       ...           ...              ...   \n",
       "9500  82000.0   59700.0      0.05         0.011            0.341   \n",
       "9600  79800.0   74500.0      0.04         0.005            0.342   \n",
       "9700  48200.0   97700.0      0.03         0.005            0.287   \n",
       "9800  88500.0   97300.0      0.02         0.002            0.317   \n",
       "9900  51300.0   85900.0      0.03         0.004            0.297   \n",
       "\n",
       "      Young's Modulus  water saturation  oil saturation  \\\n",
       "0        8.571816e+06          0.298794        0.701206   \n",
       "100      1.097546e+07          0.286440        0.713560   \n",
       "200      9.665325e+06          0.036704        0.963296   \n",
       "300      1.221196e+07          0.161848        0.838152   \n",
       "400      1.009616e+07          0.162180        0.837820   \n",
       "...               ...               ...             ...   \n",
       "9500     1.139279e+07          0.202976        0.797024   \n",
       "9600     1.001882e+07          0.098801        0.901199   \n",
       "9700     1.003513e+07          0.207482        0.792518   \n",
       "9800     8.654986e+06          0.227611        0.772389   \n",
       "9900     8.645250e+06          0.102911        0.897089   \n",
       "\n",
       "      proppant weight (lbs)  pump rate (cubic feet/min)              Name  \\\n",
       "0             914250.711822                  293.505526      King 13-215H   \n",
       "100           406263.949202                  229.721504     Burger 6-148H   \n",
       "200           116734.353830                  311.613745    Federal 8-166H   \n",
       "300           300144.867355                  352.917530  Sutherland 1-11H   \n",
       "400           206065.103608                  309.396314     Golden 1-209H   \n",
       "...                     ...                         ...               ...   \n",
       "9500          816696.853516                  269.500209       State 3-95H   \n",
       "9600          452400.504195                  305.936557     Brisket 6-50H   \n",
       "9700          786046.754923                  306.328322     Sundae 8-150H   \n",
       "9800          695722.469260                  289.375745      King 14-184H   \n",
       "9900          597274.448817                  285.239279    Brisket 7-212H   \n",
       "\n",
       "      lifetime_exp  lifetime_hyp  cum_production  well length  frac stages  \\\n",
       "0        35.661322     35.661469    28120.142308       8287.0           50   \n",
       "100      36.412177     36.411952    30410.811545       4369.0           25   \n",
       "200      44.131368     44.130933    68049.703631       6010.0           50   \n",
       "300      45.681298     45.681582    78756.147833       8198.0           50   \n",
       "400      47.574331     47.574825    96620.176567       8813.0           99   \n",
       "...            ...           ...             ...          ...          ...   \n",
       "9500     36.300678     36.300366    29272.711603       9119.0           34   \n",
       "9600     36.499494     36.500350    30635.242199      11007.0           50   \n",
       "9700     37.236361     37.236586    33436.003331       7035.0           50   \n",
       "9800     37.528815     37.529910    33399.804464       5888.0          100   \n",
       "9900     34.116916     34.115348    23857.600727       5035.0           34   \n",
       "\n",
       "                ppf          pr  \n",
       "0     834045.771760  305.935717  \n",
       "100   665411.365610  301.840799  \n",
       "200   707865.008407  309.432759  \n",
       "300   661607.838265  302.966963  \n",
       "400   682763.982800  296.289311  \n",
       "...             ...         ...  \n",
       "9500  694800.836888  303.204767  \n",
       "9600  853351.979814  298.469491  \n",
       "9700  747473.524669  298.915287  \n",
       "9800  796302.890944  294.023938  \n",
       "9900  830995.127477  310.439453  \n",
       "\n",
       "[100 rows x 18 columns]"
      ]
     },
     "execution_count": 224,
     "metadata": {},
     "output_type": "execute_result"
    }
   ],
   "source": [
    "data"
   ]
  },
  {
   "cell_type": "code",
   "execution_count": null,
   "metadata": {},
   "outputs": [],
   "source": [
    "big_df.head()"
   ]
  },
  {
   "cell_type": "code",
   "execution_count": null,
   "metadata": {},
   "outputs": [],
   "source": [
    "sns.scatterplot(data=big_df, x=\"easting\", y=\"northing\", hue=\"northing\")\n",
    "plt.ylabel(\"Northing\")\n",
    "plt.xlabel(\"Easting\")\n",
    "plt.title(\"Location of Horizontal wells, starting position\")\n",
    "plt.legend('', frameon=False) # remove the legend\n",
    "plt.show()"
   ]
  },
  {
   "cell_type": "code",
   "execution_count": null,
   "metadata": {},
   "outputs": [],
   "source": [
    "big_df.groupby([\"Name\"])"
   ]
  },
  {
   "cell_type": "markdown",
   "metadata": {},
   "source": [
    "Change in water saturation"
   ]
  }
 ],
 "metadata": {
  "kernelspec": {
   "display_name": "Python 3",
   "language": "python",
   "name": "python3"
  },
  "language_info": {
   "codemirror_mode": {
    "name": "ipython",
    "version": 3
   },
   "file_extension": ".py",
   "mimetype": "text/x-python",
   "name": "python",
   "nbconvert_exporter": "python",
   "pygments_lexer": "ipython3",
   "version": "3.8.5"
  }
 },
 "nbformat": 4,
 "nbformat_minor": 4
}
