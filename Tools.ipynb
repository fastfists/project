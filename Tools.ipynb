{
 "cells": [
  {
   "cell_type": "code",
   "execution_count": 109,
   "metadata": {},
   "outputs": [],
   "source": [
    "import glob\n",
    "import pandas as pd"
   ]
  },
  {
   "cell_type": "code",
   "execution_count": 110,
   "metadata": {},
   "outputs": [],
   "source": [
    "well_productions = pd.read_csv(\"well productions/well production.csv\")"
   ]
  },
  {
   "cell_type": "code",
   "execution_count": 111,
   "metadata": {},
   "outputs": [
    {
     "data": {
      "text/plain": [
       "Index(['Unnamed: 0', 'well name', 'average pressure (Pa)', 'oil 1', 'oil 2',\n",
       "       'oil 3', 'oil 4', 'oil 5', 'oil 6', 'oil 7', 'oil 8', 'oil 9', 'oil 10',\n",
       "       'oil 11', 'oil 12', 'water 1', 'water 2', 'water 3', 'water 4',\n",
       "       'water 5', 'water 6', 'water 7', 'water 8', 'water 9', 'water 10',\n",
       "       'water 11', 'water 12'],\n",
       "      dtype='object')"
      ]
     },
     "execution_count": 111,
     "metadata": {},
     "output_type": "execute_result"
    }
   ],
   "source": [
    "well_productions.keys().unique()"
   ]
  },
  {
   "cell_type": "markdown",
   "metadata": {},
   "source": [
    "### Read in all the datas"
   ]
  },
  {
   "cell_type": "code",
   "execution_count": 112,
   "metadata": {},
   "outputs": [],
   "source": [
    "import csv\n",
    "datas = []\n",
    "for file in glob.glob(\"well productions/*\"):\n",
    "    if \"well production.csv\" not in file:\n",
    "        frame = pd.read_csv(file)\n",
    "        # Strip off the extra things on the end\n",
    "        frame[\"Name\"] = file[17:-4]\n",
    "        datas.append(frame)"
   ]
  },
  {
   "cell_type": "code",
   "execution_count": 113,
   "metadata": {},
   "outputs": [],
   "source": [
    "def well_length(dataframe: pd.DataFrame):\n",
    "    dataframe[\"well length\"] = dataframe[\"easting\"].iloc[-1] - dataframe[\"easting\"][0]"
   ]
  },
  {
   "cell_type": "code",
   "execution_count": 114,
   "metadata": {},
   "outputs": [],
   "source": [
    "def frac_stages(dataframe : pd.DataFrame):\n",
    "    dataframe[\"frac stages\"] = dataframe[dataframe[\"proppant weight (lbs)\"].isna() == False].shape[0]"
   ]
  },
  {
   "cell_type": "code",
   "execution_count": 115,
   "metadata": {},
   "outputs": [],
   "source": [
    "\"\"\"\n",
    "Sets a proppant per stage as \"ppf\" defaults to the maximum weight\n",
    "\"\"\"\n",
    "def propant_per_stage(dataframe: pd.DataFrame, find_min=False):\n",
    "    if find_min:\n",
    "        val = min(dataframe[\"proppant weight (lbs)\"])\n",
    "    else:\n",
    "        val = max(dataframe[\"proppant weight (lbs)\"])\n",
    "    dataframe[\"ppf\"] = val"
   ]
  },
  {
   "cell_type": "code",
   "execution_count": 116,
   "metadata": {},
   "outputs": [],
   "source": [
    "\"\"\"\n",
    "Sets a pump rate as \"pr\" defaults to the maximum weight\n",
    "\"\"\"\n",
    "def pump_rate(dataframe: pd.DataFrame, find_min=False):\n",
    "    if find_min:\n",
    "        val = min(dataframe[\"pump rate (cubic feet/min)\"])\n",
    "    else:\n",
    "        val = max(dataframe[\"pump rate (cubic feet/min)\"])\n",
    "    dataframe[\"pr\"] = val"
   ]
  },
  {
   "cell_type": "code",
   "execution_count": 117,
   "metadata": {},
   "outputs": [],
   "source": [
    "def original_oil_in_place(dataframe: pd.DataFrame):\n",
    "    val = 0\n",
    "    row = well_productions[well_productions[\"well name\"] == dataframe[\"Name\"][0]];\n",
    "    for i in range(12):\n",
    "        print(row)\n",
    "        val += row[f\"oil {i+1}\"][row.index[0]]\n",
    "    print(val)\n",
    "    dataframe[\"ooip\"] = val"
   ]
  },
  {
   "cell_type": "code",
   "execution_count": 119,
   "metadata": {},
   "outputs": [],
   "source": [
    "def find_prodcution(dataframe: pd.DataFrame):\n",
    "    pass"
   ]
  },
  {
   "cell_type": "code",
   "execution_count": 123,
   "metadata": {},
   "outputs": [],
   "source": [
    "%%capture\n",
    "list(map(well_length, datas))\n",
    "list(map(frac_stages, datas))"
   ]
  },
  {
   "cell_type": "markdown",
   "metadata": {},
   "source": [
    "# optional"
   ]
  },
  {
   "cell_type": "code",
   "execution_count": 124,
   "metadata": {},
   "outputs": [],
   "source": [
    "%%capture\n",
    "list(map(propant_per_stage, datas))\n",
    "list(map(pump_rate, datas))\n",
    "list(map(original_oil_in_place, datas))"
   ]
  },
  {
   "cell_type": "code",
   "execution_count": 127,
   "metadata": {},
   "outputs": [
    {
     "data": {
      "text/html": [
       "<div>\n",
       "<style scoped>\n",
       "    .dataframe tbody tr th:only-of-type {\n",
       "        vertical-align: middle;\n",
       "    }\n",
       "\n",
       "    .dataframe tbody tr th {\n",
       "        vertical-align: top;\n",
       "    }\n",
       "\n",
       "    .dataframe thead th {\n",
       "        text-align: right;\n",
       "    }\n",
       "</style>\n",
       "<table border=\"1\" class=\"dataframe\">\n",
       "  <thead>\n",
       "    <tr style=\"text-align: right;\">\n",
       "      <th></th>\n",
       "      <th>easting</th>\n",
       "      <th>northing</th>\n",
       "      <th>porosity</th>\n",
       "      <th>permeability</th>\n",
       "      <th>Poisson's ratio</th>\n",
       "      <th>Young's Modulus</th>\n",
       "      <th>water saturation</th>\n",
       "      <th>oil saturation</th>\n",
       "      <th>proppant weight (lbs)</th>\n",
       "      <th>pump rate (cubic feet/min)</th>\n",
       "      <th>Name</th>\n",
       "      <th>well length</th>\n",
       "      <th>frac stages</th>\n",
       "      <th>ppf</th>\n",
       "      <th>pr</th>\n",
       "      <th>ooip</th>\n",
       "    </tr>\n",
       "  </thead>\n",
       "  <tbody>\n",
       "    <tr>\n",
       "      <th>0</th>\n",
       "      <td>17800.0</td>\n",
       "      <td>32000.0</td>\n",
       "      <td>0.06</td>\n",
       "      <td>0.013</td>\n",
       "      <td>0.343</td>\n",
       "      <td>8571815.554</td>\n",
       "      <td>0.298794</td>\n",
       "      <td>0.701206</td>\n",
       "      <td>914250.711822</td>\n",
       "      <td>293.505526</td>\n",
       "      <td>King 13-215H</td>\n",
       "      <td>8287.0</td>\n",
       "      <td>50</td>\n",
       "      <td>1.868440e+06</td>\n",
       "      <td>444.169067</td>\n",
       "      <td>21044.0</td>\n",
       "    </tr>\n",
       "    <tr>\n",
       "      <th>1</th>\n",
       "      <td>17884.0</td>\n",
       "      <td>32000.0</td>\n",
       "      <td>0.03</td>\n",
       "      <td>0.004</td>\n",
       "      <td>0.342</td>\n",
       "      <td>8575147.843</td>\n",
       "      <td>0.298302</td>\n",
       "      <td>0.701698</td>\n",
       "      <td>NaN</td>\n",
       "      <td>NaN</td>\n",
       "      <td>King 13-215H</td>\n",
       "      <td>8287.0</td>\n",
       "      <td>50</td>\n",
       "      <td>1.868440e+06</td>\n",
       "      <td>444.169067</td>\n",
       "      <td>21044.0</td>\n",
       "    </tr>\n",
       "    <tr>\n",
       "      <th>2</th>\n",
       "      <td>17967.0</td>\n",
       "      <td>32000.0</td>\n",
       "      <td>0.07</td>\n",
       "      <td>0.014</td>\n",
       "      <td>0.342</td>\n",
       "      <td>8578513.495</td>\n",
       "      <td>0.297809</td>\n",
       "      <td>0.702191</td>\n",
       "      <td>766504.833089</td>\n",
       "      <td>332.999687</td>\n",
       "      <td>King 13-215H</td>\n",
       "      <td>8287.0</td>\n",
       "      <td>50</td>\n",
       "      <td>1.868440e+06</td>\n",
       "      <td>444.169067</td>\n",
       "      <td>21044.0</td>\n",
       "    </tr>\n",
       "    <tr>\n",
       "      <th>3</th>\n",
       "      <td>18051.0</td>\n",
       "      <td>32000.0</td>\n",
       "      <td>0.05</td>\n",
       "      <td>0.009</td>\n",
       "      <td>0.342</td>\n",
       "      <td>8581912.131</td>\n",
       "      <td>0.297315</td>\n",
       "      <td>0.702685</td>\n",
       "      <td>NaN</td>\n",
       "      <td>NaN</td>\n",
       "      <td>King 13-215H</td>\n",
       "      <td>8287.0</td>\n",
       "      <td>50</td>\n",
       "      <td>1.868440e+06</td>\n",
       "      <td>444.169067</td>\n",
       "      <td>21044.0</td>\n",
       "    </tr>\n",
       "    <tr>\n",
       "      <th>4</th>\n",
       "      <td>18135.0</td>\n",
       "      <td>32000.0</td>\n",
       "      <td>0.05</td>\n",
       "      <td>0.009</td>\n",
       "      <td>0.342</td>\n",
       "      <td>8581912.131</td>\n",
       "      <td>0.297315</td>\n",
       "      <td>0.702685</td>\n",
       "      <td>892244.676936</td>\n",
       "      <td>339.172010</td>\n",
       "      <td>King 13-215H</td>\n",
       "      <td>8287.0</td>\n",
       "      <td>50</td>\n",
       "      <td>1.868440e+06</td>\n",
       "      <td>444.169067</td>\n",
       "      <td>21044.0</td>\n",
       "    </tr>\n",
       "  </tbody>\n",
       "</table>\n",
       "</div>"
      ],
      "text/plain": [
       "   easting  northing  porosity  permeability  Poisson's ratio  \\\n",
       "0  17800.0   32000.0      0.06         0.013            0.343   \n",
       "1  17884.0   32000.0      0.03         0.004            0.342   \n",
       "2  17967.0   32000.0      0.07         0.014            0.342   \n",
       "3  18051.0   32000.0      0.05         0.009            0.342   \n",
       "4  18135.0   32000.0      0.05         0.009            0.342   \n",
       "\n",
       "   Young's Modulus  water saturation  oil saturation  proppant weight (lbs)  \\\n",
       "0      8571815.554          0.298794        0.701206          914250.711822   \n",
       "1      8575147.843          0.298302        0.701698                    NaN   \n",
       "2      8578513.495          0.297809        0.702191          766504.833089   \n",
       "3      8581912.131          0.297315        0.702685                    NaN   \n",
       "4      8581912.131          0.297315        0.702685          892244.676936   \n",
       "\n",
       "   pump rate (cubic feet/min)          Name  well length  frac stages  \\\n",
       "0                  293.505526  King 13-215H       8287.0           50   \n",
       "1                         NaN  King 13-215H       8287.0           50   \n",
       "2                  332.999687  King 13-215H       8287.0           50   \n",
       "3                         NaN  King 13-215H       8287.0           50   \n",
       "4                  339.172010  King 13-215H       8287.0           50   \n",
       "\n",
       "            ppf          pr     ooip  \n",
       "0  1.868440e+06  444.169067  21044.0  \n",
       "1  1.868440e+06  444.169067  21044.0  \n",
       "2  1.868440e+06  444.169067  21044.0  \n",
       "3  1.868440e+06  444.169067  21044.0  \n",
       "4  1.868440e+06  444.169067  21044.0  "
      ]
     },
     "execution_count": 127,
     "metadata": {},
     "output_type": "execute_result"
    }
   ],
   "source": [
    "datas[0].head()"
   ]
  },
  {
   "cell_type": "code",
   "execution_count": 105,
   "metadata": {},
   "outputs": [],
   "source": [
    "big_df = pd.concat(datas)"
   ]
  },
  {
   "cell_type": "code",
   "execution_count": 106,
   "metadata": {},
   "outputs": [],
   "source": [
    "big_df.to_csv(\"bigPoppa.csv\", index=False)"
   ]
  },
  {
   "cell_type": "code",
   "execution_count": 107,
   "metadata": {},
   "outputs": [],
   "source": [
    "test = pd.read_csv(\"bigPoppa.csv\")"
   ]
  },
  {
   "cell_type": "code",
   "execution_count": null,
   "metadata": {},
   "outputs": [],
   "source": []
  }
 ],
 "metadata": {
  "kernelspec": {
   "display_name": "Python 3",
   "language": "python",
   "name": "python3"
  },
  "language_info": {
   "codemirror_mode": {
    "name": "ipython",
    "version": 3
   },
   "file_extension": ".py",
   "mimetype": "text/x-python",
   "name": "python",
   "nbconvert_exporter": "python",
   "pygments_lexer": "ipython3",
   "version": "3.8.5"
  }
 },
 "nbformat": 4,
 "nbformat_minor": 4
}
